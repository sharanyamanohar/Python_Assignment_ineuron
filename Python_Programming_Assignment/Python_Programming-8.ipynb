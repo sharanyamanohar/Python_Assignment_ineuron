{
 "cells": [
  {
   "cell_type": "markdown",
   "id": "5eb20c37",
   "metadata": {},
   "source": [
    "## Sharanya Assignment -8 "
   ]
  },
  {
   "cell_type": "code",
   "execution_count": 8,
   "id": "cd1042a3",
   "metadata": {},
   "outputs": [],
   "source": [
    "import numpy as np"
   ]
  },
  {
   "cell_type": "code",
   "execution_count": 15,
   "id": "46ebbca2",
   "metadata": {},
   "outputs": [
    {
     "name": "stdout",
     "output_type": "stream",
     "text": [
      "The addition of matrix\n",
      "[[ 7  9 11]\n",
      " [ 5  7  9]]\n"
     ]
    }
   ],
   "source": [
    "#1.Write a Python Program to Add Two Matrices?\n",
    "\n",
    "a=np.array([[1,2,3],\n",
    "            [4,5,6]])\n",
    "b=np.array([[6,7,8],\n",
    "            [1,2,3]])\n",
    "c=a+b\n",
    "print(\"The addition of matrix\")\n",
    "print(c)"
   ]
  },
  {
   "cell_type": "code",
   "execution_count": 19,
   "id": "db9b8995",
   "metadata": {},
   "outputs": [
    {
     "name": "stdout",
     "output_type": "stream",
     "text": [
      "The multiplication of matrix\n",
      "[[ 8 11]\n",
      " [29 38]]\n"
     ]
    }
   ],
   "source": [
    "#2. Write a Python Program to Multiply Two Matrices?\n",
    "\n",
    "a=np.array([[1,2],\n",
    "            [4,5]])\n",
    "b=np.array([[6,7],\n",
    "            [1,2]])\n",
    "c=a.dot(b)\n",
    "print(\"The multiplication of matrix\")\n",
    "print(c)"
   ]
  },
  {
   "cell_type": "code",
   "execution_count": 20,
   "id": "0ace3942",
   "metadata": {},
   "outputs": [
    {
     "name": "stdout",
     "output_type": "stream",
     "text": [
      "The transpose of the matrix\n",
      "[[1 4]\n",
      " [2 5]\n",
      " [3 6]]\n"
     ]
    }
   ],
   "source": [
    "#3. Write a Python Program to Transpose a Matrix?\n",
    "\n",
    "a=np.array([[1,2,3],\n",
    "            [4,5,6]])\n",
    "a=a.transpose()\n",
    "print(\"The transpose of the matrix\")\n",
    "print(a)"
   ]
  },
  {
   "cell_type": "code",
   "execution_count": 35,
   "id": "82fef73f",
   "metadata": {},
   "outputs": [
    {
     "name": "stdout",
     "output_type": "stream",
     "text": [
      "alphabetically arranging code everyone for hello here is it my on order\n"
     ]
    }
   ],
   "source": [
    "#4. Write a Python Program to Sort Words in Alphabetic Order?\n",
    "\n",
    "s=\"Hello everyone here is my code for arranging it on alphabetically order\"\n",
    "s1=s.split(\" \")\n",
    "for i in range(len(s1)):\n",
    "    s1[i]=s1[i].lower()\n",
    "s=sorted(s1)\n",
    "print(' '.join(s))"
   ]
  },
  {
   "cell_type": "code",
   "execution_count": 64,
   "id": "dc8fee82",
   "metadata": {},
   "outputs": [
    {
     "name": "stdout",
     "output_type": "stream",
     "text": [
      "hello everyone here we write code\n"
     ]
    }
   ],
   "source": [
    "#5. Write a Python Program to Remove Punctuation From a String?\n",
    "\n",
    "punctuations = '''!()-[]{};:'\"\\,<>./?@#$%^&*_~'''\n",
    "s=\"hello everyone!! here, we write code.\"\n",
    "s1=\"\"\n",
    "\n",
    "for i in s:\n",
    "   if i not in punctuations:\n",
    "       s1= s1 + i\n",
    "print(s1)"
   ]
  }
 ],
 "metadata": {
  "kernelspec": {
   "display_name": "Python 3 (ipykernel)",
   "language": "python",
   "name": "python3"
  },
  "language_info": {
   "codemirror_mode": {
    "name": "ipython",
    "version": 3
   },
   "file_extension": ".py",
   "mimetype": "text/x-python",
   "name": "python",
   "nbconvert_exporter": "python",
   "pygments_lexer": "ipython3",
   "version": "3.9.12"
  }
 },
 "nbformat": 4,
 "nbformat_minor": 5
}
