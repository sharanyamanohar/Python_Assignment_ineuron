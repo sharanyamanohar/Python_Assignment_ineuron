{
 "cells": [
  {
   "cell_type": "markdown",
   "id": "d08823b7",
   "metadata": {},
   "source": [
    "# Sharanya Python_Programming-assignment6"
   ]
  },
  {
   "cell_type": "markdown",
   "id": "8515918c",
   "metadata": {},
   "source": [
    "1.Write a Python Program to Display Fibonacci Sequence Using Recursion?"
   ]
  },
  {
   "cell_type": "code",
   "execution_count": 17,
   "id": "3bd6725e",
   "metadata": {},
   "outputs": [
    {
     "name": "stdout",
     "output_type": "stream",
     "text": [
      "0,1,1,2,3,5,8,13,21,34,"
     ]
    }
   ],
   "source": [
    "n = 3\n",
    "a = 0\n",
    "b = 1\n",
    "def fibo(n):\n",
    "    if n==0:\n",
    "        return 0\n",
    "    elif n==1:\n",
    "        return 1\n",
    "    else:\n",
    "        return fibo(n-1)+fibo(n-2)\n",
    "\n",
    "for i in range(10):\n",
    "    print(fibo(i),end=\",\")\n",
    "#fibo(3)"
   ]
  },
  {
   "cell_type": "markdown",
   "id": "819c09f8",
   "metadata": {},
   "source": [
    "2. Write a Python Program to Find Factorial of Number Using Recursion?"
   ]
  },
  {
   "cell_type": "code",
   "execution_count": 22,
   "id": "9f9c1319",
   "metadata": {},
   "outputs": [
    {
     "data": {
      "text/plain": [
       "120"
      ]
     },
     "execution_count": 22,
     "metadata": {},
     "output_type": "execute_result"
    }
   ],
   "source": [
    "def fact(n):\n",
    "    a=1\n",
    "    if n==1:\n",
    "        return 1\n",
    "    else:\n",
    "        a*=n\n",
    "        return a * fact(n-1)\n",
    "    #facto(n-1)\n",
    "fact(5)    "
   ]
  },
  {
   "cell_type": "markdown",
   "id": "8769cabc",
   "metadata": {},
   "source": [
    "3. Write a Python Program to calculate your Body Mass Index?"
   ]
  },
  {
   "cell_type": "code",
   "execution_count": 1,
   "id": "70e92fc0",
   "metadata": {},
   "outputs": [
    {
     "name": "stdout",
     "output_type": "stream",
     "text": [
      "Enter your weight in kg:60\n",
      "Enter a height in metre1.52\n",
      "25.969529085872576\n"
     ]
    }
   ],
   "source": [
    "weight=float(input(\"Enter your weight in kg:\"))\n",
    "height=float(input(\"Enter a height in metre:\"))\n",
    "BMI=weight/height**2\n",
    "print(BMI)"
   ]
  },
  {
   "cell_type": "markdown",
   "id": "1dad8e5b",
   "metadata": {},
   "source": [
    "4. Write a Python Program to calculate the natural logarithm of any number?"
   ]
  },
  {
   "cell_type": "code",
   "execution_count": 2,
   "id": "c945e449",
   "metadata": {},
   "outputs": [
    {
     "name": "stdout",
     "output_type": "stream",
     "text": [
      "Enter a values to check the natural log100.12\n",
      "math.log(n) :  4.6063694665635735\n"
     ]
    }
   ],
   "source": [
    "import math  \n",
    "n=float(input(\"Enter a values to check the natural log\"))\n",
    "print (\"The log values is: \", math.log(n))"
   ]
  },
  {
   "cell_type": "markdown",
   "id": "03b6ecea",
   "metadata": {},
   "source": [
    "5.Write a Python Program for cube sum of first n natural numbers?"
   ]
  },
  {
   "cell_type": "code",
   "execution_count": 23,
   "id": "e3fdb8fe",
   "metadata": {},
   "outputs": [
    {
     "name": "stdout",
     "output_type": "stream",
     "text": [
      "enter a sum of the number2\n",
      "9\n"
     ]
    }
   ],
   "source": [
    "n=int(input('enter a sum of the number'))\n",
    "print(int(n*(n+1)/2)**2)"
   ]
  }
 ],
 "metadata": {
  "kernelspec": {
   "display_name": "Python 3 (ipykernel)",
   "language": "python",
   "name": "python3"
  },
  "language_info": {
   "codemirror_mode": {
    "name": "ipython",
    "version": 3
   },
   "file_extension": ".py",
   "mimetype": "text/x-python",
   "name": "python",
   "nbconvert_exporter": "python",
   "pygments_lexer": "ipython3",
   "version": "3.9.12"
  }
 },
 "nbformat": 4,
 "nbformat_minor": 5
}
