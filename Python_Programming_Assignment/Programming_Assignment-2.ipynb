{
 "cells": [
  {
   "cell_type": "markdown",
   "id": "bfe37c6c",
   "metadata": {},
   "source": [
    "# M.Sharanya Programming_Assignment-2"
   ]
  },
  {
   "cell_type": "markdown",
   "id": "d9e52a8b",
   "metadata": {},
   "source": [
    "Question-1)Write a Python program to convert kilometers to miles?"
   ]
  },
  {
   "cell_type": "code",
   "execution_count": 1,
   "id": "950b0bc0",
   "metadata": {},
   "outputs": [
    {
     "name": "stdout",
     "output_type": "stream",
     "text": [
      "Enter value in kilometers: 234567\n",
      "The mile is: 145753.131357\n"
     ]
    }
   ],
   "source": [
    "kilometers = float(input(\"Enter value in kilometers: \"))\n",
    "conversion_factor = 0.621371\n",
    "miles = kilometers * conversion_factor\n",
    "print(\"The mile is:\",miles)"
   ]
  },
  {
   "cell_type": "markdown",
   "id": "ca1ddfdb",
   "metadata": {},
   "source": [
    "Question-2)Write a Python program to convert Celsius to Fahrenheit?"
   ]
  },
  {
   "cell_type": "code",
   "execution_count": 2,
   "id": "1abc570e",
   "metadata": {},
   "outputs": [
    {
     "name": "stdout",
     "output_type": "stream",
     "text": [
      "Temperature value in degree Celsius: 2345\n",
      "The Fahreneheit is 4253.0\n"
     ]
    }
   ],
   "source": [
    "celsius = float(input(\"Temperature value in degree Celsius: \" ))\n",
    "Fahrenheit = (celsius * 1.8) + 32  \n",
    "print(\"The Fahreneheit is\",Fahrenheit)"
   ]
  },
  {
   "cell_type": "markdown",
   "id": "03b5c488",
   "metadata": {},
   "source": [
    "Question-3)Write a Python program to display calendar?"
   ]
  },
  {
   "cell_type": "code",
   "execution_count": 6,
   "id": "c42a2b14",
   "metadata": {},
   "outputs": [
    {
     "name": "stdout",
     "output_type": "stream",
     "text": [
      "Enter year: 2022\n",
      "Enter month: 8\n",
      "    August 2022\n",
      "Mo Tu We Th Fr Sa Su\n",
      " 1  2  3  4  5  6  7\n",
      " 8  9 10 11 12 13 14\n",
      "15 16 17 18 19 20 21\n",
      "22 23 24 25 26 27 28\n",
      "29 30 31\n",
      "\n"
     ]
    }
   ],
   "source": [
    "import calendar\n",
    "year = int(input(\"Enter year: \"))\n",
    "month = int(input(\"Enter month: \"))\n",
    "print(calendar.month(year, month))"
   ]
  },
  {
   "cell_type": "markdown",
   "id": "667546e1",
   "metadata": {},
   "source": [
    "Question-4)Write a Python program to solve quadratic equation?"
   ]
  },
  {
   "cell_type": "code",
   "execution_count": 8,
   "id": "6d72929f",
   "metadata": {},
   "outputs": [
    {
     "name": "stdout",
     "output_type": "stream",
     "text": [
      "Enter a values which carries variable as x^2:2\n",
      "Enter a values which carries variable as x:4\n",
      "Enter a values which carries coefficient only:5\n",
      "The root are (-1-1.224744871391589j) (-1+1.224744871391589j)\n"
     ]
    }
   ],
   "source": [
    "import cmath\n",
    "a=int(input(\"Enter a values which carries variable as x^2:\"))\n",
    "b=int(input(\"Enter a values which carries variable as x:\"))\n",
    "c=int(input(\"Enter a values which carries coefficient only:\"))\n",
    "d = (b**2) - (4*a*c)\n",
    "sol1 = (-b-cmath.sqrt(d))/(2*a)\n",
    "sol2 = (-b+cmath.sqrt(d))/(2*a)\n",
    "print(\"The root are\",sol1,sol2)"
   ]
  },
  {
   "cell_type": "markdown",
   "id": "20146d32",
   "metadata": {},
   "source": [
    "Question-5)Write a Python program to swap two variables without temp variable?"
   ]
  },
  {
   "cell_type": "code",
   "execution_count": null,
   "id": "5b8bcfe8",
   "metadata": {},
   "outputs": [],
   "source": [
    "x=int(input(\"Enter a 1st number:\"))\n",
    "y=int(input(\"Enter a 2nd number:\"))\n",
    "x,y=y,x\n",
    "print(\"After swaping print x and y\", x,  y)"
   ]
  },
  {
   "cell_type": "code",
   "execution_count": 9,
   "id": "6509966c",
   "metadata": {},
   "outputs": [
    {
     "name": "stdout",
     "output_type": "stream",
     "text": [
      "python"
     ]
    }
   ],
   "source": [
    "x=\"python\"\n",
    "i=\"i\"\n",
    "for i in x:\n",
    "    print(i,end=\"\")"
   ]
  }
 ],
 "metadata": {
  "kernelspec": {
   "display_name": "Python 3 (ipykernel)",
   "language": "python",
   "name": "python3"
  },
  "language_info": {
   "codemirror_mode": {
    "name": "ipython",
    "version": 3
   },
   "file_extension": ".py",
   "mimetype": "text/x-python",
   "name": "python",
   "nbconvert_exporter": "python",
   "pygments_lexer": "ipython3",
   "version": "3.9.12"
  }
 },
 "nbformat": 4,
 "nbformat_minor": 5
}
