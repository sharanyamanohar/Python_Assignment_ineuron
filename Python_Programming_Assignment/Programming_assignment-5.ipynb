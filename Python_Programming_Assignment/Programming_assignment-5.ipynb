{
 "cells": [
  {
   "cell_type": "markdown",
   "id": "f713d9b4",
   "metadata": {},
   "source": [
    "# Programming_assignment-5"
   ]
  },
  {
   "cell_type": "raw",
   "id": "60df7463",
   "metadata": {},
   "source": [
    "Question-1). Write a Python Program to Find LCM?"
   ]
  },
  {
   "cell_type": "code",
   "execution_count": 1,
   "id": "a46dd800",
   "metadata": {},
   "outputs": [
    {
     "name": "stdout",
     "output_type": "stream",
     "text": [
      "Enter First Number : 34\n",
      "Enter Second Number : 34\n",
      "34\n"
     ]
    }
   ],
   "source": [
    "p = int(input(\"Enter First Number : \"))\n",
    "q = int(input(\"Enter Second Number : \"))\n",
    "a = 0\n",
    "for i in range(1,q+1):\n",
    "    if (i*p)%q == 0:\n",
    "        a += (i*p)\n",
    "        break\n",
    "print(a)"
   ]
  },
  {
   "cell_type": "markdown",
   "id": "eb6e6716",
   "metadata": {},
   "source": [
    "2. Write a Python Program to Find HCF"
   ]
  },
  {
   "cell_type": "code",
   "execution_count": 5,
   "id": "612c63c5",
   "metadata": {},
   "outputs": [
    {
     "name": "stdout",
     "output_type": "stream",
     "text": [
      "Enter First Number : 34\n",
      "Enter Second Number : 34\n",
      "34 is the HCF of 34 and 34\n"
     ]
    }
   ],
   "source": [
    "p = int(input(\"Enter First Number : \"))\n",
    "q = int(input(\"Enter Second Number : \"))\n",
    "l = [p,q]\n",
    "l.sort()\n",
    "l1 = [p,q]\n",
    "l1.sort()\n",
    "for i in range(0,l[0]):\n",
    "\n",
    "    if l[1]%l[0]==0 :\n",
    "        if l1[0]%l[0]==0 :\n",
    "            print(f\"{l[0]} is the HCF of {p} and {q}\")\n",
    "            break\n",
    "        else : \n",
    "            l[0]=l[0]-1\n",
    "\n",
    "    else :\n",
    "        l[0]=l[0]-1"
   ]
  },
  {
   "cell_type": "markdown",
   "id": "cacbd62e",
   "metadata": {},
   "source": [
    "3. Write a Python Program to Convert Decimal to Binary, Octal and Hexadecimal"
   ]
  },
  {
   "cell_type": "code",
   "execution_count": 6,
   "id": "f939f755",
   "metadata": {},
   "outputs": [
    {
     "name": "stdout",
     "output_type": "stream",
     "text": [
      "Enter a number to Convert Decimal to Binary1603\n",
      "11001000011\n"
     ]
    }
   ],
   "source": [
    "# Code to convert decimal to binary\n",
    "n=int(input(\"Enter a number to Convert Decimal to Binary : \"))\n",
    "l = []\n",
    "for i in range(1,n+1):\n",
    "    if n == 0:\n",
    "        break\n",
    "    else:\n",
    "        \n",
    "        l.append(n%2)\n",
    "        n = n//2\n",
    "\n",
    "l.reverse()\n",
    "a = ''\n",
    "for i in l:\n",
    "    a += str(i)\n",
    "    \n",
    "print(a)"
   ]
  },
  {
   "cell_type": "code",
   "execution_count": 7,
   "id": "095203ab",
   "metadata": {},
   "outputs": [
    {
     "name": "stdout",
     "output_type": "stream",
     "text": [
      "Enter a number to Convert Decimal to Octal1792\n",
      "3400\n"
     ]
    }
   ],
   "source": [
    "# Code to convert decimal to Octal\n",
    "n=int(input(\"Enter a number to Convert Decimal to Octal : \"))\n",
    "l = []\n",
    "for i in range(1,n+1):\n",
    "    if n == 0:\n",
    "        break\n",
    "    else:\n",
    "        \n",
    "        l.append(n%8)\n",
    "        n = n//8\n",
    "\n",
    "l.reverse()\n",
    "a = ''\n",
    "for i in l:\n",
    "    a += str(i)\n",
    "    \n",
    "print(a)"
   ]
  },
  {
   "cell_type": "code",
   "execution_count": 11,
   "id": "14776fd5",
   "metadata": {
    "scrolled": true
   },
   "outputs": [
    {
     "name": "stdout",
     "output_type": "stream",
     "text": [
      "Enter a number to Convert Decimal to Hexadecimal : 6096\n",
      "017D0\n"
     ]
    }
   ],
   "source": [
    "# Code to convert decimal to Hexadecimal\n",
    "n=int(input(\"Enter a number to Convert Decimal to Hexadecimal : \"))\n",
    "l = []\n",
    "\n",
    "x = 'ABCDEF'\n",
    "for i in range(1,n+1):\n",
    "    y = ''\n",
    "    if n == 0:\n",
    "        l.append(n)\n",
    "        break\n",
    "    else:\n",
    "        if n%16 >= 10 :\n",
    "            y += x[(n%16)-10]\n",
    "            l.append(y)\n",
    "            n = n//16\n",
    "        else :\n",
    "            l.append(n%16)\n",
    "            n = n//16\n",
    "\n",
    "l.reverse()\n",
    "a = ''\n",
    "for i in l:\n",
    "    a += str(i)\n",
    "    \n",
    "print(a)"
   ]
  },
  {
   "cell_type": "markdown",
   "id": "cff0af3a",
   "metadata": {},
   "source": [
    "4. Write a Python Program To Find ASCII value of a character?"
   ]
  },
  {
   "cell_type": "code",
   "execution_count": 31,
   "id": "ed623474",
   "metadata": {},
   "outputs": [
    {
     "name": "stdout",
     "output_type": "stream",
     "text": [
      "Enter your Alphabet here : c\n",
      "ASCII value of c is :  99\n"
     ]
    }
   ],
   "source": [
    "C = 'ABCDEFGHIJKLMNOPQRSTUVWXYZ'\n",
    "lc = C.lower()\n",
    "\n",
    "x = input(\"Enter your Alphabet here : \")\n",
    "for i in range(26):\n",
    "    if x in C:\n",
    "        print(f\"ASCII value of {x} is : \" , C.index(x)+65)\n",
    "        \n",
    "    elif x in lc:\n",
    "        print(f\"ASCII value of {x} is : \" , lc.index(x)+97)\n",
    "        \n",
    "    else : \n",
    "        print(\"Enter a valid character\")\n",
    "    break"
   ]
  },
  {
   "cell_type": "markdown",
   "id": "3365eebd",
   "metadata": {},
   "source": [
    "5. Write a Python Program to Make a Simple Calculator with 4 basic mathematical operations?"
   ]
  },
  {
   "cell_type": "code",
   "execution_count": 32,
   "id": "9ab83dd7",
   "metadata": {},
   "outputs": [
    {
     "name": "stdout",
     "output_type": "stream",
     "text": [
      "Enter a 1st number:5\n",
      "Enter a 2nd number:8\n",
      "Select a operation:add/sub/mul/div:mul\n",
      "40\n"
     ]
    }
   ],
   "source": [
    "a=int(input(\"Enter a 1st number:\"))\n",
    "b=int(input(\"Enter a 2nd number:\"))\n",
    "o=input(\"Select a operation:add/sub/mul/div:\")\n",
    "if o=='add':\n",
    "    print(a+b)\n",
    "if o=='sub':\n",
    "    print(a-b)\n",
    "if o=='mul':\n",
    "    print(a*b)\n",
    "if o=='div':\n",
    "    print(a/b)"
   ]
  }
 ],
 "metadata": {
  "kernelspec": {
   "display_name": "Python 3 (ipykernel)",
   "language": "python",
   "name": "python3"
  },
  "language_info": {
   "codemirror_mode": {
    "name": "ipython",
    "version": 3
   },
   "file_extension": ".py",
   "mimetype": "text/x-python",
   "name": "python",
   "nbconvert_exporter": "python",
   "pygments_lexer": "ipython3",
   "version": "3.9.12"
  }
 },
 "nbformat": 4,
 "nbformat_minor": 5
}
