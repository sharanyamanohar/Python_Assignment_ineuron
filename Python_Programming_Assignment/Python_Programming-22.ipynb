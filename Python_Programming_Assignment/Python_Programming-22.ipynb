{
 "cells": [
  {
   "cell_type": "markdown",
   "id": "6ead86d0",
   "metadata": {},
   "source": [
    "# Sharanya Manohar\n",
    "## Python Programming -22"
   ]
  },
  {
   "cell_type": "markdown",
   "id": "d8acdb34",
   "metadata": {},
   "source": [
    "Question1\n",
    "Create a function that takes three parameters where:\n",
    " x is the start of the range (inclusive).\n",
    " y is the end of the range (inclusive).\n",
    " n is the divisor to be checked against.\n",
    "Return an ordered list with numbers in the range that are divisible by the third parameter n.\n",
    "Return an empty list if there are no numbers that are divisible by n."
   ]
  },
  {
   "cell_type": "code",
   "execution_count": 84,
   "id": "b9ecd0ae",
   "metadata": {},
   "outputs": [
    {
     "data": {
      "text/plain": [
       "[3, 6, 9]"
      ]
     },
     "execution_count": 84,
     "metadata": {},
     "output_type": "execute_result"
    }
   ],
   "source": [
    "def fun(x,y,n):\n",
    "    l=[]\n",
    "    for i in range(x,y):\n",
    "        if i%n==0:\n",
    "            l.append(i)\n",
    "    return l\n",
    "fun(1,10,3)"
   ]
  },
  {
   "cell_type": "markdown",
   "id": "57922deb",
   "metadata": {},
   "source": [
    "Question2\n",
    "Create a function that takes in two lists and returns True if the second list follows the first list\n",
    "by one element, and False otherwise. In other words, determine if the second list is the first\n",
    "list shifted to the right by 1."
   ]
  },
  {
   "cell_type": "code",
   "execution_count": 91,
   "id": "3b2b6403",
   "metadata": {},
   "outputs": [
    {
     "name": "stdout",
     "output_type": "stream",
     "text": [
      "([1, 2], [5, 1]) ➞ True\n",
      "([1, 2], [5, 5]) ➞ False\n",
      "([1, 2, 3, 4, 5], [0, 1, 2, 3, 4]) ➞ True\n",
      "([1, 2, 3, 4, 5], [5, 5, 1, 2, 3]) ➞ False\n"
     ]
    }
   ],
   "source": [
    "def simon_says(in_list_1,in_list_2):\n",
    "    if len(in_list_1) == len(in_list_1) and len(in_list_1) >=2 and len(in_list_1) >=2:\n",
    "        if(in_list_1[:-1] == in_list_2[1:]):\n",
    "            print(f'{in_list_1,in_list_2} ➞ {True}')\n",
    "        else:\n",
    "            print(f'{in_list_1,in_list_2} ➞ {False}')\n",
    "            \n",
    "simon_says([1, 2], [5, 1])\n",
    "simon_says([1, 2], [5, 5])\n",
    "simon_says([1, 2, 3, 4, 5], [0, 1, 2, 3, 4])\n",
    "simon_says([1, 2, 3, 4, 5], [5, 5, 1, 2, 3])"
   ]
  },
  {
   "cell_type": "markdown",
   "id": "1a3a7261",
   "metadata": {},
   "source": [
    "Question3\n",
    "A group of friends have decided to start a secret society. The name will be the first letter of\n",
    "each of their names, sorted in alphabetical order.\n",
    "Create a function that takes in a list of names and returns the name of the secret society."
   ]
  },
  {
   "cell_type": "code",
   "execution_count": 82,
   "id": "7be5ef07",
   "metadata": {},
   "outputs": [
    {
     "data": {
      "text/plain": [
       "'AMS'"
      ]
     },
     "execution_count": 82,
     "metadata": {},
     "output_type": "execute_result"
    }
   ],
   "source": [
    "def society_name(l):\n",
    "    s=\"\"\n",
    "    for i in l:\n",
    "        s+=(i[0])\n",
    "    s1=\"\".join(sorted(s) )\n",
    "    return s1\n",
    "society_name([\"Adam\",\"Sarah\",\"Malcom\"])"
   ]
  },
  {
   "cell_type": "markdown",
   "id": "c411ef81",
   "metadata": {},
   "source": [
    "Question4\n",
    "An isogram is a word that has no duplicate letters. Create a function that takes a string and\n",
    "returns either True or False depending on whether or not it&#39;s an &quot;isogram&quot;."
   ]
  },
  {
   "cell_type": "code",
   "execution_count": 100,
   "id": "14aef61b",
   "metadata": {},
   "outputs": [
    {
     "name": "stdout",
     "output_type": "stream",
     "text": [
      "true\n"
     ]
    }
   ],
   "source": [
    "def is_isogram(s):\n",
    "    s1=set(s)\n",
    "    if len(s)==len(s1):\n",
    "        print(\"true\")\n",
    "    else:\n",
    "        print(\"false\")\n",
    "is_isogram(\"Algorism\")        "
   ]
  },
  {
   "cell_type": "markdown",
   "id": "cc0465a2",
   "metadata": {},
   "source": [
    "Question5\n",
    "Create a function that takes a string and returns True or False, depending on whether the\n",
    "characters are in order or not."
   ]
  },
  {
   "cell_type": "code",
   "execution_count": 104,
   "id": "422ee89e",
   "metadata": {},
   "outputs": [
    {
     "name": "stdout",
     "output_type": "stream",
     "text": [
      "abc ➞ True\n",
      "edabit ➞ False\n"
     ]
    }
   ],
   "source": [
    "def is_in_order(in_string):\n",
    "    in_string_sorted = ''.join(sorted(in_string))\n",
    "    if in_string == in_string_sorted:\n",
    "        print(f'{in_string} ➞ {True}')\n",
    "    else:\n",
    "       print(f'{in_string} ➞ {False}')\n",
    "\n",
    "is_in_order(\"abc\")\n",
    "is_in_order(\"edabit\")"
   ]
  }
 ],
 "metadata": {
  "kernelspec": {
   "display_name": "Python 3 (ipykernel)",
   "language": "python",
   "name": "python3"
  },
  "language_info": {
   "codemirror_mode": {
    "name": "ipython",
    "version": 3
   },
   "file_extension": ".py",
   "mimetype": "text/x-python",
   "name": "python",
   "nbconvert_exporter": "python",
   "pygments_lexer": "ipython3",
   "version": "3.9.12"
  }
 },
 "nbformat": 4,
 "nbformat_minor": 5
}
