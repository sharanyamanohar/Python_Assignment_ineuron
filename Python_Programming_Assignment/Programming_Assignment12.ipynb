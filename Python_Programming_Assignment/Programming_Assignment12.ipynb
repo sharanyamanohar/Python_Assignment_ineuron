{
 "cells": [
  {
   "cell_type": "markdown",
   "id": "7d0d3af1",
   "metadata": {},
   "source": [
    "## Sharanya Programming_Assignment12"
   ]
  },
  {
   "cell_type": "code",
   "execution_count": 17,
   "id": "bce2ec57",
   "metadata": {},
   "outputs": [
    {
     "data": {
      "text/plain": [
       "{1, 2, 3, 4, 5, 6, 7, 8, 9}"
      ]
     },
     "execution_count": 17,
     "metadata": {},
     "output_type": "execute_result"
    }
   ],
   "source": [
    "#1. Write a Python program to Extract Unique values dictionary values?\n",
    "d={1:[1,2,3,4],2:[2,3,4,5],3:[4,5,6,7,8,9]}\n",
    "x=[]\n",
    "for i in d.values():\n",
    "    x.extend(i)\n",
    "set(x)    "
   ]
  },
  {
   "cell_type": "code",
   "execution_count": 27,
   "id": "37053fa5",
   "metadata": {},
   "outputs": [
    {
     "data": {
      "text/plain": [
       "63"
      ]
     },
     "execution_count": 27,
     "metadata": {},
     "output_type": "execute_result"
    }
   ],
   "source": [
    "#2. Write a Python program to find the sum of all items in a dictionary?\n",
    "d={1:[1,2,3,4],2:[2,3,4,5],3:[4,5,6,7,8,9]}\n",
    "s=0\n",
    "for i in d.values():\n",
    "    for j in i:\n",
    "        s+=j\n",
    "s        "
   ]
  },
  {
   "cell_type": "code",
   "execution_count": 28,
   "id": "2fb9d959",
   "metadata": {},
   "outputs": [
    {
     "name": "stdout",
     "output_type": "stream",
     "text": [
      "{1: 'a', 2: 'c', 4: 'd'}\n"
     ]
    }
   ],
   "source": [
    "#3. Write a Python program to Merging two Dictionaries?\n",
    "dict_1 = {1: 'a', 2: 'b'}\n",
    "dict_2 = {2: 'c', 4: 'd'}\n",
    "\n",
    "print(dict_1 | dict_2)"
   ]
  },
  {
   "cell_type": "code",
   "execution_count": 41,
   "id": "07fab5cb",
   "metadata": {},
   "outputs": [
    {
     "data": {
      "text/plain": [
       "{1: 'Jan', 2: 'Feb', 3: 'March'}"
      ]
     },
     "execution_count": 41,
     "metadata": {},
     "output_type": "execute_result"
    }
   ],
   "source": [
    "#4. Write a Python program to convert key-values list to flat dictionary?\n",
    "dict = {'month' : [1, 2, 3],'name' : ['Jan', 'Feb', 'March']}\n",
    "x=list(dict.values())\n",
    "a=x[0]\n",
    "b=x[1]\n",
    "d={}\n",
    "for i in range(0,len(a)):\n",
    "    d[a[i]]=b[i]\n",
    "d  "
   ]
  },
  {
   "cell_type": "code",
   "execution_count": 42,
   "id": "b415c955",
   "metadata": {},
   "outputs": [
    {
     "name": "stdout",
     "output_type": "stream",
     "text": [
      "OrderedDict([('D', '400'), ('A', '100'), ('B', '200'), ('C', '300')])\n"
     ]
    }
   ],
   "source": [
    "#5. Write a Python program to insertion at the beginning in OrderedDict?\n",
    "\n",
    "from collections import OrderedDict\n",
    "dic1 = OrderedDict([('A', '100'), ('B', '200'), ('C', '300')])\n",
    "insrt = OrderedDict([(\"D\", '400')])\n",
    "final = OrderedDict(list(insrt.items()) + list(dic1.items()))\n",
    "print(final)"
   ]
  },
  {
   "cell_type": "code",
   "execution_count": 4,
   "id": "031c6a91",
   "metadata": {},
   "outputs": [
    {
     "name": "stdout",
     "output_type": "stream",
     "text": [
      "true\n"
     ]
    }
   ],
   "source": [
    "#6. Write a Python program to check order of character in string using OrderedDict()?\n",
    "\n",
    "from collections import OrderedDict \n",
    "  \n",
    "def checkOrder(input, pattern): \n",
    "    \n",
    "    dict = OrderedDict.fromkeys(input) \n",
    "  \n",
    "    i = 0\n",
    "    for key,value in dict.items(): \n",
    "        if (key == pattern[i]):\n",
    "            i+=1\n",
    "        if (i == (len(pattern))): \n",
    "            return 'true'    \n",
    "    return False\n",
    "input = 'i am a coder'\n",
    "pattern = 'er'\n",
    "print (checkOrder(input,pattern))"
   ]
  },
  {
   "cell_type": "code",
   "execution_count": 8,
   "id": "e8f52a96",
   "metadata": {},
   "outputs": [
    {
     "name": "stdout",
     "output_type": "stream",
     "text": [
      "0 1 2 3 67 "
     ]
    }
   ],
   "source": [
    "#7. Write a Python program to sort Python Dictionaries by Key or Value?\n",
    "\n",
    "d={1:[1,2,3,4],67:80,3:[2,3,4,5],2:[4,5,6,7,8,9],0:8}\n",
    "for i in sorted(d.keys()):\n",
    "    print(i,end=\" \")"
   ]
  }
 ],
 "metadata": {
  "kernelspec": {
   "display_name": "Python 3 (ipykernel)",
   "language": "python",
   "name": "python3"
  },
  "language_info": {
   "codemirror_mode": {
    "name": "ipython",
    "version": 3
   },
   "file_extension": ".py",
   "mimetype": "text/x-python",
   "name": "python",
   "nbconvert_exporter": "python",
   "pygments_lexer": "ipython3",
   "version": "3.9.12"
  }
 },
 "nbformat": 4,
 "nbformat_minor": 5
}
