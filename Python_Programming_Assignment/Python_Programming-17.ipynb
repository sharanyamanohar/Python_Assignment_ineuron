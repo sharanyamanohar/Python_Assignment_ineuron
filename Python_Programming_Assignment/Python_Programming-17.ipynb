{
 "cells": [
  {
   "cell_type": "markdown",
   "id": "6ead86d0",
   "metadata": {},
   "source": [
    "# Sharanya Manohar\n",
    "## Python Programming -17"
   ]
  },
  {
   "cell_type": "markdown",
   "id": "40adf2f7",
   "metadata": {},
   "source": [
    "Question1. Create a function that takes three arguments a, b, c and returns the sum of the\n",
    "numbers that are evenly divided by c from the range a, b inclusive."
   ]
  },
  {
   "cell_type": "code",
   "execution_count": 29,
   "id": "6e125aad",
   "metadata": {},
   "outputs": [
    {
     "name": "stdout",
     "output_type": "stream",
     "text": [
      "2\n",
      "4\n",
      "6\n",
      "8\n",
      "10\n"
     ]
    }
   ],
   "source": [
    "def evenly_divisible(a,b,c):\n",
    "    for i in range(a,b+1):\n",
    "        if i%c==0:\n",
    "            print(i)\n",
    "evenly_divisible(1,10,2)    "
   ]
  },
  {
   "cell_type": "markdown",
   "id": "7cb36e1d",
   "metadata": {},
   "source": [
    "Question2. Create a function that returns True if a given inequality expression is correct and\n",
    "False otherwise."
   ]
  },
  {
   "cell_type": "code",
   "execution_count": 35,
   "id": "71a3ddd7",
   "metadata": {},
   "outputs": [
    {
     "name": "stdout",
     "output_type": "stream",
     "text": [
      "enter a equality8<9<0\n",
      "False\n"
     ]
    }
   ],
   "source": [
    "a=str(input(\"enter a equality\"))\n",
    "def check_equality(a):\n",
    "    b=eval(a)\n",
    "    print(b)\n",
    "check_equality(a)    "
   ]
  },
  {
   "cell_type": "markdown",
   "id": "90120ed3",
   "metadata": {},
   "source": [
    "Question3. Create a function that replaces all the vowels in a string with a specified character."
   ]
  },
  {
   "cell_type": "code",
   "execution_count": 41,
   "id": "bef99330",
   "metadata": {},
   "outputs": [
    {
     "name": "stdout",
     "output_type": "stream",
     "text": [
      "enter a string:saranya\n",
      "enter a character:#\n",
      "s#r#ny#\n"
     ]
    }
   ],
   "source": [
    "a=str(input(\"enter a string:\"))\n",
    "b=str(input(\"enter a character:\"))\n",
    "vowels = ['a','e','i','o','u','A','E','I','O','U']\n",
    "def replace_vowels(a,b):\n",
    "    for i in a:\n",
    "        if i in vowels:\n",
    "            k=a.replace(i,b)\n",
    "    print(k)   \n",
    "replace_vowels(a,b)    "
   ]
  },
  {
   "cell_type": "markdown",
   "id": "ba5a829a",
   "metadata": {},
   "source": [
    "Question4. Write a function that calculates the factorial of a number recursively."
   ]
  },
  {
   "cell_type": "code",
   "execution_count": 43,
   "id": "c3152de1",
   "metadata": {},
   "outputs": [
    {
     "data": {
      "text/plain": [
       "120"
      ]
     },
     "execution_count": 43,
     "metadata": {},
     "output_type": "execute_result"
    }
   ],
   "source": [
    "def factorial(n):\n",
    "    if n==0:\n",
    "        return 1\n",
    "    return n * factorial(n-1)\n",
    "factorial(5)"
   ]
  },
  {
   "cell_type": "markdown",
   "id": "b9806949",
   "metadata": {},
   "source": [
    "Question5.Hamming distance is the number of characters that differ between two strings ?"
   ]
  },
  {
   "cell_type": "code",
   "execution_count": 46,
   "id": "5f4fab90",
   "metadata": {},
   "outputs": [
    {
     "name": "stdout",
     "output_type": "stream",
     "text": [
      "enter a 1st value:abced\n",
      "enter a 2nd value:abcde\n"
     ]
    },
    {
     "data": {
      "text/plain": [
       "2"
      ]
     },
     "execution_count": 46,
     "metadata": {},
     "output_type": "execute_result"
    }
   ],
   "source": [
    "a=str(input(\"enter a 1st value:\"))\n",
    "b=str(input(\"enter a 2nd value:\"))\n",
    "def hamming_distance(a,b):\n",
    "    if len(a)==len(b):\n",
    "        count=0\n",
    "        for i in range(len(a)):\n",
    "            if a[i]!=b[i]:\n",
    "                count+=1\n",
    "        return count\n",
    "hamming_distance(a,b)   "
   ]
  }
 ],
 "metadata": {
  "kernelspec": {
   "display_name": "Python 3 (ipykernel)",
   "language": "python",
   "name": "python3"
  },
  "language_info": {
   "codemirror_mode": {
    "name": "ipython",
    "version": 3
   },
   "file_extension": ".py",
   "mimetype": "text/x-python",
   "name": "python",
   "nbconvert_exporter": "python",
   "pygments_lexer": "ipython3",
   "version": "3.9.12"
  }
 },
 "nbformat": 4,
 "nbformat_minor": 5
}
