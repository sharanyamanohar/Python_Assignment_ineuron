{
 "cells": [
  {
   "cell_type": "markdown",
   "id": "906be1e9",
   "metadata": {},
   "source": [
    "# Sharanya Manohar\n",
    "## Python Programming Assignment-14"
   ]
  },
  {
   "cell_type": "code",
   "execution_count": 2,
   "id": "6dbd87a0",
   "metadata": {},
   "outputs": [
    {
     "name": "stdout",
     "output_type": "stream",
     "text": [
      "0\n",
      "7\n",
      "14\n",
      "21\n",
      "28\n",
      "35\n",
      "42\n",
      "49\n",
      "56\n",
      "63\n",
      "70\n",
      "77\n"
     ]
    }
   ],
   "source": [
    "#Question-1\n",
    "\n",
    "def divisible_by_7(n):\n",
    "    for i in range(n):\n",
    "        if i%7==0:\n",
    "            print(i)\n",
    "divisible_by_7(80)"
   ]
  },
  {
   "cell_type": "code",
   "execution_count": 6,
   "id": "67cd4ab2",
   "metadata": {},
   "outputs": [
    {
     "name": "stdout",
     "output_type": "stream",
     "text": [
      "Enter the string:New to Python or choosing between Python 2 and Python 3? Read Python 2 or Python 3.\n",
      "{'New': 1, 'to': 1, 'Python': 5, 'or': 2, 'choosing': 1, 'between': 1, '2': 2, 'and': 1, '3?': 1, 'Read': 1, '3.': 1}\n",
      "[('2', 2), ('3.', 1), ('3?', 1), ('New', 1), ('Python', 5), ('Read', 1), ('and', 1), ('between', 1), ('choosing', 1), ('or', 2), ('to', 1)]\n"
     ]
    }
   ],
   "source": [
    "#Question-2\n",
    "\n",
    "d=dict()\n",
    "s=input(\"Enter the string:\")\n",
    "for i in s.split():\n",
    "    d[i]=d.get(i,0)+1\n",
    "print(d)\n",
    "print(sorted(d.items()))"
   ]
  },
  {
   "cell_type": "code",
   "execution_count": 7,
   "id": "021f99b4",
   "metadata": {},
   "outputs": [
    {
     "name": "stdout",
     "output_type": "stream",
     "text": [
      "Male\n",
      "Female\n"
     ]
    }
   ],
   "source": [
    "#Question-3\n",
    "\n",
    "class Person():\n",
    "    def getgender(self):\n",
    "        return \"unknown\"\n",
    "class Male(Person):\n",
    "    def getgender(self):\n",
    "        return \"Male\"\n",
    "class Female(Person):\n",
    "    def getgender(self):\n",
    "        return \"Female\"\n",
    "Male1=Male()\n",
    "Female2=Female()\n",
    "print(Male1.getgender())\n",
    "print(Female2.getgender())"
   ]
  },
  {
   "cell_type": "code",
   "execution_count": 12,
   "id": "6f27adcf",
   "metadata": {},
   "outputs": [
    {
     "name": "stdout",
     "output_type": "stream",
     "text": [
      "I Play Hockey\n",
      "I Play Football\n",
      "I Love Hockey\n",
      "I Love Football\n",
      "You Play Hockey\n",
      "You Play Football\n",
      "You Love Hockey\n",
      "You Love Football\n"
     ]
    }
   ],
   "source": [
    "#Question-4\n",
    "\n",
    "subject=[\"I\", \"You\"]\n",
    "verb=[\"Play\", \"Love\"]\n",
    "object=[\"Hockey\",\"Football\"]\n",
    "for sub in subject:\n",
    "    for v in verb:\n",
    "        for obj in object:\n",
    "            print(sub,v,obj)"
   ]
  },
  {
   "cell_type": "code",
   "execution_count": 18,
   "id": "c61a625c",
   "metadata": {},
   "outputs": [
    {
     "name": "stdout",
     "output_type": "stream",
     "text": [
      "b'x\\x9c\\xcbH\\xcd\\xc9\\xc9W(\\xcf/\\xcaIQ\\xcc \\x82\\r\\x00\\xbd[\\x11\\xf5'\n",
      "b'hello world!hello world!hello world!hello world!'\n"
     ]
    }
   ],
   "source": [
    "#Question-5\n",
    "\n",
    "import zlib\n",
    "s = 'hello world!hello world!hello world!hello world!'\n",
    "y = bytes(s, 'utf-8')\n",
    "x = zlib.compress(y)\n",
    "print(x)\n",
    "print(zlib.decompress(x))"
   ]
  },
  {
   "cell_type": "code",
   "execution_count": 25,
   "id": "6150f0fd",
   "metadata": {},
   "outputs": [
    {
     "name": "stdout",
     "output_type": "stream",
     "text": [
      "What value you need to search for index:67\n"
     ]
    },
    {
     "data": {
      "text/plain": [
       "3"
      ]
     },
     "execution_count": 25,
     "metadata": {},
     "output_type": "execute_result"
    }
   ],
   "source": [
    "#Question-6\n",
    "\n",
    "n=int(input(\"What value you need to search for index:\"))\n",
    "l=[11,23,45,67,89,78,1,3,5,7]\n",
    "l.index(n)"
   ]
  }
 ],
 "metadata": {
  "kernelspec": {
   "display_name": "Python 3 (ipykernel)",
   "language": "python",
   "name": "python3"
  },
  "language_info": {
   "codemirror_mode": {
    "name": "ipython",
    "version": 3
   },
   "file_extension": ".py",
   "mimetype": "text/x-python",
   "name": "python",
   "nbconvert_exporter": "python",
   "pygments_lexer": "ipython3",
   "version": "3.9.12"
  }
 },
 "nbformat": 4,
 "nbformat_minor": 5
}
