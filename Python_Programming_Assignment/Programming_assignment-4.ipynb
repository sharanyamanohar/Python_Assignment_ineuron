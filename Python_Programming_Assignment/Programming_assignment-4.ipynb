{
 "cells": [
  {
   "cell_type": "markdown",
   "id": "9e99f243",
   "metadata": {},
   "source": [
    "Sharanya.M Assignment 4"
   ]
  },
  {
   "cell_type": "markdown",
   "id": "043b9b47",
   "metadata": {},
   "source": [
    "Question-1) Write a Python Program to Find the Factorial of a Number?"
   ]
  },
  {
   "cell_type": "code",
   "execution_count": 21,
   "id": "ca527d20",
   "metadata": {},
   "outputs": [
    {
     "name": "stdout",
     "output_type": "stream",
     "text": [
      "Enter a number to find factorial:8\n",
      "The fatorial of the number  8 is 40320\n"
     ]
    }
   ],
   "source": [
    "n=int(input(\"Enter a number to find factorial:\"))\n",
    "f=1\n",
    "for i in range(1,n+1):\n",
    "    f*=i\n",
    "print(\"The fatorial of the number \",n,\"is\",f)"
   ]
  },
  {
   "cell_type": "markdown",
   "id": "b8fa7476",
   "metadata": {},
   "source": [
    "Question-2)Write a Python Program to Display the multiplication Table?"
   ]
  },
  {
   "cell_type": "code",
   "execution_count": 14,
   "id": "9f86eb75",
   "metadata": {},
   "outputs": [
    {
     "name": "stdout",
     "output_type": "stream",
     "text": [
      "Enter a table you want:7\n",
      "7 * 1 = 7\n",
      "7 * 2 = 14\n",
      "7 * 3 = 21\n",
      "7 * 4 = 28\n",
      "7 * 5 = 35\n",
      "7 * 6 = 42\n",
      "7 * 7 = 49\n",
      "7 * 8 = 56\n",
      "7 * 9 = 63\n",
      "7 * 10 = 70\n"
     ]
    }
   ],
   "source": [
    "n=int(input(\"Enter a table you want:\"))\n",
    "for i in range(1,11):\n",
    "    print(n,\"*\",i,\"=\",n*i)"
   ]
  },
  {
   "cell_type": "markdown",
   "id": "495dfd99",
   "metadata": {},
   "source": [
    "Question-3)Write a Python Program to Print the Fibonacci sequence?"
   ]
  },
  {
   "cell_type": "code",
   "execution_count": 37,
   "id": "a7b12825",
   "metadata": {},
   "outputs": [
    {
     "name": "stdout",
     "output_type": "stream",
     "text": [
      "How many terms? 6\n",
      "Fibonacci sequence:\n",
      "0\n",
      "1\n",
      "1\n",
      "2\n",
      "3\n",
      "5\n"
     ]
    }
   ],
   "source": [
    "\n",
    "n = int(input(\"How many terms? \"))\n",
    "a,b = 0, 1\n",
    "count = 0\n",
    "if n <= 0:\n",
    "   print(\"Please enter a positive integer\")\n",
    "elif n == 1:\n",
    "   print(\"Fibonacci sequence upto\",n,\":\")\n",
    "   print(a)\n",
    "else:\n",
    "   print(\"Fibonacci sequence:\")\n",
    "   while count < n:\n",
    "       print(a)\n",
    "       c = a+b\n",
    "      \n",
    "       a = b\n",
    "       b = c\n",
    "       count += 1"
   ]
  },
  {
   "cell_type": "markdown",
   "id": "e3df960d",
   "metadata": {},
   "source": [
    "Question-4)Write a Python Program to Check Armstrong Number?"
   ]
  },
  {
   "cell_type": "code",
   "execution_count": 20,
   "id": "14b6a583",
   "metadata": {},
   "outputs": [
    {
     "name": "stdout",
     "output_type": "stream",
     "text": [
      "Enter a number to check if it's an Armstrong Number : 1634\n",
      "1634 is a Armstrong Number\n"
     ]
    }
   ],
   "source": [
    "x = int(input(\"Enter a number to check if it's an Armstrong Number : \"))\n",
    "s = str(x)\n",
    "n = len(s)\n",
    "n\n",
    "y = 0\n",
    "for i in range(n):\n",
    "    y += int(s[i])**n\n",
    "if y == x :\n",
    "    print(f\"{x} is a Armstrong Number\")\n",
    "else :\n",
    "    print(f\"{x} is not a Armstrong Number\")"
   ]
  },
  {
   "cell_type": "markdown",
   "id": "2c337d21",
   "metadata": {},
   "source": [
    "Question-5)Write a Python Program to Find Armstrong Number in an Interval?"
   ]
  },
  {
   "cell_type": "code",
   "execution_count": 19,
   "id": "3317ddef",
   "metadata": {},
   "outputs": [
    {
     "name": "stdout",
     "output_type": "stream",
     "text": [
      "Lower value of Interval : 0\n",
      "Higher value of Interval : 1000\n",
      "[0, 1, 2, 3, 4, 5, 6, 7, 8, 9, 153, 370, 371, 407]\n"
     ]
    }
   ],
   "source": [
    "a = int(input(\"Lower value of Interval : \"))\n",
    "b = int(input(\"Higher value of Interval : \"))\n",
    "l = []\n",
    "for x in range(a,b):\n",
    "    s = str(x)\n",
    "    n = len(s)\n",
    "    y = 0\n",
    "    for i in range(n):\n",
    "        y += int(s[i])**n\n",
    "    if y == x :\n",
    "        l.append(y)\n",
    "print(l)"
   ]
  },
  {
   "cell_type": "markdown",
   "id": "0280aa86",
   "metadata": {},
   "source": [
    "Question-6)Write a Python Program to Find the Sum of Natural Numbers?"
   ]
  },
  {
   "cell_type": "code",
   "execution_count": 9,
   "id": "fa5fc2a9",
   "metadata": {},
   "outputs": [
    {
     "name": "stdout",
     "output_type": "stream",
     "text": [
      "enter a sum of the number7\n",
      "28\n"
     ]
    }
   ],
   "source": [
    "n=int(input('enter a sum of the number'))\n",
    "print(int(n*(n+1)/2))"
   ]
  }
 ],
 "metadata": {
  "kernelspec": {
   "display_name": "Python 3 (ipykernel)",
   "language": "python",
   "name": "python3"
  },
  "language_info": {
   "codemirror_mode": {
    "name": "ipython",
    "version": 3
   },
   "file_extension": ".py",
   "mimetype": "text/x-python",
   "name": "python",
   "nbconvert_exporter": "python",
   "pygments_lexer": "ipython3",
   "version": "3.9.12"
  }
 },
 "nbformat": 4,
 "nbformat_minor": 5
}
