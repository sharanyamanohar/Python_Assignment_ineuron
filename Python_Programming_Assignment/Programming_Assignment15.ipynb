{
 "cells": [
  {
   "cell_type": "markdown",
   "id": "7d0d3af1",
   "metadata": {},
   "source": [
    "## Sharanya Manohar\n",
    "## Programming_Assignment15"
   ]
  },
  {
   "cell_type": "code",
   "execution_count": 27,
   "id": "c3ce46b9",
   "metadata": {},
   "outputs": [
    {
     "name": "stdout",
     "output_type": "stream",
     "text": [
      "0\n",
      "35\n",
      "70\n"
     ]
    }
   ],
   "source": [
    "#Question1\n",
    "def test(num):\n",
    "    for i in range(0,num):\n",
    "        if i%7==0 and i%5==0:\n",
    "            yield i\n",
    "for i in test(100):\n",
    "    print(i)"
   ]
  },
  {
   "cell_type": "code",
   "execution_count": 2,
   "id": "4bcd103d",
   "metadata": {},
   "outputs": [
    {
     "name": "stdout",
     "output_type": "stream",
     "text": [
      "0\n",
      "2\n",
      "4\n",
      "6\n",
      "8\n",
      "10\n"
     ]
    }
   ],
   "source": [
    "#Question-2\n",
    "def test(num):\n",
    "    for i in range(0,num+1):\n",
    "        if i%2==0:\n",
    "            yield i\n",
    "for i in test(10):\n",
    "    print(i)"
   ]
  },
  {
   "cell_type": "code",
   "execution_count": 3,
   "id": "9a2d0e45",
   "metadata": {},
   "outputs": [
    {
     "name": "stdout",
     "output_type": "stream",
     "text": [
      "[0, 1, 1, 2, 3, 5, 8, 13, 21, 34]\n"
     ]
    }
   ],
   "source": [
    "#Question-3\n",
    "\n",
    "def f(n):\n",
    "    \n",
    "    if n==0:\n",
    "        return 0\n",
    "    if n==1:\n",
    "        return 1\n",
    "    else:\n",
    "        return f(n-1) +f(n-2)\n",
    "        \n",
    "    \n",
    "print([f(x) for x in range(10)])"
   ]
  },
  {
   "cell_type": "code",
   "execution_count": 8,
   "id": "200c8942",
   "metadata": {},
   "outputs": [
    {
     "name": "stdout",
     "output_type": "stream",
     "text": [
      "Enter a mailid:john@google.com\n",
      "john\n"
     ]
    }
   ],
   "source": [
    "#Question-4\n",
    "\n",
    "def name_extract():\n",
    "    email=input(\"Enter a mailid:\")\n",
    "    name=email.split('@')\n",
    "    print(name[0])\n",
    "\n",
    "name_extract()"
   ]
  },
  {
   "cell_type": "code",
   "execution_count": 11,
   "id": "f4edb8a0",
   "metadata": {},
   "outputs": [
    {
     "name": "stdout",
     "output_type": "stream",
     "text": [
      "25\n"
     ]
    }
   ],
   "source": [
    "#Question-5\n",
    "\n",
    "class shape:\n",
    "    def area(self):\n",
    "        return 0\n",
    "class square(shape):\n",
    "    def __init__(self,length):\n",
    "        self.length=length\n",
    "    def area(self):\n",
    "        return self.length*self.length\n",
    "a=square(5)\n",
    "print(a.area())"
   ]
  }
 ],
 "metadata": {
  "kernelspec": {
   "display_name": "Python 3 (ipykernel)",
   "language": "python",
   "name": "python3"
  },
  "language_info": {
   "codemirror_mode": {
    "name": "ipython",
    "version": 3
   },
   "file_extension": ".py",
   "mimetype": "text/x-python",
   "name": "python",
   "nbconvert_exporter": "python",
   "pygments_lexer": "ipython3",
   "version": "3.9.12"
  }
 },
 "nbformat": 4,
 "nbformat_minor": 5
}
