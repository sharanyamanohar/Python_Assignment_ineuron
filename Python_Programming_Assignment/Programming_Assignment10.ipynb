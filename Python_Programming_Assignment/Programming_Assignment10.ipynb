{
 "cells": [
  {
   "cell_type": "markdown",
   "id": "7d0d3af1",
   "metadata": {},
   "source": [
    "## Sharanya Programming_Assignment10"
   ]
  },
  {
   "cell_type": "code",
   "execution_count": 3,
   "id": "ded127fb",
   "metadata": {},
   "outputs": [
    {
     "name": "stdout",
     "output_type": "stream",
     "text": [
      "The sum of elements in list 10\n"
     ]
    }
   ],
   "source": [
    "#1. Write a Python program to find sum of elements in list?\n",
    "\n",
    "l=[1,2,3,4]\n",
    "a=0\n",
    "for i in l:\n",
    "    a+=i\n",
    "print(\"The sum of elements in list\",a)    "
   ]
  },
  {
   "cell_type": "code",
   "execution_count": 4,
   "id": "3507c08c",
   "metadata": {},
   "outputs": [
    {
     "name": "stdout",
     "output_type": "stream",
     "text": [
      "The multiple of elements in list 24\n"
     ]
    }
   ],
   "source": [
    "#2. Write a Python program to Multiply all numbers in the list?\n",
    "\n",
    "l=[1,2,3,4]\n",
    "a=1\n",
    "for i in l:\n",
    "    a*=i\n",
    "print(\"The multiple of elements in list\",a)    "
   ]
  },
  {
   "cell_type": "code",
   "execution_count": 8,
   "id": "9a52af4a",
   "metadata": {},
   "outputs": [
    {
     "name": "stdout",
     "output_type": "stream",
     "text": [
      "The smallest number in a given list 1\n"
     ]
    }
   ],
   "source": [
    "#3. Write a Python program to find smallest number in a list?\n",
    "\n",
    "l=[1,2,3,9,4,6,9,2,4]\n",
    "l.sort()\n",
    "print(\"The smallest number in a given list\",l[0])"
   ]
  },
  {
   "cell_type": "code",
   "execution_count": 11,
   "id": "4b911b39",
   "metadata": {},
   "outputs": [
    {
     "name": "stdout",
     "output_type": "stream",
     "text": [
      "The largest number in a given list 9\n"
     ]
    }
   ],
   "source": [
    "#4. Write a Python program to find largest number in a list?\n",
    "\n",
    "l=[1,2,3,9,4,6,9,2,4]\n",
    "l.sort()\n",
    "print(\"The largest number in a given list\",l[::-1][0])"
   ]
  },
  {
   "cell_type": "code",
   "execution_count": 29,
   "id": "1c184723",
   "metadata": {},
   "outputs": [
    {
     "name": "stdout",
     "output_type": "stream",
     "text": [
      "The second largest element in a list 6\n"
     ]
    }
   ],
   "source": [
    "#5. Write a Python program to find second largest number in a list?\n",
    "\n",
    "l=[1,2,3,9,4,6,9,2,4]\n",
    "l1=[*set(l)]\n",
    "l1.sort()\n",
    "print(\"The second largest element in a list\",l1[-2])"
   ]
  },
  {
   "cell_type": "code",
   "execution_count": 58,
   "id": "cb870cd0",
   "metadata": {},
   "outputs": [
    {
     "name": "stdout",
     "output_type": "stream",
     "text": [
      "[85, 41]\n"
     ]
    }
   ],
   "source": [
    "#6. Write a Python program to find N largest elements from a list?\n",
    "\n",
    "def Nmaxelements(list1, N):\n",
    "    final_list = []\n",
    " \n",
    "    for i in range(0, N):\n",
    "        max1 = 0\n",
    "         \n",
    "        for j in range(len(list1)):    \n",
    "            if list1[j] > max1:\n",
    "                max1 = list1[j];\n",
    "                 \n",
    "        list1.remove(max1);\n",
    "        final_list.append(max1)\n",
    "         \n",
    "    print(final_list)\n",
    " \n",
    "list1 = [2, 6, 41, 85, 0, 3, 7, 6, 10]\n",
    "N = 2\n",
    " \n",
    "Nmaxelements(list1, N)"
   ]
  },
  {
   "cell_type": "code",
   "execution_count": 39,
   "id": "cb336afe",
   "metadata": {},
   "outputs": [
    {
     "name": "stdout",
     "output_type": "stream",
     "text": [
      "The even number in a given list is: [2, 4, 6]\n"
     ]
    }
   ],
   "source": [
    "#7. Write a Python program to print even numbers in a list?\n",
    "\n",
    "l=[1,2,3,4,5,6]\n",
    "l1=[]\n",
    "for i in l:\n",
    "    if i%2==0:\n",
    "        l1.append(i)\n",
    "    else:\n",
    "        continue\n",
    "print(\"The even number in a given list is:\",l1)        "
   ]
  },
  {
   "cell_type": "code",
   "execution_count": 40,
   "id": "0da5486e",
   "metadata": {},
   "outputs": [
    {
     "name": "stdout",
     "output_type": "stream",
     "text": [
      "The odd number in a given list is: [1, 3, 5]\n"
     ]
    }
   ],
   "source": [
    "#8. Write a Python program to print odd numbers in a List?\n",
    "\n",
    "l=[1,2,3,4,5,6]\n",
    "l1=[]\n",
    "for i in l:\n",
    "    if i%2!=0:\n",
    "        l1.append(i)\n",
    "    else:\n",
    "        continue\n",
    "print(\"The odd number in a given list is:\",l1)  "
   ]
  },
  {
   "cell_type": "code",
   "execution_count": 43,
   "id": "e7d82106",
   "metadata": {},
   "outputs": [
    {
     "data": {
      "text/plain": [
       "[1, 2, 7, 8]"
      ]
     },
     "execution_count": 43,
     "metadata": {},
     "output_type": "execute_result"
    }
   ],
   "source": [
    "#9. Write a Python program to Remove empty List from List?\n",
    "\n",
    "l=[1,2,[],[],7,8]\n",
    "l1=[]\n",
    "for i in l:\n",
    "    if i==[]:\n",
    "        continue\n",
    "    l1.append(i)\n",
    "print(\"Removed empty element from list:\",l1)    "
   ]
  },
  {
   "cell_type": "code",
   "execution_count": 45,
   "id": "3a4b165e",
   "metadata": {},
   "outputs": [
    {
     "name": "stdout",
     "output_type": "stream",
     "text": [
      "Original List: [4, 8, 2, 10, 15, 18, [4, 5]]\n",
      "After Cloning: [4, 8, 2, 10, 15, 18, [4, 5]]\n"
     ]
    }
   ],
   "source": [
    "#10. Write a Python program to Cloning or Copying a list?\n",
    "\n",
    "def Cloning(li1):\n",
    "    li_copy = li1[:]\n",
    "    return li_copy\n",
    "li1 = [4, 8, 2, 10, 15, 18,[4,5]]\n",
    "li2 = Cloning(li1)\n",
    "print(\"Original List:\", li1)\n",
    "print(\"After Cloning:\", li2)"
   ]
  },
  {
   "cell_type": "code",
   "execution_count": 57,
   "id": "c8dc79d0",
   "metadata": {},
   "outputs": [
    {
     "name": "stdout",
     "output_type": "stream",
     "text": [
      "The element 1 occurrence is 1\n",
      "The element 2 occurrence is 2\n",
      "The element 6 occurrence is 1\n",
      "The element 2 occurrence is 2\n",
      "The element 7 occurrence is 1\n",
      "The element 3 occurrence is 3\n",
      "The element 3 occurrence is 3\n",
      "The element 3 occurrence is 3\n",
      "The element 4 occurrence is 1\n",
      "The element 5 occurrence is 1\n"
     ]
    }
   ],
   "source": [
    "#11. Write a Python program to Count occurrences of an element in a list?\n",
    "\n",
    "l=[1,2,6,2,7,3,3,3,4,5]\n",
    "for i in l:\n",
    "    print(\"The element\",i,\"occurrence is\",l.count(i))"
   ]
  }
 ],
 "metadata": {
  "kernelspec": {
   "display_name": "Python 3 (ipykernel)",
   "language": "python",
   "name": "python3"
  },
  "language_info": {
   "codemirror_mode": {
    "name": "ipython",
    "version": 3
   },
   "file_extension": ".py",
   "mimetype": "text/x-python",
   "name": "python",
   "nbconvert_exporter": "python",
   "pygments_lexer": "ipython3",
   "version": "3.9.12"
  }
 },
 "nbformat": 4,
 "nbformat_minor": 5
}
