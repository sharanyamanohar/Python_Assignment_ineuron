{
 "cells": [
  {
   "cell_type": "markdown",
   "id": "7d0d3af1",
   "metadata": {},
   "source": [
    "## Sharanya Programming_Assignment11"
   ]
  },
  {
   "cell_type": "code",
   "execution_count": 2,
   "id": "b838e11b",
   "metadata": {},
   "outputs": [
    {
     "name": "stdout",
     "output_type": "stream",
     "text": [
      "Enter a value to find words which are greater than given length7\n",
      "saranya\n",
      "jessica\n"
     ]
    }
   ],
   "source": [
    "#1.Write a Python program to find words which are greater than given length k?\n",
    "length=int(input(\"Enter a value to find words which are greater than given length\"))\n",
    "l=['saranya','jessica','teena','serena','adrina']\n",
    "for i in l:\n",
    "    if len(i)>=length:\n",
    "        print(i)"
   ]
  },
  {
   "cell_type": "code",
   "execution_count": 6,
   "id": "c2883135",
   "metadata": {},
   "outputs": [
    {
     "name": "stdout",
     "output_type": "stream",
     "text": [
      "Enter a character which you need to removea\n"
     ]
    },
    {
     "data": {
      "text/plain": [
       "'srny'"
      ]
     },
     "execution_count": 6,
     "metadata": {},
     "output_type": "execute_result"
    }
   ],
   "source": [
    "#2. Write a Python program for removing i-th character from a string\n",
    "\n",
    "i=str(input(\"Enter a character which you need to remove\"))\n",
    "s=\"saranya\"\n",
    "s.replace(i,'')"
   ]
  },
  {
   "cell_type": "code",
   "execution_count": 8,
   "id": "b455b23b",
   "metadata": {},
   "outputs": [
    {
     "name": "stdout",
     "output_type": "stream",
     "text": [
      "['I', 'write', 'code']\n",
      "I write code\n"
     ]
    }
   ],
   "source": [
    "#3.Write a Python program to split and join a string?\n",
    "\n",
    "string=\"I write code\"\n",
    "def split_string(string):\n",
    "    list_string = string.split(' ')\n",
    "    return list_string\n",
    "\n",
    "def join_string(list_string):\n",
    "    string = ' '.join(list_string)\n",
    "    return string\n",
    "list_string = split_string(string)\n",
    "print(list_string)\n",
    "\n",
    "new_string = join_string(list_string)\n",
    "print(new_string)\n"
   ]
  },
  {
   "cell_type": "code",
   "execution_count": 21,
   "id": "f70f868d",
   "metadata": {},
   "outputs": [
    {
     "name": "stdout",
     "output_type": "stream",
     "text": [
      "No\n"
     ]
    }
   ],
   "source": [
    "#4.Write a Python to check if a given string is binary string or not?\n",
    "\n",
    "s=set(\"101011\")\n",
    "p={'0','1'}\n",
    "if s == p or p == {'0'} or p == {'1'}:\n",
    "    print(\"Yes\")\n",
    "else:\n",
    "    print(\"No\")"
   ]
  },
  {
   "cell_type": "code",
   "execution_count": 29,
   "id": "3f0f0cb0",
   "metadata": {},
   "outputs": [
    {
     "name": "stdout",
     "output_type": "stream",
     "text": [
      "['he', 'boy', 'She', 'girl']\n"
     ]
    }
   ],
   "source": [
    "#5.Write a Python program to find uncommon words from two Strings?\n",
    "\n",
    "s1=\"he is a boy\"\n",
    "s2=\"She is a girl\"\n",
    "c={}\n",
    "for i in s1.split():\n",
    "    c[i]=c.get(i,0)+1\n",
    "for i in s2.split():\n",
    "    c[i]=c.get(i,0)+1\n",
    "print([i for i in c if c[i] == 1])"
   ]
  },
  {
   "cell_type": "code",
   "execution_count": 53,
   "id": "bb5f9bd9",
   "metadata": {},
   "outputs": [
    {
     "name": "stdout",
     "output_type": "stream",
     "text": [
      "s r n y\n"
     ]
    }
   ],
   "source": [
    "#6. Write a Python to find all duplicate characters in string?\n",
    "\n",
    "s1=\"saranya\"\n",
    "x=[]\n",
    "for i in s1:\n",
    "    if i not in x and s1.count(i)<=1:\n",
    "        x.append(i)\n",
    "print(\" \".join(x))"
   ]
  },
  {
   "cell_type": "code",
   "execution_count": 55,
   "id": "6304819c",
   "metadata": {},
   "outputs": [
    {
     "name": "stdout",
     "output_type": "stream",
     "text": [
      "string accepted\n"
     ]
    }
   ],
   "source": [
    "#7. Write a Python Program to check if a string contains any special character?\n",
    "\n",
    "n=\"I write code\"\n",
    "n.split()\n",
    "c=0\n",
    "s='[@_!#$%^&*()<>?/\\|}{~:]' \n",
    "for i in range(len(n)):\n",
    "    if n[i] in s:\n",
    "      c+=1\n",
    "if c:\n",
    "    print(\"string is not accepted\")\n",
    "else:\n",
    "    print(\"string accepted\")"
   ]
  }
 ],
 "metadata": {
  "kernelspec": {
   "display_name": "Python 3 (ipykernel)",
   "language": "python",
   "name": "python3"
  },
  "language_info": {
   "codemirror_mode": {
    "name": "ipython",
    "version": 3
   },
   "file_extension": ".py",
   "mimetype": "text/x-python",
   "name": "python",
   "nbconvert_exporter": "python",
   "pygments_lexer": "ipython3",
   "version": "3.9.12"
  }
 },
 "nbformat": 4,
 "nbformat_minor": 5
}
