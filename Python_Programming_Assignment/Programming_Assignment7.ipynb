{
 "cells": [
  {
   "cell_type": "markdown",
   "id": "7d0d3af1",
   "metadata": {},
   "source": [
    "## Sharanya Programming_Assignment7 "
   ]
  },
  {
   "cell_type": "code",
   "execution_count": 1,
   "id": "77d9b11d",
   "metadata": {},
   "outputs": [
    {
     "name": "stdout",
     "output_type": "stream",
     "text": [
      "The sum of the array is 6\n"
     ]
    }
   ],
   "source": [
    "#1.Write a Python Program to find sum of array?\n",
    "a=0\n",
    "l=[1,2,3]\n",
    "for i in l:\n",
    "    a+=i\n",
    "print(\"The sum of the array is\",a)"
   ]
  },
  {
   "cell_type": "code",
   "execution_count": 2,
   "id": "60e1cde7",
   "metadata": {},
   "outputs": [
    {
     "name": "stdout",
     "output_type": "stream",
     "text": [
      "The largest element in given array is 7\n"
     ]
    }
   ],
   "source": [
    "#2. Write a Python Program to find largest element in an array?\n",
    "l=[1,2,3,4,7,5]\n",
    "l.sort()\n",
    "print(\"The largest element in given array is\",l[-1])"
   ]
  },
  {
   "cell_type": "code",
   "execution_count": 36,
   "id": "7d24b760",
   "metadata": {},
   "outputs": [
    {
     "data": {
      "text/plain": [
       "[2, 34, 45, 66, 77, 1]"
      ]
     },
     "execution_count": 36,
     "metadata": {},
     "output_type": "execute_result"
    }
   ],
   "source": [
    "#3. Write a Python Program for array rotation?\n",
    "def rotateArray(arr, n, d):\n",
    "    a = []\n",
    "    i = 0\n",
    "    while (i < d):\n",
    "        a.append(arr[i])\n",
    "        i = i + 1\n",
    "    i = 0\n",
    "    while (d < n):\n",
    "        arr[i] = arr[d]\n",
    "        i = i + 1\n",
    "        d = d + 1\n",
    "    arr[:] = arr[: i] + a\n",
    "    return arr\n",
    "arr=[1,2,34,45,66,77]\n",
    "n=len(arr)\n",
    "d=1\n",
    "rotateArray(arr,n,d)"
   ]
  },
  {
   "cell_type": "code",
   "execution_count": 24,
   "id": "8df556f9",
   "metadata": {},
   "outputs": [
    {
     "name": "stdout",
     "output_type": "stream",
     "text": [
      "2 34 45 66 77 1 "
     ]
    }
   ],
   "source": [
    "#4. Write a Python Program to Split the array and add the first part to the end?\n",
    "\n",
    "#b is length anc c is position\n",
    "arr=[1,2,34,45,66,77]\n",
    "b=len(arr)\n",
    "c=1\n",
    "def array(arr,b,c):\n",
    "    for i in range(0,c):\n",
    "        x=arr[0]\n",
    "        for j in range(0,b-1):\n",
    "            arr[j]=arr[j+1]\n",
    "        arr[b-1]=x\n",
    "array(arr,b,c)\n",
    "for i in range (0,b):\n",
    "    print(arr[i],end=' ')"
   ]
  },
  {
   "cell_type": "code",
   "execution_count": 3,
   "id": "633ea83a",
   "metadata": {},
   "outputs": [
    {
     "data": {
      "text/plain": [
       "True"
      ]
     },
     "execution_count": 3,
     "metadata": {},
     "output_type": "execute_result"
    }
   ],
   "source": [
    "#5. Write a Python Program to check if given array is Monotonic?\n",
    "\n",
    "a=[]\n",
    "b=[]\n",
    "def monotone(x):\n",
    "    a.extend(x)#\n",
    "    b.extend(x)#this extend part is same just splitting into 2 part\n",
    "    a.sort()\n",
    "    b.sort(reverse=True)\n",
    "    if (a==x or b==x):\n",
    "        return True\n",
    "    else:\n",
    "        return False\n",
    "x=[1,2,3,4,7]   \n",
    "monotone(x)"
   ]
  }
 ],
 "metadata": {
  "kernelspec": {
   "display_name": "Python 3 (ipykernel)",
   "language": "python",
   "name": "python3"
  },
  "language_info": {
   "codemirror_mode": {
    "name": "ipython",
    "version": 3
   },
   "file_extension": ".py",
   "mimetype": "text/x-python",
   "name": "python",
   "nbconvert_exporter": "python",
   "pygments_lexer": "ipython3",
   "version": "3.9.12"
  }
 },
 "nbformat": 4,
 "nbformat_minor": 5
}
