{
 "cells": [
  {
   "cell_type": "markdown",
   "id": "6ead86d0",
   "metadata": {},
   "source": [
    "# Sharanya Manohar\n",
    "## Python Programming -20"
   ]
  },
  {
   "cell_type": "markdown",
   "id": "40adf2f7",
   "metadata": {},
   "source": [
    "Question1\n",
    "Create a function that takes a list of strings and integers, and filters out the list so that it\n",
    "returns a list of integers only."
   ]
  },
  {
   "cell_type": "code",
   "execution_count": 43,
   "id": "6e125aad",
   "metadata": {},
   "outputs": [
    {
     "data": {
      "text/plain": [
       "[1, 2, 3]"
      ]
     },
     "execution_count": 43,
     "metadata": {},
     "output_type": "execute_result"
    }
   ],
   "source": [
    "def filter_list(x):\n",
    "    l=[]\n",
    "    for i in x:\n",
    "        if type(i)==int:\n",
    "            l.append(i)\n",
    "    return l \n",
    "filter_list([1,2,3,'a'])"
   ]
  },
  {
   "cell_type": "markdown",
   "id": "7cb36e1d",
   "metadata": {},
   "source": [
    "Question2\n",
    "Given a list of numbers, create a function which returns the list but with each element's\n",
    "index in the list added to itself. This means you add 0 to the number at index 0, add 1 to the\n",
    "number at index 1, etc..."
   ]
  },
  {
   "cell_type": "code",
   "execution_count": 47,
   "id": "71a3ddd7",
   "metadata": {},
   "outputs": [
    {
     "data": {
      "text/plain": [
       "[1, 3, 5, 7, 9]"
      ]
     },
     "execution_count": 47,
     "metadata": {},
     "output_type": "execute_result"
    }
   ],
   "source": [
    "l=[1,2,3,4,5]\n",
    "l1=[]\n",
    "for i in range(len(l)):\n",
    "    l1.append(i+l[i])\n",
    "l1    "
   ]
  },
  {
   "cell_type": "markdown",
   "id": "90120ed3",
   "metadata": {},
   "source": [
    "Question3\n",
    "Create a function that takes the height and radius of a cone as arguments and returns the\n",
    "volume of the cone rounded to the nearest hundredth. See the resources tab for the formula."
   ]
  },
  {
   "cell_type": "code",
   "execution_count": 58,
   "id": "bef99330",
   "metadata": {},
   "outputs": [
    {
     "name": "stdout",
     "output_type": "stream",
     "text": [
      "12.56\n"
     ]
    }
   ],
   "source": [
    "def cone_volume(h,r):\n",
    "    v=(3.14*r*r*h)/3\n",
    "    print(v)\n",
    "cone_volume(3,2)"
   ]
  },
  {
   "cell_type": "markdown",
   "id": "ba5a829a",
   "metadata": {},
   "source": [
    "Question 4\n",
    "Create a function that takes a single string as argument and returns an ordered list containing\n",
    "the indices of all capital letters in the string."
   ]
  },
  {
   "cell_type": "code",
   "execution_count": 59,
   "id": "c3152de1",
   "metadata": {},
   "outputs": [
    {
     "name": "stdout",
     "output_type": "stream",
     "text": [
      "21\n"
     ]
    }
   ],
   "source": [
    "def triangle(in_num):\n",
    "    print(int((in_num)*((in_num+1)/2)))\n",
    "triangle(6)    "
   ]
  },
  {
   "cell_type": "markdown",
   "id": "b9806949",
   "metadata": {},
   "source": [
    "Question 5\n",
    "Create a function that takes a list of numbers between 1 and 10 (excluding one number) and\n",
    "returns the missing number."
   ]
  },
  {
   "cell_type": "code",
   "execution_count": 60,
   "id": "5f4fab90",
   "metadata": {},
   "outputs": [
    {
     "name": "stdout",
     "output_type": "stream",
     "text": [
      "5\n"
     ]
    }
   ],
   "source": [
    "def missing_num(in_list):\n",
    "    for i in range(1,11):\n",
    "        if i not in in_list:\n",
    "            print(i)\n",
    "missing_num([1, 2, 3, 4, 6, 7, 8, 9, 10])            "
   ]
  }
 ],
 "metadata": {
  "kernelspec": {
   "display_name": "Python 3 (ipykernel)",
   "language": "python",
   "name": "python3"
  },
  "language_info": {
   "codemirror_mode": {
    "name": "ipython",
    "version": 3
   },
   "file_extension": ".py",
   "mimetype": "text/x-python",
   "name": "python",
   "nbconvert_exporter": "python",
   "pygments_lexer": "ipython3",
   "version": "3.9.12"
  }
 },
 "nbformat": 4,
 "nbformat_minor": 5
}
