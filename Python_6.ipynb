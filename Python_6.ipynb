{
 "cells": [
  {
   "cell_type": "markdown",
   "id": "41e65151",
   "metadata": {},
   "source": [
    "# Sharanya Manohar\n",
    "## Python-6"
   ]
  },
  {
   "cell_type": "raw",
   "id": "5a87b41f",
   "metadata": {},
   "source": [
    "#Question-1\n",
    "\n",
    "An escape character is used in a string because to insert characters which is illegal in string so use the backslash in between('\\')\n",
    "test='hello 'i' sharanya'\n",
    "test='hello \\'i\\' sharanya'"
   ]
  },
  {
   "cell_type": "raw",
   "id": "5e245234",
   "metadata": {},
   "source": [
    "#Question-2\n",
    "\n",
    "In which \\n stands for new line and \\t stands for tab where it gives the space"
   ]
  },
  {
   "cell_type": "raw",
   "id": "23d5d545",
   "metadata": {},
   "source": [
    "#Question-3\n",
    "\n",
    "The backslash is a special character \"/\" also known as a escape character"
   ]
  },
  {
   "cell_type": "raw",
   "id": "72b4cf65",
   "metadata": {},
   "source": [
    "#Question -4\n",
    "\n",
    "The single quote in Howl's is fine because you've used double quotes to mark the beginning and end of the string."
   ]
  },
  {
   "cell_type": "raw",
   "id": "722001b7",
   "metadata": {},
   "source": [
    "#Question-5\n",
    "\n",
    "Multiline strings allow you to use newlines in strings without the \\n escape character."
   ]
  },
  {
   "cell_type": "code",
   "execution_count": 5,
   "id": "d0af341d",
   "metadata": {},
   "outputs": [
    {
     "name": "stdout",
     "output_type": "stream",
     "text": [
      "e\n",
      "Hello\n",
      "Hello\n",
      "lo, world!\n"
     ]
    }
   ],
   "source": [
    "# Question-6\n",
    "\n",
    "print(\"Hello, world!\"[1])\n",
    "print(\"Hello, world!\"[0:5])\n",
    "print(\"Hello, world!\"[:5])\n",
    "print(\"Hello, world!\"[3:])"
   ]
  },
  {
   "cell_type": "code",
   "execution_count": 6,
   "id": "1b578016",
   "metadata": {},
   "outputs": [
    {
     "name": "stdout",
     "output_type": "stream",
     "text": [
      "HELLO\n",
      "True\n",
      "hello\n"
     ]
    }
   ],
   "source": [
    "#Question-7\n",
    "\n",
    "print('Hello'.upper())\n",
    "print('Hello'.upper().isupper())\n",
    "print('Hello'.upper().lower())"
   ]
  },
  {
   "cell_type": "code",
   "execution_count": 8,
   "id": "055186be",
   "metadata": {},
   "outputs": [
    {
     "name": "stdout",
     "output_type": "stream",
     "text": [
      "['Remember,', 'remember,', 'the', 'fifth', 'of', 'November.']\n"
     ]
    },
    {
     "data": {
      "text/plain": [
       "'There-can-be-only-one.'"
      ]
     },
     "execution_count": 8,
     "metadata": {},
     "output_type": "execute_result"
    }
   ],
   "source": [
    "#Question-8\n",
    "\n",
    "print('Remember, remember, the fifth of November.'.split())\n",
    "'-'.join('There can be only one.'.split())"
   ]
  },
  {
   "cell_type": "raw",
   "id": "3a618fc5",
   "metadata": {},
   "source": [
    "#Question-9\n",
    "\n",
    "The rjust() is right-justifying, ljust() is left-justifying,, and center() is centering a string string methods,"
   ]
  },
  {
   "cell_type": "raw",
   "id": "e93736e5",
   "metadata": {},
   "source": [
    "#Question -10\n",
    "\n",
    "The lstrip() and rstrip() methods remove whitespace from the left and right ends of a string"
   ]
  }
 ],
 "metadata": {
  "kernelspec": {
   "display_name": "Python 3 (ipykernel)",
   "language": "python",
   "name": "python3"
  },
  "language_info": {
   "codemirror_mode": {
    "name": "ipython",
    "version": 3
   },
   "file_extension": ".py",
   "mimetype": "text/x-python",
   "name": "python",
   "nbconvert_exporter": "python",
   "pygments_lexer": "ipython3",
   "version": "3.9.12"
  }
 },
 "nbformat": 4,
 "nbformat_minor": 5
}
