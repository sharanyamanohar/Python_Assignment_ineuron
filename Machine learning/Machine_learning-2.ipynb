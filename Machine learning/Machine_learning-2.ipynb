{
 "cells": [
  {
   "cell_type": "markdown",
   "id": "444c1290",
   "metadata": {},
   "source": [
    "# SHARANYA MANOHAR\n",
    "## MACHINE LEARNING -2 ASSIGNMENT"
   ]
  },
  {
   "cell_type": "markdown",
   "id": "8b78f52e",
   "metadata": {},
   "source": [
    "Q.1 What is the concept of human learning? Please give two examples.\n",
    "\n",
    "Sol-Human learning is the process of learning who acquires a knowledge as per previous experience,behaviour skills,good deeds,values,Observational learning,etc as human learning is important in which it helps different groups of people to share the knowledge,agree on mutual values and understanding one other better.\n",
    "\n",
    "Examples-Memorizing a poem,learning to drive"
   ]
  },
  {
   "cell_type": "markdown",
   "id": "569498fb",
   "metadata": {},
   "source": [
    "Q.2-What different forms of human learning are there? Are there any machine learning equivalents?\n",
    "\n",
    "Ans-There are 3 major different forms of human learning are there:\n",
    "a)Learning through association-Classical conditioning\n",
    "b)Learning through consequences-Operant conditioning\n",
    "c)Learning through observations-Modeling/Observational learning\n",
    "\n",
    "Yes the machine learning equivalents to human learning in which on machine learning machine learns from the previous experience as well as human also learn from previous experience"
   ]
  },
  {
   "cell_type": "markdown",
   "id": "168a37d1",
   "metadata": {},
   "source": [
    "Q.3-What is machine learning, and how does it work? What are the key responsibilities of machine learning?\n",
    "\n",
    "Ans-Machine learning(ML) that allows software applications to become more accurate at predicting outcomes without being explicitly programmed to do so.As understanding a problem statement and predicting it for human it will be difficult but machine can do the work in simpler and efficient way."
   ]
  },
  {
   "cell_type": "markdown",
   "id": "20dea641",
   "metadata": {},
   "source": [
    "Q.4-Define the terms \"penalty\" and \"reward\" in the context of reinforcement learning.\n",
    "\n",
    "Ans-A reinforcement learning algorithm, which may also be referred to as an agent, learns by interacting with its environment. The agent receives rewards by performing correctly and penalties for performing incorrectly."
   ]
  },
  {
   "cell_type": "markdown",
   "id": "5a85a694",
   "metadata": {},
   "source": [
    "Q.5-Explain the term \"learning as a search\"?\n",
    "\n",
    "Ans-As learning is nothing but to search and grasp it,because he learner searches through  hypotheses , to find the best one."
   ]
  },
  {
   "cell_type": "markdown",
   "id": "e1f26ecf",
   "metadata": {},
   "source": [
    "Q.6. What are the various goals of machine learning? What is the relationship between these and human learning?\n",
    "\n",
    "Ans-The ultimate goal of Machine learning to train the model by the gien dataset and to predict it.From the actual resource if the input is given than based on that it will predict the efficient output.But the human learning and understanding is required to train the Machine learning but human cant remember the understanding of complete dataset but machine can learn it ,remember it and even implement it."
   ]
  },
  {
   "cell_type": "markdown",
   "id": "9fafc20f",
   "metadata": {},
   "source": [
    "Q.7. Illustrate the various elements of machine learning using a real-life illustration.\n",
    "\n",
    "Ans-Voice search,Self driven cars,Prediction and forecasting the futures,by giving the actual dataset and train the model we can predict the future,Image recognition,automated translation"
   ]
  },
  {
   "cell_type": "markdown",
   "id": "251e700e",
   "metadata": {},
   "source": [
    "Q.8. Provide an example of the abstraction method.\n",
    "\n",
    "Ans-When we use the TV remote to increase the volume. We don't know how pressing a key increases the volume of the TV. We only know to press the \"+\" button to increase the volume"
   ]
  },
  {
   "cell_type": "markdown",
   "id": "acb79e78",
   "metadata": {},
   "source": [
    "Q.9. What is the concept of generalization? What function does it play in the machine learning\n",
    "process?\n",
    "\n",
    "Ans-Generalization refers to your model's ability to adapt properly to new, previously unseen data, drawn from the same distribution as the one used to create the model."
   ]
  },
  {
   "cell_type": "markdown",
   "id": "4422f7db",
   "metadata": {},
   "source": [
    "Q.10. What is classification, exactly? What are the main distinctions between classification and regression?\n",
    "\n",
    "Ans-As there are 2 different types of supervised learning that is regression and calssification in which on regression helps to predict the continuous outcomes whereas calssification helps to predict the discrete outcomes."
   ]
  },
  {
   "cell_type": "markdown",
   "id": "fd5fb347",
   "metadata": {},
   "source": [
    "Q.11. What is regression, and how does it work? Give an example of a real-world problem that was\n",
    "solved using regression.\n",
    "\n",
    "Ans-A regression is a statistical technique that relates a dependent variable to one or more independent (explanatory) variables. A regression model is able to show whether changes observed in the dependent variable are associated with changes in one or more of the explanatory variables.eg we can say as everyday temperature,height,weight,etc"
   ]
  },
  {
   "cell_type": "markdown",
   "id": "df77d127",
   "metadata": {},
   "source": [
    "Q.12. Describe the clustering mechanism in detail.\n",
    "\n",
    "Ans-Clustering is the task of dividing the population or data points into a number of groups such that data points in the same groups are more similar to other data points in the same group than those in other groups. "
   ]
  },
  {
   "cell_type": "markdown",
   "id": "44e00bad",
   "metadata": {},
   "source": [
    "Q.13. Make brief observations on two of the following topics:\n",
    "\n",
    "i. Machine learning algorithms are used\n",
    "ii. Studying under supervision\n",
    "iii. Studying without supervision\n",
    "iv. Reinforcement learning is a form of learning based on positive reinforcement.\n",
    "\n",
    "Ans-i)machine learning uses programmed algorithms that receive and analyse input data to predict output values within an acceptable range.\n",
    "ii)Supervised learning allows collecting data and produces data output from previous experiences. "
   ]
  }
 ],
 "metadata": {
  "kernelspec": {
   "display_name": "Python 3 (ipykernel)",
   "language": "python",
   "name": "python3"
  },
  "language_info": {
   "codemirror_mode": {
    "name": "ipython",
    "version": 3
   },
   "file_extension": ".py",
   "mimetype": "text/x-python",
   "name": "python",
   "nbconvert_exporter": "python",
   "pygments_lexer": "ipython3",
   "version": "3.9.12"
  }
 },
 "nbformat": 4,
 "nbformat_minor": 5
}
