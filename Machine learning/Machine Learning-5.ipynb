{
 "cells": [
  {
   "cell_type": "markdown",
   "id": "4e9a725c",
   "metadata": {},
   "source": [
    "# Sharanya Manohar\n",
    "## Machine learning-5"
   ]
  },
  {
   "cell_type": "markdown",
   "id": "6a0c2a3c",
   "metadata": {},
   "source": [
    "1. What are the key tasks that machine learning entails? What does data pre-processing imply?"
   ]
  },
  {
   "cell_type": "markdown",
   "id": "6770f973",
   "metadata": {},
   "source": [
    "Solution-\n",
    "The key tasks that ML entails:\n",
    "a)Collecting data\n",
    "b)Preparing data\n",
    "c)Data Pre-processing\n",
    "d)Training ,Testing ,Improving model\n",
    "Data pre-processing is the process of preparing raw data and making it suitable for a machine learning model."
   ]
  },
  {
   "cell_type": "markdown",
   "id": "a852fcb8",
   "metadata": {},
   "source": [
    "2. Describe quantitative and qualitative data in depth. Make a distinction between the two."
   ]
  },
  {
   "cell_type": "markdown",
   "id": "f8b4f7e4",
   "metadata": {},
   "source": [
    "Solution-\n",
    "\n",
    "Quantitative data is numbers-based, countable, or measurable. Quantitative data tells us how many, how much, or how often in calculations.\n",
    "\n",
    "Qualitative data is interpretation-based, descriptive, and relating to language. Qualitative data can help us to understand why, how, or what happened behind certain behaviors."
   ]
  },
  {
   "cell_type": "markdown",
   "id": "468f1528",
   "metadata": {},
   "source": [
    "3. Create a basic data collection that includes some sample records. Have at least one attribute from each of the machine learning data types."
   ]
  },
  {
   "cell_type": "markdown",
   "id": "6b1104ec",
   "metadata": {},
   "source": [
    "Solution-\n",
    "\n",
    "The following is a basic data collection that includes some sample records.\n",
    "\n",
    "1)Determine What Information You Want to Collect: The first thing you need to do is choose what details you want to collect. You’ll need to decide what topics the information will cover, who you want to collect it from and how much data you need. Your goals — what you hope to accomplish using your data — will determine your answers to these questions. As an example, you may decide to collect data about which type of articles are most popular on your website among visitors who are between the ages of 18 and 34. You might also choose to gather information about the average age of all of the customers who bought a product from your company within the last month.\n",
    "\n",
    "2)Set a Timeframe for Data Collection: Next, you can start formulating your plan for how you’ll collect your data. In the early stages of your planning process, you should establish a timeframe for your data collection. You may want to gather some types of data continuously. When it comes to transactional data and website visitor data, for example, you may want to set up a method for tracking that data over the long term. If you’re tracking data for a specific campaign, however, you’ll track it over a defined period. In these instances, you’ll have a schedule for when you’ll start and end your data collection.\n",
    "\n",
    "3)Determine Your Data Collection Method: At this step, you will choose the data collection method that will make up the core of your data-gathering strategy. To select the right collection method, you’ll need to consider the type of information you want to collect, the timeframe over which you’ll obtain it and the other aspects you determined.\n",
    "\n",
    "4)Collect the Data: Once you have finalized your plan, you can implement your data collection strategy and start collecting data. You can store and organize your data in your DMP. Be sure to stick to your plan and check on its progress regularly. It may be useful to create a schedule for when you will check in with how your data collection is proceeding, especially if you are collecting data continuously. You may want to make updates to your plan as conditions change and you get new information.\n",
    "\n",
    "5)Analyze the Data and Implement Your Findings: Once you’ve collected all of your data, it’s time to analyze it and organize your findings. The analysis phase is crucial because it turns raw data into valuable insights that you can use to enhance your marketing strategies, products and business decisions. You can use the analytics tools built into our DMP to help with this step. Once you’ve uncovered the patterns and insights in your data, you can implement the findings to improve your business."
   ]
  },
  {
   "cell_type": "markdown",
   "id": "df8b4238",
   "metadata": {},
   "source": [
    "4. What are the various causes of machine learning data issues? What are the ramifications?"
   ]
  },
  {
   "cell_type": "markdown",
   "id": "dab36933",
   "metadata": {},
   "source": [
    "Solution-\n",
    "\n",
    "1) Understanding Which Processes Need Automation.\n",
    "2) Lack of Quality Data. \n",
    "3) Inadequate Infrastructure.\n",
    "4) Implementation.\n",
    "5) Lack of Skilled Resources.\n",
    "\n",
    "The ramifications is one of the many complicated or unexpected results of an action or decision"
   ]
  },
  {
   "cell_type": "markdown",
   "id": "2d52d517",
   "metadata": {},
   "source": [
    "5. Demonstrate various approaches to categorical data exploration with appropriate examples."
   ]
  },
  {
   "cell_type": "markdown",
   "id": "61b9877c",
   "metadata": {},
   "source": [
    "Solution-\n",
    "\n",
    "a)Unique value count\n",
    "b)Frequency count\n",
    "c)Variance\n",
    "d)Pareto analysis\n",
    "e)Histogram\n",
    "f)Correlation heatmap between all numeric columns\n",
    "g)Pearson Correlation and Trend between two numeric columns\n",
    "h)Correlation between two specific categorical columns"
   ]
  },
  {
   "cell_type": "markdown",
   "id": "45d931ec",
   "metadata": {},
   "source": [
    "6. How would the learning activity be affected if certain variables have missing values? Having said\n",
    "that, what can be done about it?"
   ]
  },
  {
   "cell_type": "markdown",
   "id": "71b94125",
   "metadata": {},
   "source": [
    "Solution-\n",
    "\n",
    "a)By using simple imputer technique ,missing values will be handled\n",
    "b)KNN imputer\n",
    "c)Iterative imputer"
   ]
  },
  {
   "cell_type": "markdown",
   "id": "92a8916f",
   "metadata": {},
   "source": [
    "7. Describe the various methods for dealing with missing data values in depth."
   ]
  },
  {
   "cell_type": "markdown",
   "id": "beb10fcb",
   "metadata": {},
   "source": [
    "Solution-\n",
    "\n",
    "One way of handling missing values is the deletion of the rows or columns having null values. If any columns have more than half of the values as null then you can drop the entire column. In the same way, rows can also be dropped if having one or more columns values as null."
   ]
  },
  {
   "cell_type": "markdown",
   "id": "e8c92173",
   "metadata": {},
   "source": [
    "8. What are the various data pre-processing techniques? Explain dimensionality reduction and\n",
    "function selection in a few words."
   ]
  },
  {
   "cell_type": "markdown",
   "id": "6afccb9e",
   "metadata": {},
   "source": [
    "Solution-\n",
    "\n",
    "Data preprocessing-\n",
    "Data preprocessing is the process of transforming raw data into an understandable format. It is also an important step in data mining as we cannot work with raw data. The quality of the data should be checked before applying machine learning or data mining algorithms\n",
    "\n",
    "Dimensionality reduction-\n",
    "Dimensionality reduction is a machine learning (ML) or statistical technique of reducing the amount of random variables in a problem by obtaining a set of principal variables.\n",
    "\n",
    "Feature selection-\n",
    "There are three types of feature selection: Wrapper methods (forward, backward, and stepwise selection), Filter methods (ANOVA, Pearson correlation, variance thresholding), and Embedded methods (Lasso, Ridge, Decision Tree)."
   ]
  },
  {
   "cell_type": "markdown",
   "id": "038490f5",
   "metadata": {},
   "source": [
    "9.\n",
    "\n",
    "i. What is the IQR? What criteria are used to assess it?\n",
    "\n",
    "ii. Describe the various components of a box plot in detail? When will the lower whisker\n",
    "surpass the upper whisker in length? How can box plots be used to identify outliers?"
   ]
  },
  {
   "cell_type": "markdown",
   "id": "e4758f1c",
   "metadata": {},
   "source": [
    "Solution-\n",
    "\n",
    "a)IQR is used to measure variability by dividing a data set into quartiles. The data is sorted in ascending order and split into 4 equal parts. Q1, Q2, Q3 called first, second and third quartiles are the values which separate the 4 equal parts. Q1 represents the 25th percentile of the data.The interquartile range is calculated in much the same way as the range. All you do to find it is subtract the first quartile from the third quartile: IQR = Q3 – Q1. The interquartile range shows how the data is spread about the median.\n",
    "\n",
    "b)A box and whisker plot—also called a box plot—displays the five-number summary of a set of data. The five-number summary is the minimum, first quartile, median, third quartile, and maximum.\n",
    "\n",
    "c)Outliers can be idetified by box plot,violin plot,scatter plot"
   ]
  },
  {
   "cell_type": "markdown",
   "id": "e822c69d",
   "metadata": {},
   "source": [
    "10. Make brief notes on any two of the following:\n",
    "\n",
    "1. Data collected at regular intervals\n",
    "\n",
    "2. The gap between the quartiles\n",
    "\n",
    "3. Use a cross-tab\n",
    "\n",
    "1. Make a comparison between:\n",
    "\n",
    "1. Data with nominal and ordinal values\n",
    "\n",
    "2. Histogram and box plot\n",
    "\n",
    "3. The average and median"
   ]
  },
  {
   "cell_type": "markdown",
   "id": "a3ddc528",
   "metadata": {},
   "source": [
    "1. Data collected at regular intervals\n",
    "\n",
    "Interval data, also called an integer, is defined as a data type which is measured along a scale, in which each point is placed at equal distance from one another. Interval data always appears in the form of numbers or numerical values where the distance between the two points is standardized and equal.\n",
    "\n",
    "\n",
    "2. The gap between the quartiles\n",
    "\n",
    "The distance between the first and third quartiles—the interquartile range (IQR)—is a measure of variability. It indicates the spread of the middle 50% of the data. The IQR is an especially good measure of variability for skewed distributions or distributions with outliers.\n",
    "\n",
    "\n",
    "3. Use a cross-tab\n",
    "Cross tabulation is used to quantitatively analyze the relationship between multiple variables. Cross tabulations — also referred to as contingency tables or crosstabs — group variables together and enable researchers to understand the correlation between the different variables"
   ]
  },
  {
   "cell_type": "markdown",
   "id": "e1af7d44",
   "metadata": {},
   "source": [
    "1. Data with nominal and ordinal values\n",
    "\n",
    "Examples of nominal data include country, gender, race, hair color etc. of a group of people, while that of ordinal data includes having a position in class as “First” or “Second”. Note that the nominal data examples are nouns, with no order to them while ordinal data examples come with a level of order."
   ]
  },
  {
   "cell_type": "markdown",
   "id": "86bc485d",
   "metadata": {},
   "source": [
    "2. Histogram and box plot\n",
    "\n",
    "Histograms are a special kind of bar graph that shows a bar for a range of data values instead of a single value. A box plot is a data display that draws a box over a number line to show the interquartile range of the data."
   ]
  },
  {
   "cell_type": "markdown",
   "id": "e2cc7f09",
   "metadata": {},
   "source": [
    "3. The average and median\n",
    "\n",
    "Median is the middle value in a set, whereas average is an arithmetic mean of set of numbers. Median and Average are two essential terms that are used in statistics, and they are used very often."
   ]
  }
 ],
 "metadata": {
  "kernelspec": {
   "display_name": "Python 3 (ipykernel)",
   "language": "python",
   "name": "python3"
  },
  "language_info": {
   "codemirror_mode": {
    "name": "ipython",
    "version": 3
   },
   "file_extension": ".py",
   "mimetype": "text/x-python",
   "name": "python",
   "nbconvert_exporter": "python",
   "pygments_lexer": "ipython3",
   "version": "3.9.12"
  }
 },
 "nbformat": 4,
 "nbformat_minor": 5
}
