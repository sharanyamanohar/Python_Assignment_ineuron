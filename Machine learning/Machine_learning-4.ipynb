{
 "cells": [
  {
   "cell_type": "markdown",
   "id": "ca072336",
   "metadata": {},
   "source": [
    "# Sharanya Manohar\n",
    "## Machine learning-4"
   ]
  },
  {
   "cell_type": "markdown",
   "id": "6a0c2a3c",
   "metadata": {},
   "source": [
    "1. What are the key tasks involved in getting ready to work with machine learning modeling?"
   ]
  },
  {
   "cell_type": "markdown",
   "id": "71d055ff",
   "metadata": {},
   "source": [
    "Solution-\n",
    "1)Collecting the data-collecting the data from various database\n",
    "2)Preparing the Data: After you have your data, you have to prepare it\n",
    "3)Cleaning the data-Since all the uncleaned data we need to hand before processing the data\n",
    "4)Choosing the model\n",
    "5)Training the model\n",
    "6)Evaluating the model\n",
    "7)Parameter tuning\n",
    "8)Making prediction"
   ]
  },
  {
   "cell_type": "markdown",
   "id": "2af64221",
   "metadata": {},
   "source": [
    "2. What are the different forms of data used in machine learning? Give a specific example for each of\n",
    "them."
   ]
  },
  {
   "cell_type": "markdown",
   "id": "12c3d1f4",
   "metadata": {},
   "source": [
    "Solution-\n",
    "\n",
    "a)Structured data\n",
    "This type of data is usually composed of numbers or words. They are usually stored in Relational databases and can be easily searched using SQL queries.\n",
    "b)Numeric/Quantitative data\n",
    "As the name suggests, this encompasses data that can be represented through numbers. Examples of such data are sales price, metric quantities such as temperature, time, length, height & weight of a person, and so on.\n",
    "c)Discrete\n",
    "In this category, the data takes on discrete values or whole numbers i.e numbers without decimal points. Examples are the number of houses in a city, the number of consumers in a grocery store over the last month, the number of Instagram followers that you have, and so on.\n",
    "d)Continuous\n",
    "In this category, the data takes on integer values i.e numbers with decimal values. Examples for continuous numeric data are house prices in the city, sale prices of grocery store items, Instagram earnings that you received, and so on.\n",
    "e)Categorical/Qualitative data\n",
    "As the name suggests, this encompasses data that can be represented through words. It usually defines groups or categories & is therefore known as categorical data. Some examples are the names of all items in a supermarket, movie ratings(good, average, bad), country of birth of individuals & so on.\n",
    "f)Ordinal\n",
    "This type of data has an inherent ordering present within the categories. For instance, if you consider movie ratings with good, average & bad as the different categories\n",
    "g)Nominal\n",
    "This type of data has categories that don’t have any particular order or ranking associated with them. The total number of categories is usually finite in this type of data as well. Examples will be the country of birth of individuals, all items in a supermarket, educational degrees of individuals, and so on.\n",
    "h)Unique\n",
    "This type of data has a unique value for each sample and the number of categories is usually large. Sometimes it is so large that it cannot be called categorical data, but it still consists of alphabets and numbers."
   ]
  },
  {
   "cell_type": "markdown",
   "id": "90bcf18b",
   "metadata": {},
   "source": [
    "3. Distinguish:1. Numeric vs. categorical attributes2. Feature selection vs. dimensionality reduction"
   ]
  },
  {
   "cell_type": "markdown",
   "id": "63938539",
   "metadata": {},
   "source": [
    "Solution-1)Numerical data refers to the data that is in the form of numbers, and not in any language or descriptive form.\n",
    "2)A categorical variable is a variable that can take on one of a limited, and usually fixed, number of possible values, assigning each individual or other unit of observation to a particular group or nominal category on the basis of some qualitative property."
   ]
  },
  {
   "cell_type": "markdown",
   "id": "baa6132e",
   "metadata": {},
   "source": [
    "4. Make quick notes on any two of the following:\n",
    "\n",
    "1. The histogram\n",
    "\n",
    "2. Use a scatter plot\n",
    "\n",
    "3.PCA (Personal Computer Aid)"
   ]
  },
  {
   "cell_type": "markdown",
   "id": "c3de9ea2",
   "metadata": {},
   "source": [
    "Solution-\n",
    "a)Histogram-A histogram is a graphical representation of data points organized into user-specified ranges\n",
    "b)Scatter plot-Scatter plots are used to plot data points on a horizontal and a vertical axis in the attempt to show how much one variable is affected by another.\n",
    "c)PCA-PCA is a tool for identifying the main axes of variance within a data set and allows for easy data exploration to understand the key variables in the data and spot outliers."
   ]
  },
  {
   "cell_type": "markdown",
   "id": "63150c28",
   "metadata": {},
   "source": [
    "5. Why is it necessary to investigate data? Is there a discrepancy in how qualitative and quantitative\n",
    "data are explored?"
   ]
  },
  {
   "cell_type": "markdown",
   "id": "1dd3e9f7",
   "metadata": {},
   "source": [
    "Solution-\n",
    "The combination of qualitative and quantitative data can also lead to clashes in the philosophical assumptions behind each approach.While quantitative data can be analyzed statistically and calculated into averages, means, and other numerical data points, qualitative data analysis involves a more complex system. To glean insights from qualitative data, researchers conduct a manual analysis of datasets and often code responses into categories."
   ]
  },
  {
   "cell_type": "markdown",
   "id": "4a2568b0",
   "metadata": {},
   "source": [
    "6. What are the various histogram shapes? What exactly are ‘bins'?"
   ]
  },
  {
   "cell_type": "markdown",
   "id": "10f0b62e",
   "metadata": {},
   "source": [
    "Solution-\n",
    "a)Skewed Distribution.\n",
    "b)Double-Peaked or Bimodal. \n",
    "c)Plateau or Multimodal Distribution. \n",
    "d)Edge Peak Distribution.\n",
    "e)Comb Distribution. \n",
    "\n",
    "Bins=(Max value-Min value)By total number of bins"
   ]
  },
  {
   "cell_type": "markdown",
   "id": "64533eee",
   "metadata": {},
   "source": [
    "7. How do we deal with data outliers?"
   ]
  },
  {
   "cell_type": "markdown",
   "id": "2c7207a4",
   "metadata": {},
   "source": [
    "Solution-\n",
    "a)By z-score value\n",
    "b)By IQR (Inter Quartile range)\n",
    "c)Box plot"
   ]
  },
  {
   "cell_type": "markdown",
   "id": "3c898658",
   "metadata": {},
   "source": [
    "8. What are the various central inclination measures? Why does mean vary too much from median in\n",
    "certain data sets?"
   ]
  },
  {
   "cell_type": "markdown",
   "id": "f412f185",
   "metadata": {},
   "source": [
    "Solution-\n",
    "Central inclination measures:\n",
    "a)Mean\n",
    "b)Median\n",
    "c) Mode\n",
    "If on dataset outliers detected on particular column the apply median in place of mean,The \"mean\" is the \"average\" you're used to, where you add up all the numbers and then divide by the number of numbers. The \"median\" is the \"middle\" value in the list of numbers."
   ]
  },
  {
   "cell_type": "markdown",
   "id": "23cc535e",
   "metadata": {},
   "source": [
    "9. Describe how a scatter plot can be used to investigate bivariate relationships. Is it possible to find\n",
    "outliers using a scatter plot?"
   ]
  },
  {
   "cell_type": "markdown",
   "id": "bd22b216",
   "metadata": {},
   "source": [
    "Solution-\n",
    "This kind of data is called bivariate data because it has 2 variables. Line plots can only show 1 variable. Scatter plots are a tool you can use to display bivariate data.If there is a regression line on a scatter plot, you can identify outliers. An outlier for a scatter plot is the point or points that are farthest from the regression line. There is at least one outlier on a scatter plot in most cases, and there is usually only one outlier."
   ]
  },
  {
   "cell_type": "markdown",
   "id": "aabe401d",
   "metadata": {},
   "source": [
    "10. Describe how cross-tabs can be used to figure out how two variables are related."
   ]
  },
  {
   "cell_type": "markdown",
   "id": "c2b6c03e",
   "metadata": {},
   "source": [
    "Solution-\n",
    "Cross tabulation is a method to quantitatively analyze the relationship between multiple variables. Also known as contingency tables or cross tabs, cross tabulation groups variables to understand the correlation between different variables. It also shows how correlations change from one variable grouping to another."
   ]
  }
 ],
 "metadata": {
  "kernelspec": {
   "display_name": "Python 3 (ipykernel)",
   "language": "python",
   "name": "python3"
  },
  "language_info": {
   "codemirror_mode": {
    "name": "ipython",
    "version": 3
   },
   "file_extension": ".py",
   "mimetype": "text/x-python",
   "name": "python",
   "nbconvert_exporter": "python",
   "pygments_lexer": "ipython3",
   "version": "3.9.12"
  }
 },
 "nbformat": 4,
 "nbformat_minor": 5
}
