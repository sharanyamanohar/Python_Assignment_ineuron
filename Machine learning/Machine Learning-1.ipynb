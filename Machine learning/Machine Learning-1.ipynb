{
 "cells": [
  {
   "cell_type": "markdown",
   "id": "49138d07",
   "metadata": {},
   "source": [
    "# Sharanya Manohar\n",
    "## Machine Learning-1"
   ]
  },
  {
   "cell_type": "markdown",
   "id": "f80fa7b5",
   "metadata": {},
   "source": [
    "1. What does one mean by the term \"machine learning\"?\n",
    "\n",
    "Ans-As we human think ,but machine think about any problem statement ,it learns through different algorithm and it predicts.\n",
    "ML is a type of AI that allows software application to become more accurate at predicting outcomes .ML reads the dataset completely and based on reading it predict the output.The more it learned from experience,using algorithm more accurate the result will be."
   ]
  },
  {
   "cell_type": "markdown",
   "id": "fc95273e",
   "metadata": {},
   "source": [
    "2.Can you think of 4 distinct types of issues where it shines?\n",
    "\n",
    "Ans-a)It builds a models that solve a problem in a High-dimensional space.\n",
    "b)For human it is very hard to imagine the future but for machine its very easy to understand.ML performs well in predicting futures.\n",
    "c)Machine learning (ML), the proficiency of a machine to mimic human ability to accumulate knowledge and use it to drive insights, is generally considered the basis of AI.\n",
    "d)ML is future ,and is applicable in every part of our life like medical,Finance,IT sector,etc."
   ]
  },
  {
   "cell_type": "markdown",
   "id": "f0ed47aa",
   "metadata": {},
   "source": [
    "3.What is a labeled training set, and how does it work?\n",
    "\n",
    "Ans-Training dataset is used to train the algorithm.By the given dataset it will train the algorithm and by testinh the data it will predict the future.It enables ML models to learn the characteristics associated with specific labels, which can be used to classify newer data points."
   ]
  },
  {
   "cell_type": "markdown",
   "id": "ea17e846",
   "metadata": {},
   "source": [
    "4.What are the two most important tasks that are supervised?\n",
    "\n",
    "Ans-The two most important task that are supervised is regression and classification."
   ]
  },
  {
   "cell_type": "markdown",
   "id": "83f7efee",
   "metadata": {},
   "source": [
    "5.Can you think of four examples of unsupervised tasks?\n",
    "\n",
    "Ans-The four examples are clustering, visualization, dimensionality reduction, and association rule learning."
   ]
  },
  {
   "cell_type": "markdown",
   "id": "059c0760",
   "metadata": {},
   "source": [
    "6.State the machine learning model that would be best to make a robot walk through various\n",
    "unfamiliar terrains?\n",
    "\n",
    "Ans-Deep Reinforcement Learning model that would be best to make a robot walk through various\n",
    "unfamiliar terrains"
   ]
  },
  {
   "cell_type": "code",
   "execution_count": null,
   "id": "f43c5ca6",
   "metadata": {},
   "outputs": [],
   "source": [
    "7.Which algorithm will you use to divide your customers into different groups?\n",
    "\n",
    "Ans-K-means clustering algorithm will used to divide our customers into different groups."
   ]
  },
  {
   "cell_type": "markdown",
   "id": "d082d7b6",
   "metadata": {},
   "source": [
    "8.Will you consider the problem of spam detection to be a supervised or unsupervised learning\n",
    "problem.\n",
    "\n",
    "Ans-Spam detection is a supervised Machine learning.In which we need to give some spam and ham messages ,it will train it and it will predict the spam detection based on training dataset"
   ]
  },
  {
   "cell_type": "markdown",
   "id": "687434b2",
   "metadata": {},
   "source": [
    "9.What is the concept of an online learning system?\n",
    "\n",
    "Ans-Online learning system that takes over the internet.Online learning is nothing but distance learning"
   ]
  },
  {
   "cell_type": "markdown",
   "id": "77521781",
   "metadata": {},
   "source": [
    "10.What is out-of-core learning, and how does it differ from core learning?\n",
    "\n",
    "Ans-The term out-of-core typically refers to processing data that is too large to fit into a computer's main memory.\n",
    "It is a way to train your model on data that cannot fit your core memory. Out-of-core learning refers to the machine learning algorithms working with data that cannot fit into a single machine's memory but can easily fit into some data storage, such as a local hard disk or web repository."
   ]
  },
  {
   "cell_type": "markdown",
   "id": "60e3737a",
   "metadata": {},
   "source": [
    "11.What kind of learning algorithm makes predictions using a similarity measure?\n",
    "\n",
    "Ans-Instance based learning algorithm makes predictions using a similarity measure."
   ]
  },
  {
   "cell_type": "markdown",
   "id": "d2d7f3ed",
   "metadata": {},
   "source": [
    "12.What is the difference between a model parameter and a hyperparameter in a learning\n",
    "algorithm?\n",
    "\n",
    "Ans-Model parameter are internal to model and estimated from data automatically,where hyperparameter is we used to tune the parameter as per our needed to increase the model accuracy."
   ]
  },
  {
   "cell_type": "markdown",
   "id": "a57b6dc8",
   "metadata": {},
   "source": [
    "13.What are the criteria that model-based learning algorithms look for? What is the most popular\n",
    "method they use to achieve success? What method do they use to make predictions?\n",
    "\n",
    "Ans-Model-based learning algorithm look for the optimal value of parameter in a model that will give the best results for a new instances.We often use cost or loss function to check whether the model is training very well or not.The method is used to make prediction like to understand a data,accuaracy ,speed or time,Linearity,Number of features,etc"
   ]
  },
  {
   "cell_type": "markdown",
   "id": "3c7e0941",
   "metadata": {},
   "source": [
    "14.Can you name four of the most important Machine Learning challenges?\n",
    "\n",
    "Ans-Overfitting,underfitting,lack of data and non representative data"
   ]
  },
  {
   "cell_type": "markdown",
   "id": "2ea27ba4",
   "metadata": {},
   "source": [
    "15.What happens if the model performs well on the training data but fails to generalize the results\n",
    "to new situations? Can you think of three different options?\n",
    "\n",
    "Ans-The model performs well on training dataset and fails to generalize the results to a new situation it because of overfitting,in which it contains low bias and high variance so it can go through the regularization technique like Ridge,Lasso ,Elastic net by using lambda value it can get the best fit model."
   ]
  },
  {
   "cell_type": "markdown",
   "id": "af7153a4",
   "metadata": {},
   "source": [
    "16.What exactly is a test set, and why would you need one?\n",
    "\n",
    "Ans-From the dataset we make the training data and testing data in which the machine will learn from training data and it will predict the testing testing data,and we need both the data for building good model and to get the good accuracy."
   ]
  },
  {
   "cell_type": "markdown",
   "id": "7bfabbc9",
   "metadata": {},
   "source": [
    "17.What is a validation set's purpose?\n",
    "\n",
    "Ans-Validation data set will be created before model building ,its nothing but to validate the dataset.It is used to tune the parameters.The cross validation set is used to help detect over-fitting."
   ]
  },
  {
   "cell_type": "markdown",
   "id": "a4ce0a5b",
   "metadata": {},
   "source": [
    "18.What precisely is the train-dev kit, when will you need it, how do you put it to use?\n",
    "\n",
    "Ans-The goal of dev-set is to rank the models in term of their accuracy and helps us decide which model to proceed further with it"
   ]
  },
  {
   "cell_type": "markdown",
   "id": "12b8b79c",
   "metadata": {},
   "source": [
    "19.What could go wrong if you use the test set to tune hyperparameters?\n",
    "\n",
    "Ans-The test set is not used for training or hyperparameter tuning but is used only in the end to establish how good the final model .You actually lose the possibility to find out how good your model would actually be on unseen data"
   ]
  }
 ],
 "metadata": {
  "kernelspec": {
   "display_name": "Python 3 (ipykernel)",
   "language": "python",
   "name": "python3"
  },
  "language_info": {
   "codemirror_mode": {
    "name": "ipython",
    "version": 3
   },
   "file_extension": ".py",
   "mimetype": "text/x-python",
   "name": "python",
   "nbconvert_exporter": "python",
   "pygments_lexer": "ipython3",
   "version": "3.9.12"
  }
 },
 "nbformat": 4,
 "nbformat_minor": 5
}
