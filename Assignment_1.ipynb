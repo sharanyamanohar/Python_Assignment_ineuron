{
 "cells": [
  {
   "cell_type": "markdown",
   "id": "c78243f4",
   "metadata": {},
   "source": [
    "\n",
    "# Name : Sharanya Manohar"
   ]
  },
  {
   "cell_type": "markdown",
   "id": "b30a909e",
   "metadata": {},
   "source": [
    "## iNeuron Assignmment 1"
   ]
  },
  {
   "cell_type": "markdown",
   "id": "a9ed38e6",
   "metadata": {},
   "source": [
    "# "
   ]
  },
  {
   "cell_type": "markdown",
   "id": "f4e40b21",
   "metadata": {},
   "source": [
    "1.In the below elements which of them are values or an expression? eg:- values can be\n",
    "integer or string and expressions will be mathematical operators.\n",
    "\n",
    "*\n",
    "'hello'\n",
    "-87.8\n",
    "-\n",
    "/\n",
    "+\n",
    "6"
   ]
  },
  {
   "cell_type": "markdown",
   "id": "f3719fe5",
   "metadata": {},
   "source": [
    "Ans1-\n",
    "*     expression\n",
    "'hello'  values\n",
    "-87.8  values\n",
    "-     expression\n",
    "/     expression     \n",
    "+     expression\n",
    "6     values"
   ]
  },
  {
   "cell_type": "markdown",
   "id": "29f91daa",
   "metadata": {},
   "source": [
    "2. What is the difference between string and variable?"
   ]
  },
  {
   "cell_type": "markdown",
   "id": "cbb1871a",
   "metadata": {},
   "source": [
    "Variables can store information inside them. Which can include strings, inetergers, float values, Boolean values, etc.\n",
    "Variables can never be any of the reserved keywords from python, like if , or , and , else , etc.\n",
    "\n",
    "Where as Strings are something that can be stored inside a variable.\n",
    "String contains series of characters which can include alphabets, numbers & symbols.\n",
    "All the information of the string is always stored inside two Double or Single inverted commas (\" \" or ' ' )."
   ]
  },
  {
   "cell_type": "markdown",
   "id": "d4132630",
   "metadata": {},
   "source": [
    "3. Describe three different data types."
   ]
  },
  {
   "cell_type": "markdown",
   "id": "16322c87",
   "metadata": {},
   "source": [
    "Ans3-\n",
    "\n",
    "List-List is a data structure which stores elements and/or values inside square bracket[].They are mutable and can store multiple repeated values\n",
    "\n",
    "Set-Set is a data strcture which stores unique elements and/or values inside curly brackets{}.They are mutable\n",
    "\n",
    "Dictionary-Dictionary is a data strcture which stores information in the form of Key and Value pair, inside curly brackets {Keys:values}. The keys inside the dictionary are unique."
   ]
  },
  {
   "cell_type": "markdown",
   "id": "9b5545c1",
   "metadata": {},
   "source": [
    "4. What is an expression made up of? What do all expressions do?"
   ]
  },
  {
   "cell_type": "markdown",
   "id": "2d9eb1a5",
   "metadata": {},
   "source": [
    "Ans4-\n",
    "An expression is a combination of operators and operands that can produce some other value as output.\n",
    "For example :  2 + 2"
   ]
  },
  {
   "cell_type": "markdown",
   "id": "020d5392",
   "metadata": {},
   "source": [
    "5. This assignment statements, like spam = 10. What is the difference between an\n",
    "expression and a statement?"
   ]
  },
  {
   "cell_type": "markdown",
   "id": "48c33a29",
   "metadata": {},
   "source": [
    "Ans-A statement is the command which does something with if-else,nested if,while loops ,for loops\n",
    " A Expression is a combination of values, operators and literals    "
   ]
  },
  {
   "cell_type": "markdown",
   "id": "eacd5678",
   "metadata": {},
   "source": [
    "6. After running the following code, what does the variable bacon contain?\n",
    "bacon = 22\n",
    "bacon + 1"
   ]
  },
  {
   "cell_type": "code",
   "execution_count": 10,
   "id": "a3f44132",
   "metadata": {},
   "outputs": [
    {
     "data": {
      "text/plain": [
       "22"
      ]
     },
     "execution_count": 10,
     "metadata": {},
     "output_type": "execute_result"
    }
   ],
   "source": [
    "#Ans-The bacon will contain 22\n",
    "bacon=22\n",
    "bacon + 1\n",
    "print(bacon)"
   ]
  },
  {
   "cell_type": "code",
   "execution_count": null,
   "id": "e32fa2ad",
   "metadata": {},
   "outputs": [],
   "source": [
    "7. What should the values of the following two terms be?\n",
    "'spam' + 'spamspam'='spamspamspam'\n",
    "'spam' * 3='spamspamspam'"
   ]
  },
  {
   "cell_type": "markdown",
   "id": "4bb864b1",
   "metadata": {},
   "source": [
    "8. Why is eggs a valid variable name while 100 is invalid?"
   ]
  },
  {
   "cell_type": "markdown",
   "id": "a9473349",
   "metadata": {},
   "source": [
    "Ans-8\n",
    "A variable cannot be any reserved keyword or any integer, float or Boolean values. Since here 100 is an integer, therefore it cannot be a variable."
   ]
  },
  {
   "cell_type": "markdown",
   "id": "6e34cff2",
   "metadata": {},
   "source": [
    "9. What three functions can be used to get the integer, floating-point number, or string version of a value?"
   ]
  },
  {
   "cell_type": "markdown",
   "id": "f341bea9",
   "metadata": {},
   "source": [
    "Ans-9\n",
    "int() function can be used to get the integer version of a value.\n",
    "float() function can be used to get the float version of a value.\n",
    "str() function can be used to get the string version of a value."
   ]
  },
  {
   "cell_type": "markdown",
   "id": "6a2cbb90",
   "metadata": {},
   "source": [
    "10. Why does this expression cause an error? How can you fix it?\n",
    "'I have eaten ' + 99 + ' burritos.'"
   ]
  },
  {
   "cell_type": "code",
   "execution_count": null,
   "id": "4339ad1b",
   "metadata": {},
   "outputs": [],
   "source": [
    "Ans-10\n",
    "We know that two or more strings can be concatinated to each other using addition operator ( + ).\n",
    "And it cannot be added to another datatype.\n",
    "Here in the given statement 99 is not in the form of a string, while others are.\n",
    "So, it causes an error after we concatinate them using addition operator ( + ).\n",
    "\n",
    "This can be fixed by putting the number 99 into inverted commas (thereby converting it into string type) \n",
    "or write it as str(99) to do the same.\n",
    "As follows :\n",
    "'I have eaten ' + '99' + ' burritos.'\n",
    "OR\n",
    "'I have eaten ' + str(99) + ' burritos.'"
   ]
  }
 ],
 "metadata": {
  "kernelspec": {
   "display_name": "Python 3 (ipykernel)",
   "language": "python",
   "name": "python3"
  },
  "language_info": {
   "codemirror_mode": {
    "name": "ipython",
    "version": 3
   },
   "file_extension": ".py",
   "mimetype": "text/x-python",
   "name": "python",
   "nbconvert_exporter": "python",
   "pygments_lexer": "ipython3",
   "version": "3.9.12"
  }
 },
 "nbformat": 4,
 "nbformat_minor": 5
}
