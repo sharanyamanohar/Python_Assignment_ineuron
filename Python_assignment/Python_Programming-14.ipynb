{
 "cells": [
  {
   "cell_type": "markdown",
   "id": "bcbb8604",
   "metadata": {},
   "source": [
    "## Sharanya Manohar\n",
    "## Python Assignment 14"
   ]
  },
  {
   "cell_type": "markdown",
   "id": "399dce8d",
   "metadata": {},
   "source": [
    "1. What does RGBA stand for?\n",
    "2. From the Pillow module, how do you get the RGBA value of any images?\n",
    "3. What is a box tuple, and how does it work?\n",
    "4. Use your image and load in notebook then, How can you find out the width and height of an\n",
    "Image object?\n",
    "5. What method would you call to get Image object for a 100×100 image, excluding the lower-left\n",
    "quarter of it?\n",
    "6. After making changes to an Image object, how could you save it as an image file?\n",
    "7. What module contains Pillow’s shape-drawing code?\n",
    "8. Image objects do not have drawing methods. What kind of object does? How do you get this kind\n",
    "of object?"
   ]
  },
  {
   "cell_type": "markdown",
   "id": "e9127548",
   "metadata": {},
   "source": [
    "Solution 1-\n",
    "RGBA(Red-Green-Blue-Alpha)\n",
    "The RGB color model is extended in this specification to include “alpha” to allow specification of the opacity of a color."
   ]
  },
  {
   "cell_type": "markdown",
   "id": "7d7af83a",
   "metadata": {},
   "source": [
    "Solution2-\n",
    "ImageColor.getcolor() gives rgba value of any image"
   ]
  },
  {
   "cell_type": "markdown",
   "id": "95ec16a4",
   "metadata": {},
   "source": [
    "Solution3-\n",
    " A box tuple is a tuple value of four integers: the left-edge x-coordinate, the top-edge y-coordinate,the width, and the height, respectively."
   ]
  },
  {
   "cell_type": "code",
   "execution_count": 6,
   "id": "65f8b387",
   "metadata": {},
   "outputs": [
    {
     "name": "stdout",
     "output_type": "stream",
     "text": [
      "Width, Height -> (1020, 510)\n",
      "Width, Height -> 1020,510\n",
      "Width, Height -> 1020,510\n"
     ]
    }
   ],
   "source": [
    "#Solution-4\n",
    "from PIL import Image\n",
    "pic = Image.open('pic.jpg')\n",
    "print(f'Width, Height -> {pic.size}') # Approach 1\n",
    "print(f'Width, Height -> {pic.width},{pic.height}') # Approach 2\n",
    "width,height = pic.size\n",
    "print(f'Width, Height -> {width},{height}') # Approach 3\n",
    "\n"
   ]
  },
  {
   "cell_type": "code",
   "execution_count": 7,
   "id": "8ce869e2",
   "metadata": {},
   "outputs": [],
   "source": [
    "#Solution-5\n",
    "from PIL import Image\n",
    "img = Image.open('Pic.jpg')\n",
    "new_img = img.crop((0,50,50,50))"
   ]
  },
  {
   "cell_type": "code",
   "execution_count": null,
   "id": "9b221c53",
   "metadata": {},
   "outputs": [],
   "source": [
    "#Solution-6\n",
    "from PIL import Image\n",
    "pic = Image.open('pic.jpg')\n",
    "pic.save('pic2.jpg')"
   ]
  },
  {
   "cell_type": "markdown",
   "id": "bdd58303",
   "metadata": {},
   "source": [
    "Solution 7-\n",
    "Pillows ImageDraw module contains Shape drawing methods"
   ]
  },
  {
   "cell_type": "markdown",
   "id": "39e051ee",
   "metadata": {},
   "source": [
    "Solution 8-\n",
    "mageDraw objects have shape-drawing methods such as point(), line(), or rectangle().They are returned by passing the Image object to the ImageDraw.Draw() function."
   ]
  }
 ],
 "metadata": {
  "kernelspec": {
   "display_name": "Python 3 (ipykernel)",
   "language": "python",
   "name": "python3"
  },
  "language_info": {
   "codemirror_mode": {
    "name": "ipython",
    "version": 3
   },
   "file_extension": ".py",
   "mimetype": "text/x-python",
   "name": "python",
   "nbconvert_exporter": "python",
   "pygments_lexer": "ipython3",
   "version": "3.9.12"
  }
 },
 "nbformat": 4,
 "nbformat_minor": 5
}
