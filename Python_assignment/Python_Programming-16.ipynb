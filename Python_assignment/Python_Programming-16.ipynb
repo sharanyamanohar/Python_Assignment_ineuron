{
 "cells": [
  {
   "cell_type": "markdown",
   "id": "b1af89a7",
   "metadata": {},
   "source": [
    "## Sharanya Manohar\n",
    "## Python Assignment 16"
   ]
  },
  {
   "cell_type": "code",
   "execution_count": 1,
   "id": "b42c7977",
   "metadata": {},
   "outputs": [
    {
     "data": {
      "text/plain": [
       "[2000, 2001, 2002, 2003, 2004, 2005]"
      ]
     },
     "execution_count": 1,
     "metadata": {},
     "output_type": "execute_result"
    }
   ],
   "source": [
    "#Question-1\n",
    "years_list=[]\n",
    "for i in range(2000,2000+6):\n",
    "    years_list.append(i)\n",
    "years_list    "
   ]
  },
  {
   "cell_type": "code",
   "execution_count": 2,
   "id": "cea1ae71",
   "metadata": {},
   "outputs": [
    {
     "name": "stdout",
     "output_type": "stream",
     "text": [
      "2003\n"
     ]
    }
   ],
   "source": [
    "#Question-2\n",
    "print(years_list[3])"
   ]
  },
  {
   "cell_type": "code",
   "execution_count": 3,
   "id": "29d32024",
   "metadata": {},
   "outputs": [
    {
     "name": "stdout",
     "output_type": "stream",
     "text": [
      "2005\n"
     ]
    }
   ],
   "source": [
    "#Question-3\n",
    "print(years_list[-1])"
   ]
  },
  {
   "cell_type": "code",
   "execution_count": 5,
   "id": "6ed58dec",
   "metadata": {},
   "outputs": [
    {
     "data": {
      "text/plain": [
       "['mozzarella', 'cinderella', 'salmonella']"
      ]
     },
     "execution_count": 5,
     "metadata": {},
     "output_type": "execute_result"
    }
   ],
   "source": [
    "#Question-4\n",
    "things=[]\n",
    "for i in ['mozzarella','cinderella','salmonella']:\n",
    "    things.append(i)\n",
    "things    "
   ]
  },
  {
   "cell_type": "code",
   "execution_count": 8,
   "id": "b0b9b1e2",
   "metadata": {},
   "outputs": [
    {
     "name": "stdout",
     "output_type": "stream",
     "text": [
      "['mozzarella', 'Cinderella', 'salmonella']\n"
     ]
    }
   ],
   "source": [
    "#Question-5\n",
    "for i in range(len(things)):\n",
    "    if things[i]=='cinderella':\n",
    "        things[i]=things[i].capitalize()\n",
    "print(things)        "
   ]
  },
  {
   "cell_type": "code",
   "execution_count": 12,
   "id": "ab8012a3",
   "metadata": {},
   "outputs": [
    {
     "name": "stdout",
     "output_type": "stream",
     "text": [
      "['Groucho', 'Chico', 'Harpo']\n"
     ]
    }
   ],
   "source": [
    "#Question-6\n",
    "surprise_list = ['Groucho','Chico','Harpo']\n",
    "print(surprise_list)"
   ]
  },
  {
   "cell_type": "code",
   "execution_count": 15,
   "id": "df53f429",
   "metadata": {},
   "outputs": [
    {
     "data": {
      "text/plain": [
       "'Oprah'"
      ]
     },
     "execution_count": 15,
     "metadata": {},
     "output_type": "execute_result"
    }
   ],
   "source": [
    "#Question-7\n",
    "surprise_list[-1].lower()[::-1].capitalize()"
   ]
  },
  {
   "cell_type": "code",
   "execution_count": 16,
   "id": "89a92c33",
   "metadata": {},
   "outputs": [
    {
     "name": "stdout",
     "output_type": "stream",
     "text": [
      "{'dog': 'chien', 'cat': 'chat', 'walrus': 'morse'}\n"
     ]
    }
   ],
   "source": [
    "#Question-8\n",
    "e2f = {'dog':'chien','cat':'chat','walrus':'morse'}\n",
    "print(e2f)"
   ]
  },
  {
   "cell_type": "code",
   "execution_count": 17,
   "id": "082a85ed",
   "metadata": {},
   "outputs": [
    {
     "name": "stdout",
     "output_type": "stream",
     "text": [
      "morse\n"
     ]
    }
   ],
   "source": [
    "#Question-9\n",
    "print(e2f.get('walrus'))"
   ]
  },
  {
   "cell_type": "code",
   "execution_count": 52,
   "id": "290b6624",
   "metadata": {},
   "outputs": [
    {
     "data": {
      "text/plain": [
       "{'chien': 'dog', 'chat': 'cat', 'morse': 'walrus'}"
      ]
     },
     "execution_count": 52,
     "metadata": {},
     "output_type": "execute_result"
    }
   ],
   "source": [
    "#Question-10\n",
    "f2e={}\n",
    "for i in e2f.items():\n",
    "    f2e.update({i[::-1][0]:i[::-1][1]})\n",
    "f2e    "
   ]
  },
  {
   "cell_type": "code",
   "execution_count": 53,
   "id": "6cd4d4a3",
   "metadata": {},
   "outputs": [
    {
     "name": "stdout",
     "output_type": "stream",
     "text": [
      "dog\n"
     ]
    }
   ],
   "source": [
    "#Question-11\n",
    "print(f2e.get('chien'))"
   ]
  },
  {
   "cell_type": "code",
   "execution_count": 27,
   "id": "40e0b368",
   "metadata": {},
   "outputs": [
    {
     "name": "stdout",
     "output_type": "stream",
     "text": [
      "['dog', 'cat', 'walrus']\n"
     ]
    }
   ],
   "source": [
    "#Question-12\n",
    "print(list(e2f.keys()))"
   ]
  },
  {
   "cell_type": "code",
   "execution_count": 28,
   "id": "867b360b",
   "metadata": {},
   "outputs": [
    {
     "name": "stdout",
     "output_type": "stream",
     "text": [
      "{'animals': {'cats': ['Henri', 'Grumpy', 'Lucy'], 'octopi': {}, 'emus': {}}, 'plants': {}, 'other': {}}\n"
     ]
    }
   ],
   "source": [
    "#Question-13\n",
    "life = {\n",
    "    'animals':{\n",
    "        'cats':['Henri','Grumpy','Lucy'],\n",
    "        'octopi':{},\n",
    "        'emus':{}\n",
    "    },\n",
    "    'plants':{},\n",
    "    'other':{}\n",
    "}\n",
    "print(life)\n"
   ]
  },
  {
   "cell_type": "code",
   "execution_count": 29,
   "id": "49020855",
   "metadata": {},
   "outputs": [
    {
     "name": "stdout",
     "output_type": "stream",
     "text": [
      "['animals', 'plants', 'other']\n"
     ]
    }
   ],
   "source": [
    "#Question-14\n",
    "print(list(life.keys()))"
   ]
  },
  {
   "cell_type": "code",
   "execution_count": 30,
   "id": "83379b7e",
   "metadata": {},
   "outputs": [
    {
     "name": "stdout",
     "output_type": "stream",
     "text": [
      "['cats', 'octopi', 'emus']\n"
     ]
    }
   ],
   "source": [
    "#Question-15\n",
    "print(list(life['animals'].keys()))"
   ]
  },
  {
   "cell_type": "code",
   "execution_count": 31,
   "id": "5b9045d4",
   "metadata": {},
   "outputs": [
    {
     "name": "stdout",
     "output_type": "stream",
     "text": [
      "['Henri', 'Grumpy', 'Lucy']\n"
     ]
    }
   ],
   "source": [
    "#Question-16\n",
    "print(life['animals']['cats'])"
   ]
  }
 ],
 "metadata": {
  "kernelspec": {
   "display_name": "Python 3 (ipykernel)",
   "language": "python",
   "name": "python3"
  },
  "language_info": {
   "codemirror_mode": {
    "name": "ipython",
    "version": 3
   },
   "file_extension": ".py",
   "mimetype": "text/x-python",
   "name": "python",
   "nbconvert_exporter": "python",
   "pygments_lexer": "ipython3",
   "version": "3.9.12"
  }
 },
 "nbformat": 4,
 "nbformat_minor": 5
}
