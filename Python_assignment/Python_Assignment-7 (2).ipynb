{
 "cells": [
  {
   "cell_type": "markdown",
   "id": "1e589db6",
   "metadata": {},
   "source": [
    "# Sharanya Manohar\n",
    "## Python Assignment-7"
   ]
  },
  {
   "cell_type": "markdown",
   "id": "7bf13b7e",
   "metadata": {},
   "source": [
    "#Question-1\n",
    "\n",
    "re.compile() is the feature responsible for generating regex objects"
   ]
  },
  {
   "cell_type": "markdown",
   "id": "8a7de162",
   "metadata": {},
   "source": [
    "#Question-2\n",
    "\n",
    "Raw strings are used so that backslashes do not have to be escaped."
   ]
  },
  {
   "cell_type": "markdown",
   "id": "9961ffbc",
   "metadata": {},
   "source": [
    "#Question-3\n",
    "\n",
    "The search() method is used to search the object"
   ]
  },
  {
   "cell_type": "markdown",
   "id": "04902ff6",
   "metadata": {},
   "source": [
    "#Question-4\n",
    "\n",
    "The group() method returns the match item in which we will get the actual string that match the pattern"
   ]
  },
  {
   "cell_type": "markdown",
   "id": "be5c111a",
   "metadata": {},
   "source": [
    "#Question-5\n",
    "\n",
    "The Group 0 covers the entire match ,group1 covers the 1st parenthesis set and 2nd group covers the 2nd parenthesis set"
   ]
  },
  {
   "cell_type": "markdown",
   "id": "01bece44",
   "metadata": {},
   "source": [
    "#Question-6\n",
    "\n",
    "Periods and Parentheses can be escaped with the backslash \\. and \\"
   ]
  },
  {
   "cell_type": "markdown",
   "id": "7309bfd5",
   "metadata": {},
   "source": [
    "#Question-7\n",
    "\n",
    "If the regex has no groups then list of the string will be returned otherwise if it contains groups then list of the tupels will be returned"
   ]
  },
  {
   "cell_type": "markdown",
   "id": "5acf74d2",
   "metadata": {},
   "source": [
    "#Question-8\n",
    "\n",
    "In standard expression | is stands for (either/or) between 2 groups "
   ]
  },
  {
   "cell_type": "markdown",
   "id": "b4ce25b0",
   "metadata": {},
   "source": [
    "#Question-9\n",
    "\n",
    "All characters, except those having special meaning in regex, matches themselves. E.g., the regex x matches substring \"x\"; regex 9 matches \"9\"; regex = matches \"=\"; and regex @ matches \"@\"."
   ]
  },
  {
   "cell_type": "markdown",
   "id": "58d811cc",
   "metadata": {},
   "source": [
    "#Question-10\n",
    "\n",
    "The + matches one or more. The * matches zero or more."
   ]
  },
  {
   "cell_type": "markdown",
   "id": "9e957b46",
   "metadata": {},
   "source": [
    "#Question-11\n",
    "\n",
    "The {4} matches exactly three instances of the preceding group. The {4,5} matches between three and five instances."
   ]
  },
  {
   "cell_type": "markdown",
   "id": "8507ed2b",
   "metadata": {},
   "source": [
    "#Question-12\n",
    "\n",
    "The \\d, \\w, and \\s shorthand character classes match a single digit, word, or space character, respectively."
   ]
  },
  {
   "cell_type": "markdown",
   "id": "628f37d2",
   "metadata": {},
   "source": [
    "#Question-13\n",
    "\n",
    "\\D-One character that is not a digit as defined by your engine's \\d\n",
    "\\W-One character that is not a word character as defined by your engine's \\w\n",
    "\\S-One character that is not a whitespace character as defined by your engine's \\s"
   ]
  },
  {
   "cell_type": "markdown",
   "id": "97080b7a",
   "metadata": {},
   "source": [
    "#Question-14\n",
    "\n",
    "(.*?)- matches any character (.) any number of times (*), as few times as possible to make the regex match (?).\n",
    "(.*)- captures a group zero or one times (?). That group consists of a run of any length (*) of any character (.)"
   ]
  },
  {
   "cell_type": "markdown",
   "id": "add9d5d2",
   "metadata": {},
   "source": [
    "#Question-15\n",
    "\n",
    "the regular expression \"[ A-Za-z] \" or \"[0-9a-z]\" which is the syntax for matching both numbers and lowercase letters with a character class"
   ]
  },
  {
   "cell_type": "markdown",
   "id": "cab55dab",
   "metadata": {},
   "source": [
    "#Question-16\n",
    "\n",
    "Passing re.I or re.IGNORECASE as the second argument to re.compile() will make the matching case insensitive."
   ]
  },
  {
   "cell_type": "markdown",
   "id": "7b7f171a",
   "metadata": {},
   "source": [
    "#Question-17\n",
    "\n",
    "The . character normally matches any character except the newline character. If re.DOTALL is passed as the second argument to re.compile(), then the dot will also match newline characters."
   ]
  },
  {
   "cell_type": "markdown",
   "id": "9d6d5958",
   "metadata": {},
   "source": [
    "#Question-18\n",
    "\n",
    "X drummers, X pipers, five rings, X hens"
   ]
  },
  {
   "cell_type": "markdown",
   "id": "76d821f7",
   "metadata": {},
   "source": [
    "#Question-19\n",
    "\n",
    "The re.VERBOSE argument allows you to add whitespace and comments to the string passed to re.compile()"
   ]
  },
  {
   "cell_type": "markdown",
   "id": "e87c3b4d",
   "metadata": {},
   "source": [
    "#Question-20\n",
    "\n",
    "re.compile(r'^\\d{1,3}(,\\d{3})*$') will create this regex, but other regex strings can produce a similar regular expression"
   ]
  },
  {
   "cell_type": "markdown",
   "id": "7e7a2007",
   "metadata": {},
   "source": [
    "#Question-21\n",
    "\n",
    "re.compile(r'[A-Z][a-z]*\\hWatanabe')"
   ]
  },
  {
   "cell_type": "markdown",
   "id": "6f578883",
   "metadata": {},
   "source": [
    "#Question-22\n",
    "\n",
    "re.compile(r'(Alice|Bob|Carol)\\s(eats|pets|throws)\\s(apples|cats|baseballs)\\.', re.IGNORECASE)"
   ]
  }
 ],
 "metadata": {
  "kernelspec": {
   "display_name": "Python 3 (ipykernel)",
   "language": "python",
   "name": "python3"
  },
  "language_info": {
   "codemirror_mode": {
    "name": "ipython",
    "version": 3
   },
   "file_extension": ".py",
   "mimetype": "text/x-python",
   "name": "python",
   "nbconvert_exporter": "python",
   "pygments_lexer": "ipython3",
   "version": "3.9.12"
  }
 },
 "nbformat": 4,
 "nbformat_minor": 5
}
