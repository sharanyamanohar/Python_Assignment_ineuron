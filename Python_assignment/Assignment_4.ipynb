{
 "cells": [
  {
   "cell_type": "markdown",
   "id": "8f2ccc24",
   "metadata": {},
   "source": [
    "# Sharanya Assignment-4"
   ]
  },
  {
   "cell_type": "markdown",
   "id": "e29a97a6",
   "metadata": {},
   "source": [
    "Question-1)What exactly is [ ]?"
   ]
  },
  {
   "cell_type": "markdown",
   "id": "8ae4350b",
   "metadata": {},
   "source": [
    "Ans1- They are square brackets used to store values or information. Which is called a list."
   ]
  },
  {
   "cell_type": "markdown",
   "id": "90b640dd",
   "metadata": {},
   "source": [
    "Question-2). In a list of values stored in a variable called spam, how would you assign the value 'hello'; as the\n",
    "third value? (Assume [2, 4, 6, 8, 10] are in spam.)\n",
    "Let's pretend the spam includes the list ['a','b','c','d'] for the next three queries."
   ]
  },
  {
   "cell_type": "code",
   "execution_count": 3,
   "id": "a1a5a0e3",
   "metadata": {},
   "outputs": [
    {
     "name": "stdout",
     "output_type": "stream",
     "text": [
      "['a', 'b', 'hello', 'd']\n"
     ]
    }
   ],
   "source": [
    "#Ans2-\n",
    "spam=['a','b','c','d']\n",
    "\n",
    "spam[2]='hello'\n",
    "print(spam)"
   ]
  },
  {
   "cell_type": "markdown",
   "id": "2795fc76",
   "metadata": {},
   "source": [
    "Question-3). What is the value of spam[int(int('3' * 2) / 11)]?"
   ]
  },
  {
   "cell_type": "markdown",
   "id": "ccdd9421",
   "metadata": {},
   "source": [
    "Ans3 - The output is 'd'"
   ]
  },
  {
   "cell_type": "code",
   "execution_count": 4,
   "id": "ec00af58",
   "metadata": {},
   "outputs": [
    {
     "data": {
      "text/plain": [
       "'d'"
      ]
     },
     "execution_count": 4,
     "metadata": {},
     "output_type": "execute_result"
    }
   ],
   "source": [
    "spam[int(int('3' * 2) / 11)]"
   ]
  },
  {
   "cell_type": "markdown",
   "id": "189f43d4",
   "metadata": {},
   "source": [
    "Question-4). What is the value of spam[-1]?"
   ]
  },
  {
   "cell_type": "markdown",
   "id": "23e800a8",
   "metadata": {},
   "source": [
    "Ans4 - The output is 'd'"
   ]
  },
  {
   "cell_type": "code",
   "execution_count": 5,
   "id": "533c1041",
   "metadata": {},
   "outputs": [
    {
     "data": {
      "text/plain": [
       "'d'"
      ]
     },
     "execution_count": 5,
     "metadata": {},
     "output_type": "execute_result"
    }
   ],
   "source": [
    "spam[-1]"
   ]
  },
  {
   "cell_type": "markdown",
   "id": "9692e759",
   "metadata": {},
   "source": [
    "Question-5). What is the value of spam[:2]?\n",
    "Ans5 - ['a', 'b']"
   ]
  },
  {
   "cell_type": "code",
   "execution_count": 6,
   "id": "4fbd4023",
   "metadata": {},
   "outputs": [
    {
     "data": {
      "text/plain": [
       "['a', 'b']"
      ]
     },
     "execution_count": 6,
     "metadata": {},
     "output_type": "execute_result"
    }
   ],
   "source": [
    "spam[:2]"
   ]
  },
  {
   "cell_type": "markdown",
   "id": "b93a28e1",
   "metadata": {},
   "source": [
    "Let's pretend bacon has the list [3.14,'cat', 11, 'cat', True] for the next three questions."
   ]
  },
  {
   "cell_type": "markdown",
   "id": "78d4ff4c",
   "metadata": {},
   "source": [
    "Question-6). What is the value of bacon.index(&#39;cat&#39;)?"
   ]
  },
  {
   "cell_type": "code",
   "execution_count": 7,
   "id": "a4a4bd5a",
   "metadata": {},
   "outputs": [],
   "source": [
    "bacon = [3.14,'cat', 11, 'cat', True]"
   ]
  },
  {
   "cell_type": "markdown",
   "id": "689879d6",
   "metadata": {},
   "source": [
    "Ans6 - Value of bacon.index('cat') is 1"
   ]
  },
  {
   "cell_type": "code",
   "execution_count": 9,
   "id": "4fefca18",
   "metadata": {},
   "outputs": [
    {
     "data": {
      "text/plain": [
       "1"
      ]
     },
     "execution_count": 9,
     "metadata": {},
     "output_type": "execute_result"
    }
   ],
   "source": [
    "bacon.index('cat')"
   ]
  },
  {
   "cell_type": "markdown",
   "id": "944f81ea",
   "metadata": {},
   "source": [
    "Question-7). How does bacon.append(99) change the look of the list value in bacon?"
   ]
  },
  {
   "cell_type": "markdown",
   "id": "b8e5e2f6",
   "metadata": {},
   "source": [
    "Ans7 - It will add 99 at the end of the list as a new item. \\\n",
    "So, new bacon will be bacon = [3.14,'cat', 11, 'cat', True, 99]"
   ]
  },
  {
   "cell_type": "code",
   "execution_count": 10,
   "id": "7595b928",
   "metadata": {},
   "outputs": [
    {
     "data": {
      "text/plain": [
       "[3.14, 'cat', 11, 'cat', True, 99]"
      ]
     },
     "execution_count": 10,
     "metadata": {},
     "output_type": "execute_result"
    }
   ],
   "source": [
    "bacon.append(99)\n",
    "bacon"
   ]
  },
  {
   "cell_type": "markdown",
   "id": "5970318e",
   "metadata": {},
   "source": [
    "Question-8). How does bacon.remove('cat') change the look of the list in bacon?"
   ]
  },
  {
   "cell_type": "markdown",
   "id": "d68dedc1",
   "metadata": {},
   "source": [
    "Ans8 - bacon.remove('cat') will remove the first item 'cat' from the list bacon."
   ]
  },
  {
   "cell_type": "code",
   "execution_count": 11,
   "id": "1aa67bc7",
   "metadata": {},
   "outputs": [
    {
     "data": {
      "text/plain": [
       "[3.14, 11, 'cat', True, 99]"
      ]
     },
     "execution_count": 11,
     "metadata": {},
     "output_type": "execute_result"
    }
   ],
   "source": [
    "bacon.remove('cat')\n",
    "bacon"
   ]
  },
  {
   "cell_type": "markdown",
   "id": "63fe1d0d",
   "metadata": {},
   "source": [
    "Question-9). What are the list concatenation and list replication operators?"
   ]
  },
  {
   "cell_type": "markdown",
   "id": "80df031e",
   "metadata": {},
   "source": [
    "Ans9 - List concatenation is done by using addition operator ( + ). Using this two lists can be added to each other to form a new list. List replication is done by using mutiplication operator ( * ). A list and an integer is used as operands for this operation. If the integer is n then the list is replicated n times."
   ]
  },
  {
   "cell_type": "markdown",
   "id": "406e62d2",
   "metadata": {},
   "source": [
    "Question-10). What is difference between the list methods append() and insert() ?"
   ]
  },
  {
   "cell_type": "markdown",
   "id": "3ad44407",
   "metadata": {},
   "source": [
    "Ans10 - append() function adds the given value at the end of the list. And so, it asks for only on einput i.e. the value itself. Whereas insert() takes 2 inputs i.e. the postion at which it is to be added and the value.pip "
   ]
  },
  {
   "cell_type": "code",
   "execution_count": 26,
   "id": "d575d4a1",
   "metadata": {},
   "outputs": [
    {
     "name": "stdout",
     "output_type": "stream",
     "text": [
      "[1, 2, 3, 4, 5, 'appended_item']\n",
      "[1, 2, 3, 'inserted_item', 4, 5, 'appended_item']\n"
     ]
    }
   ],
   "source": [
    "l = [1,2,3,4,5]\n",
    "\n",
    "l.append('appended_item')\n",
    "print(l)\n",
    "\n",
    "l.insert(3,'inserted_item')\n",
    "print(l)"
   ]
  },
  {
   "cell_type": "markdown",
   "id": "963321f5",
   "metadata": {},
   "source": [
    "Question-11). What are the two methods for removing items from a list?"
   ]
  },
  {
   "cell_type": "markdown",
   "id": "43e14aac",
   "metadata": {},
   "source": [
    "Ans11 - remove() and pop() functions are used to remove items from lists."
   ]
  },
  {
   "cell_type": "markdown",
   "id": "22f0d757",
   "metadata": {},
   "source": [
    "Question-12). Describe how list values and string values are identical."
   ]
  },
  {
   "cell_type": "markdown",
   "id": "38e13a75",
   "metadata": {},
   "source": [
    "Ans12-The similarity between Lists and Strings in Python is that both are sequences.\n",
    "Both lists and strings can be passed to len(), have indexes and slices, be used in for loops, be concatenated or replicated, and be used with the in and not in operators."
   ]
  },
  {
   "cell_type": "markdown",
   "id": "57ca031c",
   "metadata": {},
   "source": [
    "Question-13). What's the difference between tuples and lists?"
   ]
  },
  {
   "cell_type": "markdown",
   "id": "dfaeff8b",
   "metadata": {},
   "source": [
    "Ans13-Tuple is immutable and List is mutable,List contains the items in [] and tuple contains the elements in ()"
   ]
  },
  {
   "cell_type": "markdown",
   "id": "c077c680",
   "metadata": {},
   "source": [
    "Question-14). How do you type a tuple value that only contains the integer 42?"
   ]
  },
  {
   "cell_type": "markdown",
   "id": "66697dda",
   "metadata": {},
   "source": [
    "(42,) Where the comma is mandatory."
   ]
  },
  {
   "cell_type": "markdown",
   "id": "d5489dc5",
   "metadata": {},
   "source": [
    "Question-15). How do you get a list value's tuple form? How do you get a tuple value's list form?"
   ]
  },
  {
   "cell_type": "code",
   "execution_count": 57,
   "id": "6ee6cfa2",
   "metadata": {},
   "outputs": [
    {
     "name": "stdout",
     "output_type": "stream",
     "text": [
      "[1, 2, 3, 4, 5]\n",
      "('a', 'b', 'c', 'd', 'e')\n"
     ]
    }
   ],
   "source": [
    "tuple1 = (1,2,3,4,5)\n",
    "list1 = ['a','b','c','d','e']\n",
    "\n",
    "list2 = list(tuple1)\n",
    "print(list2)\n",
    "\n",
    "tuple2 = tuple(list1)\n",
    "print(tuple2)\n"
   ]
  },
  {
   "cell_type": "markdown",
   "id": "31bfe847",
   "metadata": {},
   "source": [
    "Question-16). Variables that \"contain\" list values are not necessarily lists themselves. Instead, what do they contain?"
   ]
  },
  {
   "cell_type": "markdown",
   "id": "df6ece3c",
   "metadata": {},
   "source": [
    "Ans16 - They contain references to list values."
   ]
  },
  {
   "cell_type": "markdown",
   "id": "78a27f6e",
   "metadata": {},
   "source": [
    "Question-17). How do you distinguish between copy.copy() and copy.deepcopy()?"
   ]
  },
  {
   "cell_type": "markdown",
   "id": "2c4deb6f",
   "metadata": {},
   "source": [
    "In Shallow copy, a copy of the original object is stored and only the reference address is finally copied.In Deep copy, the copy of the original object and the repetitive copies both are stored.\n",
    "\n",
    "The changes made in the copied object also reflect the original object.There is no reflection on the original object when the changes are made in the copied object."
   ]
  }
 ],
 "metadata": {
  "kernelspec": {
   "display_name": "Python 3 (ipykernel)",
   "language": "python",
   "name": "python3"
  },
  "language_info": {
   "codemirror_mode": {
    "name": "ipython",
    "version": 3
   },
   "file_extension": ".py",
   "mimetype": "text/x-python",
   "name": "python",
   "nbconvert_exporter": "python",
   "pygments_lexer": "ipython3",
   "version": "3.9.12"
  }
 },
 "nbformat": 4,
 "nbformat_minor": 5
}
