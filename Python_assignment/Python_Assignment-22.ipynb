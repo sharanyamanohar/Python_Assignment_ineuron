{
 "cells": [
  {
   "cell_type": "markdown",
   "id": "6ead86d0",
   "metadata": {},
   "source": [
    "# Sharanya Manohar\n",
    "## Python Assignment-21"
   ]
  },
  {
   "cell_type": "code",
   "execution_count": 32,
   "id": "ce031277",
   "metadata": {},
   "outputs": [
    {
     "name": "stdout",
     "output_type": "stream",
     "text": [
      "ineuron\n"
     ]
    }
   ],
   "source": [
    "#Question-1\n",
    "\n",
    "x='ineuron'\n",
    "def func():\n",
    "    print(x)\n",
    "func()    "
   ]
  },
  {
   "cell_type": "markdown",
   "id": "41cde77f",
   "metadata": {},
   "source": [
    "Since,print(x) searches the value inside the function first though we havent initialize the value .So it takes the value outside the function its nothing but global and local variable initialize"
   ]
  },
  {
   "cell_type": "code",
   "execution_count": 38,
   "id": "58918c17",
   "metadata": {},
   "outputs": [
    {
     "name": "stdout",
     "output_type": "stream",
     "text": [
      "ineuron\n"
     ]
    }
   ],
   "source": [
    "#Question-2\n",
    "\n",
    "x='ineuron'\n",
    "def func():\n",
    "    x='n!!'\n",
    "\n",
    "func() \n",
    "print(x)"
   ]
  },
  {
   "cell_type": "markdown",
   "id": "7cb36e1d",
   "metadata": {},
   "source": [
    "Since,print statement is mentioned outside function so there is no relation between x inside the function and print(x) so it directly checks outside the function if it doesnt gets ,it throw error"
   ]
  },
  {
   "cell_type": "code",
   "execution_count": 39,
   "id": "4c879335",
   "metadata": {},
   "outputs": [
    {
     "name": "stdout",
     "output_type": "stream",
     "text": [
      "n!!\n",
      "ineuron\n"
     ]
    }
   ],
   "source": [
    "#Question-3\n",
    "\n",
    "x='ineuron'\n",
    "def func():\n",
    "    x='n!!'\n",
    "    print(x)\n",
    "func() \n",
    "print(x)"
   ]
  },
  {
   "cell_type": "markdown",
   "id": "f25ef2c3",
   "metadata": {},
   "source": [
    "Since,print(x) searches the value inside the function first  and returned n!! and the print(x) outside the function searches the value of x outside the function and gives the value ineuron . the function its nothing but global and local variable initialize"
   ]
  },
  {
   "cell_type": "code",
   "execution_count": 41,
   "id": "5eb513a0",
   "metadata": {},
   "outputs": [
    {
     "name": "stdout",
     "output_type": "stream",
     "text": [
      "n!!\n"
     ]
    }
   ],
   "source": [
    "#Question-4\n",
    "\n",
    "x='ineuron'\n",
    "def func():\n",
    "    global x\n",
    "    x='n!!'\n",
    "\n",
    "func() \n",
    "print(x)"
   ]
  },
  {
   "cell_type": "markdown",
   "id": "ba5a829a",
   "metadata": {},
   "source": [
    "The output of the code is 'n!!'. the global keyword allows a variable to be accessible in the current scope. since we are using global keyword inside the function func it directly access the variable in X in global scope. and changes its value to 'n!!'. hence the output of the code is 'n!!'"
   ]
  },
  {
   "cell_type": "code",
   "execution_count": 44,
   "id": "e9701f34",
   "metadata": {},
   "outputs": [
    {
     "name": "stdout",
     "output_type": "stream",
     "text": [
      "NI\n"
     ]
    },
    {
     "data": {
      "text/plain": [
       "'iNeuron'"
      ]
     },
     "execution_count": 44,
     "metadata": {},
     "output_type": "execute_result"
    }
   ],
   "source": [
    "#Question-5\n",
    "\n",
    "X = 'iNeuron'\n",
    "def func():\n",
    "    X = 'NI'\n",
    "    def nested():\n",
    "        print(X)\n",
    "    nested()\n",
    "func()\n",
    "X"
   ]
  },
  {
   "cell_type": "markdown",
   "id": "2126c9cd",
   "metadata": {},
   "source": [
    "The output of the code is 'n!!'. the reason for this output is if a function wants to access a variable, if its not available in its localscope. it looks for the variable in its global scope. similarly here also function nested looks for variable X in its global scope. hence the output of the code is 'n!!'"
   ]
  },
  {
   "cell_type": "code",
   "execution_count": 45,
   "id": "a8cea831",
   "metadata": {},
   "outputs": [
    {
     "name": "stdout",
     "output_type": "stream",
     "text": [
      "Spam\n"
     ]
    }
   ],
   "source": [
    "#Question-6\n",
    "\n",
    "def func():\n",
    "    X = 'NI'\n",
    "    def nested():\n",
    "        nonlocal X\n",
    "        X = 'Spam'\n",
    "    nested()\n",
    "    print(X)\n",
    "func()"
   ]
  },
  {
   "cell_type": "markdown",
   "id": "e0a617d0",
   "metadata": {},
   "source": [
    "The output of the code is Spam. nonlocal keyword in python is used to declare a variable as not local.Hence the statement X = \"Spam\" is modified in the global scope. hence the output of print(X) statement is Spam"
   ]
  }
 ],
 "metadata": {
  "kernelspec": {
   "display_name": "Python 3 (ipykernel)",
   "language": "python",
   "name": "python3"
  },
  "language_info": {
   "codemirror_mode": {
    "name": "ipython",
    "version": 3
   },
   "file_extension": ".py",
   "mimetype": "text/x-python",
   "name": "python",
   "nbconvert_exporter": "python",
   "pygments_lexer": "ipython3",
   "version": "3.9.12"
  }
 },
 "nbformat": 4,
 "nbformat_minor": 5
}
