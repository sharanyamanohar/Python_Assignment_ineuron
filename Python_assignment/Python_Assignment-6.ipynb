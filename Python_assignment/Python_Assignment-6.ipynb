{
 "cells": [
  {
   "cell_type": "markdown",
   "id": "c6b952c3",
   "metadata": {},
   "source": [
    "# Sharanya Manohar\n",
    "## Python_Programming-6"
   ]
  },
  {
   "cell_type": "markdown",
   "id": "0d1b7751",
   "metadata": {},
   "source": [
    "1. What are escape characters, and how do you use them"
   ]
  },
  {
   "cell_type": "markdown",
   "id": "105ab699",
   "metadata": {},
   "source": [
    "Solution-To insert characters that are illegal in a string, use an escape character. "
   ]
  },
  {
   "cell_type": "markdown",
   "id": "9a21d002",
   "metadata": {},
   "source": [
    "2. What do the escape characters n and t stand for?"
   ]
  },
  {
   "cell_type": "markdown",
   "id": "257f0aca",
   "metadata": {},
   "source": [
    "Solution- \\n means new line and \\t means tab"
   ]
  },
  {
   "cell_type": "markdown",
   "id": "a500fc6b",
   "metadata": {},
   "source": [
    "3. What is the way to include backslash characters in a string?"
   ]
  },
  {
   "cell_type": "markdown",
   "id": "f79b6692",
   "metadata": {},
   "source": [
    "Solution-The backslash is used to escape special characters in string literals."
   ]
  },
  {
   "cell_type": "code",
   "execution_count": 1,
   "id": "95e83390",
   "metadata": {},
   "outputs": [],
   "source": [
    "#Question -4"
   ]
  },
  {
   "cell_type": "markdown",
   "id": "f0977e1f",
   "metadata": {},
   "source": [
    "Solution-The single quote in Howl's is fine because we’ve used double quotes to mark the beginning and end of the string."
   ]
  },
  {
   "cell_type": "markdown",
   "id": "c859b60e",
   "metadata": {},
   "source": [
    "5. How do you write a string of newlines if you don't want to use the n character?"
   ]
  },
  {
   "cell_type": "markdown",
   "id": "71c9f41e",
   "metadata": {},
   "source": [
    "Solution-Multiline strings allow you to use newlines in strings without the \\n escape character"
   ]
  },
  {
   "cell_type": "code",
   "execution_count": 2,
   "id": "12614d70",
   "metadata": {},
   "outputs": [
    {
     "name": "stdout",
     "output_type": "stream",
     "text": [
      "e\n",
      "Hello\n",
      "Hello\n",
      "lo, world!\n"
     ]
    }
   ],
   "source": [
    "# Question-6\n",
    "\n",
    "print(\"Hello, world!\"[1])\n",
    "print(\"Hello, world!\"[0:5])\n",
    "print(\"Hello, world!\"[:5])\n",
    "print(\"Hello, world!\"[3:])\n"
   ]
  },
  {
   "cell_type": "code",
   "execution_count": 3,
   "id": "a52144e1",
   "metadata": {},
   "outputs": [
    {
     "name": "stdout",
     "output_type": "stream",
     "text": [
      "HELLO\n",
      "True\n",
      "hello\n"
     ]
    }
   ],
   "source": [
    "#Question-7\n",
    "\n",
    "print('Hello'.upper())\n",
    "print('Hello'.upper().isupper())\n",
    "print('Hello'.upper().lower())\n"
   ]
  },
  {
   "cell_type": "code",
   "execution_count": 4,
   "id": "b326cec8",
   "metadata": {},
   "outputs": [
    {
     "name": "stdout",
     "output_type": "stream",
     "text": [
      "['Remember,', 'remember,', 'the', 'fifth', 'of', 'November.']\n"
     ]
    },
    {
     "data": {
      "text/plain": [
       "'There-can-be-only-one.'"
      ]
     },
     "execution_count": 4,
     "metadata": {},
     "output_type": "execute_result"
    }
   ],
   "source": [
    "#Question-8\n",
    "\n",
    "print('Remember, remember, the fifth of November.'.split())\n",
    "'-'.join('There can be only one.'.split())\n"
   ]
  },
  {
   "cell_type": "markdown",
   "id": "b6eb5706",
   "metadata": {},
   "source": [
    "9. What are the methods for right-justifying, left-justifying, and centering a string?"
   ]
  },
  {
   "cell_type": "markdown",
   "id": "77c5e9a2",
   "metadata": {},
   "source": [
    "Solution-The rjust(), ljust(), and center() string methods, respectively"
   ]
  },
  {
   "cell_type": "markdown",
   "id": "530707f8",
   "metadata": {},
   "source": [
    "10. What is the best way to remove whitespace characters from the start or end?"
   ]
  },
  {
   "cell_type": "markdown",
   "id": "09b92aa7",
   "metadata": {},
   "source": [
    "Solution-The lstrip() and rstrip() methods remove whitespace from the left and right ends of a string, respectively"
   ]
  }
 ],
 "metadata": {
  "kernelspec": {
   "display_name": "Python 3 (ipykernel)",
   "language": "python",
   "name": "python3"
  },
  "language_info": {
   "codemirror_mode": {
    "name": "ipython",
    "version": 3
   },
   "file_extension": ".py",
   "mimetype": "text/x-python",
   "name": "python",
   "nbconvert_exporter": "python",
   "pygments_lexer": "ipython3",
   "version": "3.9.12"
  }
 },
 "nbformat": 4,
 "nbformat_minor": 5
}
