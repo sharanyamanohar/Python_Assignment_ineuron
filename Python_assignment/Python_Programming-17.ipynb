{
 "cells": [
  {
   "cell_type": "markdown",
   "id": "b1af89a7",
   "metadata": {},
   "source": [
    "## Sharanya Manohar\n",
    "## Python Assignment 17"
   ]
  },
  {
   "cell_type": "code",
   "execution_count": 5,
   "id": "b33ede43",
   "metadata": {},
   "outputs": [
    {
     "name": "stdout",
     "output_type": "stream",
     "text": [
      "just right\n"
     ]
    }
   ],
   "source": [
    "#Question-1\n",
    "guess_me=7\n",
    "if guess_me<7:\n",
    "    print(\"too low\")\n",
    "elif guess_me>7:\n",
    "    print(\"too high\")\n",
    "else:\n",
    "    print('just right')"
   ]
  },
  {
   "cell_type": "code",
   "execution_count": 19,
   "id": "a740fc2c",
   "metadata": {},
   "outputs": [
    {
     "name": "stdout",
     "output_type": "stream",
     "text": [
      "too low\n",
      "too low\n",
      "too low\n",
      "too low\n",
      "too low\n",
      "too low\n",
      "found it\n"
     ]
    }
   ],
   "source": [
    "#Question-2\n",
    "guess_me=7\n",
    "i=1\n",
    "while True:\n",
    "    if i<guess_me:\n",
    "        print(\"too low\")\n",
    "    elif i==guess_me:\n",
    "        print(\"found it\")\n",
    "        break\n",
    "    else:\n",
    "        print('oops')\n",
    "        break\n",
    "    i+=1    "
   ]
  },
  {
   "cell_type": "code",
   "execution_count": 13,
   "id": "f5609e03",
   "metadata": {},
   "outputs": [
    {
     "data": {
      "text/plain": [
       "[3, 2, 1, 0]"
      ]
     },
     "execution_count": 13,
     "metadata": {},
     "output_type": "execute_result"
    }
   ],
   "source": [
    "#Question-3\n",
    "l=[]\n",
    "for i in range(3,-1,-1):\n",
    "    l.append(i)\n",
    "l    "
   ]
  },
  {
   "cell_type": "code",
   "execution_count": 16,
   "id": "b7cd85df",
   "metadata": {},
   "outputs": [
    {
     "data": {
      "text/plain": [
       "[0, 2, 4, 6, 8]"
      ]
     },
     "execution_count": 16,
     "metadata": {},
     "output_type": "execute_result"
    }
   ],
   "source": [
    "#Question-4\n",
    "[i for i in range(0,10) if i%2==0]"
   ]
  },
  {
   "cell_type": "code",
   "execution_count": 21,
   "id": "7fe882f0",
   "metadata": {},
   "outputs": [
    {
     "name": "stdout",
     "output_type": "stream",
     "text": [
      "{1: 1, 2: 4, 3: 9, 4: 16, 5: 25, 6: 36, 7: 49, 8: 64, 9: 81}\n"
     ]
    }
   ],
   "source": [
    "#Question-5\n",
    "print({x:x**2 for x in range(1,10)})"
   ]
  },
  {
   "cell_type": "code",
   "execution_count": 17,
   "id": "d2766a33",
   "metadata": {},
   "outputs": [
    {
     "data": {
      "text/plain": [
       "{1, 3, 5, 7, 9}"
      ]
     },
     "execution_count": 17,
     "metadata": {},
     "output_type": "execute_result"
    }
   ],
   "source": [
    "#Question-6\n",
    "{i for i in range(0,10) if i%2!=0}"
   ]
  },
  {
   "cell_type": "code",
   "execution_count": 23,
   "id": "0669585b",
   "metadata": {},
   "outputs": [
    {
     "name": "stdout",
     "output_type": "stream",
     "text": [
      "got_0 got_1 got_2 got_3 got_4 got_5 got_6 got_7 got_8 got_9 "
     ]
    }
   ],
   "source": [
    "#Question-7\n",
    "got_str=(\"got_\"+ str(x) for x in range(10))\n",
    "for i in got_str:\n",
    "    print(i,end=\" \")"
   ]
  },
  {
   "cell_type": "code",
   "execution_count": 26,
   "id": "c5a85f51",
   "metadata": {},
   "outputs": [
    {
     "data": {
      "text/plain": [
       "['Harry', 'Ron', 'Hermione']"
      ]
     },
     "execution_count": 26,
     "metadata": {},
     "output_type": "execute_result"
    }
   ],
   "source": [
    "#Question-8\n",
    "def good():\n",
    "    x=[\"Harry\", \"Ron\", \"Hermione\"]\n",
    "    return x\n",
    "good()"
   ]
  },
  {
   "cell_type": "code",
   "execution_count": 32,
   "id": "73e69817",
   "metadata": {},
   "outputs": [
    {
     "data": {
      "text/plain": [
       "5"
      ]
     },
     "execution_count": 32,
     "metadata": {},
     "output_type": "execute_result"
    }
   ],
   "source": [
    "#Question-9\n",
    "def get_odds():\n",
    "    l=[]\n",
    "    for i in range(10):\n",
    "        if i%2!=0:\n",
    "            l.append(i)\n",
    "    yield l\n",
    "next(get_odds())[2]"
   ]
  },
  {
   "cell_type": "code",
   "execution_count": 39,
   "id": "be249a60",
   "metadata": {},
   "outputs": [
    {
     "name": "stdout",
     "output_type": "stream",
     "text": [
      "Caught in Oops -> name 'a' is not defined\n"
     ]
    }
   ],
   "source": [
    "#Question-10\n",
    "class OopsException(Exception):\n",
    "    pass\n",
    "def test(input):\n",
    "    if input <0:\n",
    "        raise OopsException(a)\n",
    "try:\n",
    "    test(-100)\n",
    "except Exception as e:\n",
    "    print('Caught in Oops ->',e)"
   ]
  },
  {
   "cell_type": "code",
   "execution_count": null,
   "id": "94f2e0c0",
   "metadata": {},
   "outputs": [],
   "source": [
    "#Question-11\n",
    "titles = ['Creature of Habit', 'Crewel Fate']\n",
    "plots = ['A nun turns into a monster', 'A haunted yarn shop']\n",
    "output = dict(zip(titles,plots))\n",
    "print(output)"
   ]
  }
 ],
 "metadata": {
  "kernelspec": {
   "display_name": "Python 3 (ipykernel)",
   "language": "python",
   "name": "python3"
  },
  "language_info": {
   "codemirror_mode": {
    "name": "ipython",
    "version": 3
   },
   "file_extension": ".py",
   "mimetype": "text/x-python",
   "name": "python",
   "nbconvert_exporter": "python",
   "pygments_lexer": "ipython3",
   "version": "3.9.12"
  }
 },
 "nbformat": 4,
 "nbformat_minor": 5
}
