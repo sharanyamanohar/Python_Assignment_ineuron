{
 "cells": [
  {
   "cell_type": "markdown",
   "id": "6d86c9fa",
   "metadata": {},
   "source": [
    "# Sharanya Assignment -5"
   ]
  },
  {
   "cell_type": "markdown",
   "id": "aace4220",
   "metadata": {},
   "source": [
    "Question-1)What does an empty dictionary's code look like"
   ]
  },
  {
   "cell_type": "markdown",
   "id": "367be80e",
   "metadata": {},
   "source": [
    "Ans1.  dict() and {} is empty dictionary's code look like."
   ]
  },
  {
   "cell_type": "markdown",
   "id": "431ba9dd",
   "metadata": {},
   "source": [
    "Question-2). What is the value of a dictionary value with the key 'foo' and the value 42?   -42"
   ]
  },
  {
   "cell_type": "code",
   "execution_count": 1,
   "id": "7b0a8725",
   "metadata": {},
   "outputs": [
    {
     "data": {
      "text/plain": [
       "42"
      ]
     },
     "execution_count": 1,
     "metadata": {},
     "output_type": "execute_result"
    }
   ],
   "source": [
    "dict1={'foo':42}\n",
    "dict1.get('foo')"
   ]
  },
  {
   "cell_type": "markdown",
   "id": "56dd7173",
   "metadata": {},
   "source": [
    "Question-3). What is the most significant distinction between a dictionary and a list?"
   ]
  },
  {
   "cell_type": "markdown",
   "id": "06b649a7",
   "metadata": {},
   "source": [
    "List elemnets is stored in [] and dictionary elements is stored in {} in which it contains the elments in key,value pair"
   ]
  },
  {
   "cell_type": "markdown",
   "id": "ff9c234b",
   "metadata": {},
   "source": [
    "Question-4). What happens if you try to access spam['foo'] if spam is {'bar': 100}?"
   ]
  },
  {
   "cell_type": "markdown",
   "id": "38a04cb2",
   "metadata": {},
   "source": [
    "It will through as error because on spam dictionary no 'foo' key value is present"
   ]
  },
  {
   "cell_type": "markdown",
   "id": "25d58d7d",
   "metadata": {},
   "source": [
    "Question-5). If a dictionary is stored in spam, what is the difference between the expressions 'cat' in spam and\n",
    "'cat' in spam.keys()?"
   ]
  },
  {
   "cell_type": "code",
   "execution_count": 11,
   "id": "132cd7c6",
   "metadata": {},
   "outputs": [
    {
     "data": {
      "text/plain": [
       "True"
      ]
     },
     "execution_count": 11,
     "metadata": {},
     "output_type": "execute_result"
    }
   ],
   "source": [
    "spam={'cat':23}\n",
    "'cat' in spam"
   ]
  },
  {
   "cell_type": "markdown",
   "id": "a30ae5ac",
   "metadata": {},
   "source": [
    "Both the expression gives the same output,if cat is present on keys then the output through as True and if its not present then ouput through as False.'cat' in spam .keys() in will check all the keys elements whether the cat is present or not"
   ]
  },
  {
   "cell_type": "markdown",
   "id": "bc832273",
   "metadata": {},
   "source": [
    "Question-6). If a dictionary is stored in spam, what is the difference between the expressions 'cat' in spam and 'cat' in spam.values()?"
   ]
  },
  {
   "cell_type": "markdown",
   "id": "27279ddc",
   "metadata": {},
   "source": [
    "At first expression 'cat' in spam it will check whether the cat element is present in keys or not and in 'cat' in spam.values() it will check all the value element in spam,if it present it will give True otherwise False"
   ]
  },
  {
   "cell_type": "raw",
   "id": "24440060",
   "metadata": {},
   "source": [
    "Question-7). What is a shortcut for the following code?\n",
    "if 'color' not in spam:\n",
    "spam['color'] = 'black'"
   ]
  },
  {
   "cell_type": "code",
   "execution_count": 14,
   "id": "3fb9337f",
   "metadata": {},
   "outputs": [
    {
     "data": {
      "text/plain": [
       "'black'"
      ]
     },
     "execution_count": 14,
     "metadata": {},
     "output_type": "execute_result"
    }
   ],
   "source": [
    "#Ans-\n",
    "spam.setdefault('color','black')"
   ]
  },
  {
   "cell_type": "markdown",
   "id": "2d1e40a0",
   "metadata": {},
   "source": [
    "Question-8). How do you 'pretty print' dictionary values using which module and function?"
   ]
  },
  {
   "cell_type": "code",
   "execution_count": 18,
   "id": "2385ff70",
   "metadata": {},
   "outputs": [
    {
     "name": "stdout",
     "output_type": "stream",
     "text": [
      "[{'Age': '23', 'Country': 'USA', 'Name': 'John'},\n",
      " {'Age': '44', 'Country': 'Spain', 'Name': 'Jose'},\n",
      " {'Age': '29', 'Country': 'UK', 'Name': 'Anne'},\n",
      " {'Age': '35', 'Country': 'Japan', 'Name': 'Lee'}]\n"
     ]
    }
   ],
   "source": [
    "import pprint\n",
    "dct_arr = [\n",
    "  {'Name': 'John', 'Age': '23', 'Country': 'USA'},\n",
    "  {'Name': 'Jose', 'Age': '44', 'Country': 'Spain'},\n",
    "  {'Name': 'Anne', 'Age': '29', 'Country': 'UK'},\n",
    "  {'Name': 'Lee', 'Age': '35', 'Country': 'Japan'}\n",
    "]\n",
    "\n",
    "pprint.pprint(dct_arr)"
   ]
  },
  {
   "cell_type": "code",
   "execution_count": 20,
   "id": "58dca008",
   "metadata": {},
   "outputs": [
    {
     "name": "stdout",
     "output_type": "stream",
     "text": [
      "[{'Name': 'John', 'Age': '23', 'Country': 'USA'}, {'Name': 'Jose', 'Age': '44', 'Country': 'Spain'}, {'Name': 'Anne', 'Age': '29', 'Country': 'UK'}, {'Name': 'Lee', 'Age': '35', 'Country': 'Japan'}]\n"
     ]
    }
   ],
   "source": [
    "print(dct_arr)"
   ]
  }
 ],
 "metadata": {
  "kernelspec": {
   "display_name": "Python 3 (ipykernel)",
   "language": "python",
   "name": "python3"
  },
  "language_info": {
   "codemirror_mode": {
    "name": "ipython",
    "version": 3
   },
   "file_extension": ".py",
   "mimetype": "text/x-python",
   "name": "python",
   "nbconvert_exporter": "python",
   "pygments_lexer": "ipython3",
   "version": "3.9.12"
  }
 },
 "nbformat": 4,
 "nbformat_minor": 5
}
