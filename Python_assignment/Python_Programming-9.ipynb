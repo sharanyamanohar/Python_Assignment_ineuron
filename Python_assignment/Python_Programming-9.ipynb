{
 "cells": [
  {
   "cell_type": "code",
   "execution_count": null,
   "id": "73d8cde4",
   "metadata": {},
   "outputs": [],
   "source": []
  },
  {
   "cell_type": "markdown",
   "id": "54470c50",
   "metadata": {},
   "source": [
    "1. To what does a relative path refer?"
   ]
  },
  {
   "cell_type": "markdown",
   "id": "d5093297",
   "metadata": {},
   "source": [
    "Solution-A relative path refers to a location that is relative to a current directory."
   ]
  },
  {
   "cell_type": "markdown",
   "id": "5fce4f50",
   "metadata": {},
   "source": [
    "2. What does an absolute path start with your operating system?"
   ]
  },
  {
   "cell_type": "markdown",
   "id": "8c3318c9",
   "metadata": {},
   "source": [
    "Solution-An absolute path is defined as the specifying the location of a file or directory from the root directory(/). In other words we can say absolute path is a complete path from start of actual filesystem from / directory."
   ]
  },
  {
   "cell_type": "markdown",
   "id": "56e19c19",
   "metadata": {},
   "source": [
    "3. What do the functions os.getcwd() and os.chdir() do?"
   ]
  },
  {
   "cell_type": "markdown",
   "id": "684c8685",
   "metadata": {},
   "source": [
    "Solution- os.getcwd()-tells us the location of current working directory(CWD)\n",
    "\n",
    "         os.chdir()-used to change the current working directory(CWD)"
   ]
  },
  {
   "cell_type": "markdown",
   "id": "36247f98",
   "metadata": {},
   "source": [
    "4. What are the . and .. folders?"
   ]
  },
  {
   "cell_type": "markdown",
   "id": "43652197",
   "metadata": {},
   "source": [
    "Solution-   .folder is the link to current directory whereas ..folder is the link to the parent directory"
   ]
  },
  {
   "cell_type": "markdown",
   "id": "b9cd9c95",
   "metadata": {},
   "source": [
    "5. In C:\\bacon\\eggs\\spam.txt, which part is the dir name, and which part is the base name?"
   ]
  },
  {
   "cell_type": "markdown",
   "id": "c4f451cc",
   "metadata": {},
   "source": [
    "Solution- C:\\bacon\\eggs is the directory name whereas spam.txt is the base name"
   ]
  },
  {
   "cell_type": "markdown",
   "id": "4cc1c38b",
   "metadata": {},
   "source": [
    "6. What are the three “mode” arguments that can be passed to the open() function?"
   ]
  },
  {
   "cell_type": "markdown",
   "id": "83278380",
   "metadata": {},
   "source": [
    "Solution- a) r:Opens the file in read only mode.\n",
    "          b) rb : Opens the file as read-only in binary format and starts reading from the beginning of the file\n",
    "          c)r+ : Opens a file for reading and writing, placing the pointer at the beginning of the file.  "
   ]
  },
  {
   "cell_type": "markdown",
   "id": "5fc1049a",
   "metadata": {},
   "source": [
    "7. What happens if an existing file is opened in write mode?"
   ]
  },
  {
   "cell_type": "markdown",
   "id": "f96b2841",
   "metadata": {},
   "source": [
    "Solution-If a file with the same name already exists, its contents are discarded and the file is treated as a new empty file."
   ]
  },
  {
   "cell_type": "markdown",
   "id": "9efd76ff",
   "metadata": {},
   "source": [
    "8. How do you tell the difference between read() and readlines()?"
   ]
  },
  {
   "cell_type": "markdown",
   "id": "4cb4b9b9",
   "metadata": {},
   "source": [
    "Solution- read() will read the whole file at once and then print out the first characters that take up as many bytes as you specify in the parenthesis versus the readline() that will read and print out only the first characters that take up as many bytes as you specify in the parenthesis"
   ]
  },
  {
   "cell_type": "markdown",
   "id": "9884a11d",
   "metadata": {},
   "source": [
    "9. What data structure does a shelf value resemble?"
   ]
  },
  {
   "cell_type": "markdown",
   "id": "6ee9149e",
   "metadata": {},
   "source": [
    "Solution- Dictionary value()"
   ]
  }
 ],
 "metadata": {
  "kernelspec": {
   "display_name": "Python 3 (ipykernel)",
   "language": "python",
   "name": "python3"
  },
  "language_info": {
   "codemirror_mode": {
    "name": "ipython",
    "version": 3
   },
   "file_extension": ".py",
   "mimetype": "text/x-python",
   "name": "python",
   "nbconvert_exporter": "python",
   "pygments_lexer": "ipython3",
   "version": "3.9.12"
  }
 },
 "nbformat": 4,
 "nbformat_minor": 5
}
