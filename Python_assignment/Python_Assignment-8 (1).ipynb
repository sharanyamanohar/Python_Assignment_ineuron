{
 "cells": [
  {
   "cell_type": "markdown",
   "id": "9ec71b51",
   "metadata": {},
   "source": [
    "#  Sharanya Manohar\n",
    "## Python_Basic_Assignment-8"
   ]
  },
  {
   "cell_type": "markdown",
   "id": "199f6209",
   "metadata": {},
   "source": [
    "#Question-1\n",
    "1. Is the Python Standard Library included with PyInputPlus?\n",
    "\n",
    "Sol: No PyInputPlus is not input library we need to install it seperately by using pip"
   ]
  },
  {
   "cell_type": "markdown",
   "id": "f8908bd3",
   "metadata": {},
   "source": [
    "#Question-2\n",
    "2. Why is PyInputPlus commonly imported with import pyinputplus as pypi?\n",
    "\n",
    "Sol: You can import the module with import pyinputplus as pyip so that you can enter a shorter name when calling the module's functions"
   ]
  },
  {
   "cell_type": "markdown",
   "id": "e8df249a",
   "metadata": {},
   "source": [
    "#Question-3\n",
    "3.How do you distinguish between inputInt() and inputFloat()?\n",
    "\n",
    "Sol:inputInt()-Accepts an integer value. This also takes additional parameters ‘min’, ‘max’, ‘greaterThan’ and ‘lessThan’  for bounds. Returns an int.\n",
    "inputFloat()- Accepts a floating-point numeric value. Also takes additional ‘min’, ‘max’, ‘greaterThan’ and ‘lessThan’  parameters. Returns a float."
   ]
  },
  {
   "cell_type": "markdown",
   "id": "2302c101",
   "metadata": {},
   "source": [
    "#Question-4\n",
    "4.Using PyInputPlus, how do you ensure that the user enters a whole number between 0 and 99?\n",
    "\n",
    "Sol:By using pyip. inputint(min=1, max=100) "
   ]
  },
  {
   "cell_type": "markdown",
   "id": "74d6e8d1",
   "metadata": {},
   "source": [
    "#Question-5\n",
    "5.What is transferred to the keyword arguments allowRegexes and blockRegexes?\n",
    "\n",
    "Sol:We can also use regular expressions to specify whether an input is allowed or not. The allowRegexes and blockRegexes\n",
    "keyword arguments take a list of regular expression strings to determine what the PyInputPlus function will accept or reject as valid input."
   ]
  },
  {
   "cell_type": "markdown",
   "id": "ab3eab3b",
   "metadata": {},
   "source": [
    "#Question-6\n",
    "6.If a blank input is entered three times, what does inputStr(limit=3) do?\n",
    "\n",
    "Sol:The function will raise RetryLimitException"
   ]
  },
  {
   "cell_type": "markdown",
   "id": "7857b0c6",
   "metadata": {},
   "source": [
    "#Question-7\n",
    "7.If blank input is entered three times, what does inputStr(limit=3, default='hello') do?\n",
    "\n",
    "Sol:When you use limit keyword arguments and also pass a default keyword argument, the function returns the default value instead of raising an exception"
   ]
  }
 ],
 "metadata": {
  "kernelspec": {
   "display_name": "Python 3 (ipykernel)",
   "language": "python",
   "name": "python3"
  },
  "language_info": {
   "codemirror_mode": {
    "name": "ipython",
    "version": 3
   },
   "file_extension": ".py",
   "mimetype": "text/x-python",
   "name": "python",
   "nbconvert_exporter": "python",
   "pygments_lexer": "ipython3",
   "version": "3.9.12"
  }
 },
 "nbformat": 4,
 "nbformat_minor": 5
}
