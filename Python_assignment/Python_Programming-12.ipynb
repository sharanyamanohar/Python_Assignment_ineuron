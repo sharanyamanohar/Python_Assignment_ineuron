{
 "cells": [
  {
   "cell_type": "markdown",
   "id": "eb37e44b",
   "metadata": {},
   "source": [
    "## Sharanya Manohar\n",
    "## Python Assignment -12"
   ]
  },
  {
   "cell_type": "markdown",
   "id": "618d048e",
   "metadata": {},
   "source": [
    "1. In what modes should the PdfFileReader() and PdfFileWriter() File objects will be opened?"
   ]
  },
  {
   "cell_type": "markdown",
   "id": "55c1176b",
   "metadata": {},
   "source": [
    "For PdfFileReader() file objects will be opened in rb in which it read in binary mode whereas PdfFileWriter() file objects will be opened in wb it write in binary mode"
   ]
  },
  {
   "cell_type": "code",
   "execution_count": 29,
   "id": "e39f2166",
   "metadata": {},
   "outputs": [
    {
     "name": "stdout",
     "output_type": "stream",
     "text": [
      "Collecting PyPDF2\n",
      "  Downloading pypdf2-2.11.2-py3-none-any.whl (220 kB)\n",
      "Requirement already satisfied: typing_extensions>=3.10.0.0 in c:\\users\\admin\\anaconda3\\lib\\site-packages (from PyPDF2) (4.1.1)\n",
      "Installing collected packages: PyPDF2\n",
      "Successfully installed PyPDF2-2.11.2\n"
     ]
    }
   ],
   "source": [
    "!pip install PyPDF2"
   ]
  },
  {
   "cell_type": "markdown",
   "id": "d28a66f8",
   "metadata": {},
   "source": [
    "2. From a PdfFileReader object, how do you get a Page object for page 5?"
   ]
  },
  {
   "cell_type": "markdown",
   "id": "dfefa294",
   "metadata": {},
   "source": [
    "Calling getPage(4) will return a Page object for page 5 since page 0 is the first page"
   ]
  },
  {
   "cell_type": "code",
   "execution_count": 34,
   "id": "6e072df8",
   "metadata": {},
   "outputs": [
    {
     "name": "stderr",
     "output_type": "stream",
     "text": [
      " 2022-12-10 17:05:22,809 - WARNING - Xref table not zero-indexed. ID numbers for objects will be corrected.\n"
     ]
    },
    {
     "data": {
      "text/plain": [
       "'git config --global \\nuser.name <name>Define the author name to be used for all commits by the current user.GIT CONFIG\\ngit config --global \\nuser.email <email>Define the author email to be used for all commits by the current user.\\ngit config --global \\nalias. <alias-name> \\n<git-command>Create shortcut for a Git command. E.g. alias.glog “log --graph  \\n--oneline”  will set ”git glog”  equivalent to ”git  log --graph--oneline.\\ngit config --system \\ncore.editor <editor>Set text editor used by commands for all users on the machine. <editor> \\narg should be the command that launches the desired editor (e.g., vi).\\nOpen the global configuration file in a text editor for manual editing.git config  \\n--global --edit\\nLimit number of commits by <limit> . \\nE.g. ”git log -5”  will limit to 5 commits.git log -<limit>\\nInclude which files were altered and the relative number of \\nlines that were added or deleted from each of them.git log --oneline\\nDisplay the full diff of each commit.\\ngit log --stat\\nSearch for commits by a particular author.git log -p\\ngit log --author=  \\n”<pattern>”\\nShow commits that occur between <since>  and <until> . Args can be a \\ncommit ID, branch name, HEAD , or any other kind of revision reference.git log \\n--grep=”<pattern>”\\ngit log \\n<since>..<until>\\nOnly display commits that have the specified file. git log -- <file>\\n--graph  flag draws a text based graph of commits on left side of commit \\nmsgs. --decorate  adds names of branches or tags of commits shown.git log --graph \\n--decorategit diff HEAD Show difference between working directory and last commit.\\ngit diff --cached Show difference between staged changes and last commit\\ngit resetReset staging area to match most recent commit, \\nbut leave the working directory unchanged.\\ngit reset --hardReset staging area and working directory to match most recent \\ncommit and overwrites all changes  in the working directory.\\ngit reset <commit>Move the current branch tip backward to <commit> , reset the \\nstaging area to match, but leave the working directory alone.\\ngit reset --hard \\n<commit>Same as previous, but resets both the staging area & working directory to \\nmatch. Deletes  uncommitted changes, and all commits after  <commit>.GIT RESET\\nGIT REBASE\\ngit rebase -i \\n<base>Interactively rebase current branch onto <base> . Launches editor to enter \\ncommands for how each commit will be transferred to the new base.\\nGIT PULL\\ngit pull --rebase \\n<remote>Fetch the remote’s copy of current branch and rebases it into the local\\ncopy. Uses git rebase instead of merge to integrate the branches.\\nGIT PUSH\\ngit push <remote> \\n--forceForces the  git push   even if it results in a non-fast-forward merge. Do not use \\nthe --force  flag unless you’re absolutely sure you know what you’re doing.\\ngit push <remote> \\n--allPush all of your local branches to the specified remote.\\ngit push <remote> \\n--tagsTags aren’t automatically pushed when you push a branch or use the\\n--all flag. The --tags  flag sends all of your local tags to the remote repo.Additional Options +\\nVisit atlassian.com/git  for more information, training, and tutorialsGIT DIFF\\nGIT LOG\\nCondense each commit to a single line.\\nSearch for commits with a commit message that \\nmatches <pattern> .'"
      ]
     },
     "execution_count": 34,
     "metadata": {},
     "output_type": "execute_result"
    }
   ],
   "source": [
    "import PyPDF2 as pdf\n",
    "pdfFileObj = open(\"Atlassian-Git-Cheatsheet.pdf\",'rb')\n",
    "pdfReader = pdf.PdfFileReader(pdfFileObj)\n",
    "pageObj = pdfReader.getPage(1)\n",
    "pageObj.extractText()"
   ]
  },
  {
   "cell_type": "markdown",
   "id": "9fa875de",
   "metadata": {},
   "source": [
    "3. What PdfFileReader variable stores the number of pages in the PDF document?"
   ]
  },
  {
   "cell_type": "code",
   "execution_count": 35,
   "id": "2a6e4587",
   "metadata": {},
   "outputs": [
    {
     "name": "stderr",
     "output_type": "stream",
     "text": [
      " 2022-12-10 17:09:02,681 - WARNING - Xref table not zero-indexed. ID numbers for objects will be corrected.\n"
     ]
    },
    {
     "data": {
      "text/plain": [
       "2"
      ]
     },
     "execution_count": 35,
     "metadata": {},
     "output_type": "execute_result"
    }
   ],
   "source": [
    "import PyPDF2 as pdf\n",
    "pdfFileObj = open(\"Atlassian-Git-Cheatsheet.pdf\",'rb')\n",
    "pdfReader = pdf.PdfFileReader(pdfFileObj)\n",
    "pdfReader.numPages"
   ]
  },
  {
   "cell_type": "markdown",
   "id": "d7c2c777",
   "metadata": {},
   "source": [
    "4. If a PdfFileReader object’s PDF is encrypted with the password swordfish, what must you do before you can obtain Page objects from it?"
   ]
  },
  {
   "cell_type": "markdown",
   "id": "ac460b09",
   "metadata": {},
   "source": [
    "Before we obtain the page object, the pdf has to be decrypted by calling .decrypt('swordfish')"
   ]
  },
  {
   "cell_type": "markdown",
   "id": "26ffae18",
   "metadata": {},
   "source": [
    "5. What methods do you use to rotate a page?"
   ]
  },
  {
   "cell_type": "markdown",
   "id": "2ba1d11f",
   "metadata": {},
   "source": [
    "The rotateClockwise() and rotateCounterClockwise() methods"
   ]
  },
  {
   "cell_type": "markdown",
   "id": "78b1a35d",
   "metadata": {},
   "source": [
    "6. What is the difference between a Run object and a Paragraph object?"
   ]
  },
  {
   "cell_type": "markdown",
   "id": "9cc9485c",
   "metadata": {},
   "source": [
    "Paragraph Object : A document contains multiple paragraphs. A paragraph begins on a new line and contains multiple runs. The Document object contains a list of Paragraph objects for the paragraphs in the document. (A new paragraph begins whenever the user presses ENTER or RETURN while typing in a Word document.)\n",
    "\n",
    "Run Objects : Runs are contiguous groups of characters within a paragraph with the same style"
   ]
  },
  {
   "cell_type": "markdown",
   "id": "26797e71",
   "metadata": {},
   "source": [
    "7. How do you obtain a list of Paragraph objects for a Document object that’s stored in a variable\n",
    "named doc?"
   ]
  },
  {
   "cell_type": "code",
   "execution_count": null,
   "id": "ab6671c8",
   "metadata": {},
   "outputs": [],
   "source": [
    "import docx\n",
    "doc = docx.Document('abc.docx')\n",
    "doc.paragraphs"
   ]
  },
  {
   "cell_type": "markdown",
   "id": "492690e7",
   "metadata": {},
   "source": [
    "8. What type of object has bold, underline, italic, strike, and outline variables?"
   ]
  },
  {
   "cell_type": "markdown",
   "id": "9746bf95",
   "metadata": {},
   "source": [
    "A Run object has bold, underline,italic,strike and outline variables"
   ]
  },
  {
   "cell_type": "markdown",
   "id": "770b4efc",
   "metadata": {},
   "source": [
    "9. What is the difference between False, True, and None for the bold variable?"
   ]
  },
  {
   "cell_type": "markdown",
   "id": "6aa73d26",
   "metadata": {},
   "source": [
    "True always makes the Run object bolded and False makes it always not bolded, no matter what the style’s bold setting is. None will make the Run object just use the style’s bold setting"
   ]
  },
  {
   "cell_type": "markdown",
   "id": "2d6711c0",
   "metadata": {},
   "source": [
    "10. How do you create a Document object for a new Word document?"
   ]
  },
  {
   "cell_type": "markdown",
   "id": "d5b1d9a3",
   "metadata": {},
   "source": [
    "By Calling the docx.Document() function."
   ]
  },
  {
   "cell_type": "markdown",
   "id": "8c43ff35",
   "metadata": {},
   "source": [
    "11. How do you add a paragraph with the text 'Hello, there!' to a Document object stored in a variable named doc?"
   ]
  },
  {
   "cell_type": "code",
   "execution_count": 37,
   "id": "e8a79d77",
   "metadata": {},
   "outputs": [
    {
     "name": "stdout",
     "output_type": "stream",
     "text": [
      "Collecting python-docx\n",
      "  Using cached python-docx-0.8.11.tar.gz (5.6 MB)\n",
      "Requirement already satisfied: lxml>=2.3.2 in c:\\users\\admin\\anaconda3\\lib\\site-packages (from python-docx) (4.8.0)\n",
      "Building wheels for collected packages: python-docx\n",
      "  Building wheel for python-docx (setup.py): started\n",
      "  Building wheel for python-docx (setup.py): finished with status 'done'\n",
      "  Created wheel for python-docx: filename=python_docx-0.8.11-py3-none-any.whl size=184489 sha256=80d76721af175e8aa73c6d975da8baf67335120292a7424dbc61807600cacf2e\n",
      "  Stored in directory: c:\\users\\admin\\appdata\\local\\pip\\cache\\wheels\\83\\8b\\7c\\09ae60c42c7ba4ed2dddaf2b8b9186cb105255856d6ed3dba5\n",
      "Successfully built python-docx\n",
      "Installing collected packages: python-docx\n",
      "Successfully installed python-docx-0.8.11\n",
      "Note: you may need to restart the kernel to use updated packages.\n"
     ]
    }
   ],
   "source": [
    "pip install python-docx"
   ]
  },
  {
   "cell_type": "code",
   "execution_count": 38,
   "id": "b95ca4a1",
   "metadata": {},
   "outputs": [],
   "source": [
    "import docx\n",
    "doc = docx.Document()\n",
    "\n",
    "doc.add_paragraph('Hello there!')\n",
    "doc.save('hellothere.docx')"
   ]
  },
  {
   "cell_type": "markdown",
   "id": "a1ba709f",
   "metadata": {},
   "source": [
    "12.What integers represent the levels of headings available in Word documents?"
   ]
  },
  {
   "cell_type": "markdown",
   "id": "4c6f8b7d",
   "metadata": {},
   "source": [
    "integer from 0 to 4\n",
    "The arguments to add_heading() are a string of the heading text and an integer from 0 to 4. The integer 0 makes the heading the Title style, which is used for the top of the document. Integers 1 to 4 are for various heading levels, with 1 being the main heading and 4 the lowest subheading"
   ]
  }
 ],
 "metadata": {
  "kernelspec": {
   "display_name": "Python 3 (ipykernel)",
   "language": "python",
   "name": "python3"
  },
  "language_info": {
   "codemirror_mode": {
    "name": "ipython",
    "version": 3
   },
   "file_extension": ".py",
   "mimetype": "text/x-python",
   "name": "python",
   "nbconvert_exporter": "python",
   "pygments_lexer": "ipython3",
   "version": "3.9.12"
  }
 },
 "nbformat": 4,
 "nbformat_minor": 5
}
