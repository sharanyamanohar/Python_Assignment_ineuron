{
 "cells": [
  {
   "cell_type": "markdown",
   "id": "6ead86d0",
   "metadata": {},
   "source": [
    "# Sharanya Manohar\n",
    "## Python Assignment-24"
   ]
  },
  {
   "cell_type": "markdown",
   "id": "a1a00a10",
   "metadata": {},
   "source": [
    "1. What is the relationship between def statements and lambda expressions ?\n",
    "2. What is the benefit of lambda?\n",
    "3. Compare and contrast map, filter, and reduce.\n",
    "4. What are function annotations, and how are they used?\n",
    "5. What are recursive functions, and how are they used?\n",
    "6. What are some general design guidelines for coding functions?\n",
    "7. Name three or more ways that functions can communicate results to a caller."
   ]
  },
  {
   "cell_type": "markdown",
   "id": "41cde77f",
   "metadata": {},
   "source": [
    "#Solution-1\n",
    "\n",
    "Lambda Function, also referred to as 'Anonymous function' is same as a regular python function but can be defined without a name. While normal functions are defined using the def keyword, anonymous functions are defined using the lambda keyword.In def defined function we can perform n times of opeartion at a time byt in lambda expression only limited number of operation performed at a time"
   ]
  },
  {
   "cell_type": "markdown",
   "id": "7cb36e1d",
   "metadata": {},
   "source": [
    "#Solution-2\n",
    "\n",
    "The lambda keyword in Python provides a shortcut for declaring small anonymous functions.Lambda enables you to use functions with pre-trained machine learning models to inject artificial intelligence into applications easily. A single application programming interface (API) request can classify images, analyze videos, convert speech to text, perform natural language processing, and more."
   ]
  },
  {
   "cell_type": "markdown",
   "id": "d2d87252",
   "metadata": {},
   "source": [
    "#Solution-3\n",
    "\n",
    "The functions map(), filter(), and reduce() all do the same thing: They each take a function and a list of elements, and then return the result of applying the function to each element in the list.Both map and reduce have as input the array and a function you define. They are in some way complementary: map cannot return one single element for an array of multiple elements, while reduce will always return the accumulator you eventually changed."
   ]
  },
  {
   "cell_type": "markdown",
   "id": "ba5a829a",
   "metadata": {},
   "source": [
    "#Solution-4\n",
    "\n",
    "Function annotations are arbitrary python expressions that are associated with various part of functions. These expressions are evaluated at compile time and have no life in python's runtime environment. Python does not attach any meaning to these annotations."
   ]
  },
  {
   "cell_type": "markdown",
   "id": "2126c9cd",
   "metadata": {},
   "source": [
    "#Solution-5\n",
    "\n",
    "A recursive function is a function in code that refers to itself for execution. Recursive functions can be simple or elaborate. They allow for more efficient code writing, for instance, in the listing or compiling of sets of numbers, strings or other variables through a single reiterated process."
   ]
  },
  {
   "cell_type": "markdown",
   "id": "e0a617d0",
   "metadata": {},
   "source": [
    "#Solution-6\n",
    "\n",
    "Use 4 spaces instead of tabs.\n",
    "Maximum line length is 120 symbols.\n",
    "2 blank lines between classes and functions.\n",
    "1 blank line within class between class methods.\n",
    "No blank line following a def line.\n",
    "No whitespace inside parentheses, brackets, or braces."
   ]
  },
  {
   "cell_type": "markdown",
   "id": "09bcc261",
   "metadata": {},
   "source": [
    "#Solution-7\n",
    "\n",
    "1)def function_name():   \n",
    "  str = function_name('hello') \n",
    "  print(str)"
   ]
  },
  {
   "cell_type": "markdown",
   "id": "cca35283",
   "metadata": {},
   "source": [
    "2) def fun():\n",
    "    print(\"Hello\")\n",
    "   fun() "
   ]
  },
  {
   "cell_type": "markdown",
   "id": "3b324a6d",
   "metadata": {},
   "source": [
    "3)Nested fun\n",
    "\n",
    "def OutFun(): # outer function  \n",
    "    print(\"Hello, it is the outer function\")  \n",
    "      \n",
    "    def InFun(): # inner function  \n",
    "        print(\"Hello, It is the inner function\")  \n",
    "    InFun() # call inner   \n",
    "  \n",
    "OutFun() # call outer function   "
   ]
  }
 ],
 "metadata": {
  "kernelspec": {
   "display_name": "Python 3 (ipykernel)",
   "language": "python",
   "name": "python3"
  },
  "language_info": {
   "codemirror_mode": {
    "name": "ipython",
    "version": 3
   },
   "file_extension": ".py",
   "mimetype": "text/x-python",
   "name": "python",
   "nbconvert_exporter": "python",
   "pygments_lexer": "ipython3",
   "version": "3.9.12"
  }
 },
 "nbformat": 4,
 "nbformat_minor": 5
}
