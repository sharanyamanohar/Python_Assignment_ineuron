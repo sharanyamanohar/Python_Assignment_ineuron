{
 "cells": [
  {
   "cell_type": "markdown",
   "id": "4e9a725c",
   "metadata": {},
   "source": [
    "# Sharanya Manohar\n",
    "## Python Advanced-2"
   ]
  },
  {
   "cell_type": "markdown",
   "id": "6a0c2a3c",
   "metadata": {},
   "source": [
    "Q1. What is the relationship between classes and modules?"
   ]
  },
  {
   "cell_type": "markdown",
   "id": "6770f973",
   "metadata": {},
   "source": [
    "Solution-\n",
    "\n",
    "Classes-In OOPS,the class is a blue print of creating object.Providing initial value for state(variables or attributes) and implementation of behavior(functions or methods).The user defined objects are created using class keyword.\n",
    "Modules-A module is a named collection of declarations (fields, methods, classes, interfaces, sub-modules, etc.) In object-oriented programming modules usually correspond to classes, packages, files, and components.\n",
    "\n",
    "Modules are collections of methods and constants. They cannot generate instances. Classes may generate instances (objects), and have per-instance state (instance variables)."
   ]
  },
  {
   "cell_type": "markdown",
   "id": "a852fcb8",
   "metadata": {},
   "source": [
    "Q2. How do you make instances and classes?"
   ]
  },
  {
   "cell_type": "markdown",
   "id": "f8b4f7e4",
   "metadata": {},
   "source": [
    "Solution-\n",
    "Instance is an object that belongs to class\n",
    " For creating a class instance. we call a class by its name and pass the arguments which its __init__ method accepts.\n",
    "\n",
    "Example: vishwak = employee('Male',20000), Here vishwak is an instance of class employee with attriubutes 'Male' and 20000.\n",
    "\n",
    "Whereas for creating a class, we use the Class keyword. Class keyword is followed by classname and semicolon.\n",
    "\n",
    "Example: Here Employee is a class created with class keyword with arguments gender and salary.\n",
    "\n",
    "class Employee: def __init__(self, gender,salary): self.gender = gender self.salary = salary"
   ]
  },
  {
   "cell_type": "markdown",
   "id": "468f1528",
   "metadata": {},
   "source": [
    "Q3. Where and how should be class attributes created?"
   ]
  },
  {
   "cell_type": "markdown",
   "id": "6b1104ec",
   "metadata": {},
   "source": [
    "Solution-\n",
    "Class attributes or Class level Attributes belong to the class itself. these attributes will be shared by all the instances of the class. Hence these attributes are usually created/defined in the top of class definiation outside all methods.\n",
    "\n",
    "Example: In the below code we are defining a class attribute called no_of_wheels which will be shared by all the instances of the class Car\n",
    "\n",
    "class Car: no_of_wheels = 4; # this is a class attribute def __init__(self,color,price,engine): self.color = color # All this are instance attributes self.price = price self.engine = engine"
   ]
  },
  {
   "cell_type": "markdown",
   "id": "df8b4238",
   "metadata": {},
   "source": [
    "Q4. Where and how are instance attributes created?"
   ]
  },
  {
   "cell_type": "markdown",
   "id": "dab36933",
   "metadata": {},
   "source": [
    "Solution-\n",
    "Instances attributes are passed to the class when an object of the class is created. Unlike class attributes, instance attributes are not shared by all objects of the classs. instead each object maintains its own copy of instance attributes at object level. whereas incase of class attributes all instances of class refer to a single copy. Usually instance attributes are defined within the __init__ method of class\n",
    "Example: In the below sample code we are creating a class Car with instance varaibles color, price, engine, which will be provided when an instance of class Car is created.\n",
    "\n",
    "class Car: def __init__(self,color,price,engine): self.color = color # All this are instance attributes self.price = price self.engine = engine\n",
    "\n",
    "nexon_ev = Car('Indigo Blue', 1400000, 'electric')\n",
    "safari = Car('Pearl White',2100000, 'petrol')\n",
    "\n",
    "nexon_ev, safari are both the instances of class Car with different instance variables."
   ]
  },
  {
   "cell_type": "markdown",
   "id": "2d52d517",
   "metadata": {},
   "source": [
    "Q5. What does the term &quot;self&quot; in a Python class mean?"
   ]
  },
  {
   "cell_type": "markdown",
   "id": "61b9877c",
   "metadata": {},
   "source": [
    "Solution-\n",
    "\n",
    "self represents the instance of the class (it represents the object itself). By using the “self” keyword we can access the attributes and methods of the class with in the class in python. It binds the attributes with the given arguments."
   ]
  },
  {
   "cell_type": "markdown",
   "id": "45d931ec",
   "metadata": {},
   "source": [
    "Q6. How does a Python class handle operator overloading?"
   ]
  },
  {
   "cell_type": "markdown",
   "id": "71b94125",
   "metadata": {},
   "source": [
    "Solution-\n",
    "\n",
    "Python Classes handle operator overloading by using special methods called Magic methods. these special methods usually begin and end with __ (double underscore)\n",
    "Example: Magic methods for basic arithmetic operators are:\n",
    "\n",
    "+ -> __add__()\n",
    "- -> __sub__()\n",
    "* -> __mul__()\n",
    "/ -> __div__()"
   ]
  },
  {
   "cell_type": "markdown",
   "id": "92a8916f",
   "metadata": {},
   "source": [
    "Q7. When do you consider allowing operator overloading of your classes?"
   ]
  },
  {
   "cell_type": "markdown",
   "id": "beb10fcb",
   "metadata": {},
   "source": [
    "Solution-\n",
    "\n",
    "When we want to have different meaning for the same operator accroding to the context we use operator overloading."
   ]
  },
  {
   "cell_type": "markdown",
   "id": "e8c92173",
   "metadata": {},
   "source": [
    "Q8. What is the most popular form of operator overloading?"
   ]
  },
  {
   "cell_type": "markdown",
   "id": "6afccb9e",
   "metadata": {},
   "source": [
    "Solution-\n",
    "\n",
    "The most popular form of operator overloading in python is by special methods called Magic methods. Which usually beign and end with double underscore ____"
   ]
  },
  {
   "cell_type": "markdown",
   "id": "038490f5",
   "metadata": {},
   "source": [
    "Q9. What are the two most important concepts to grasp in order to comprehend Python OOP code?"
   ]
  },
  {
   "cell_type": "markdown",
   "id": "e4758f1c",
   "metadata": {},
   "source": [
    "Solution-\n",
    "\n",
    "Classes and objects are the two concepts to comprehend python OOP code as more formally objects are entities that represent instances of general abstract concept called class\n",
    "\n",
    "Along with classes and objects the important concepts to grasp are:\n",
    "\n",
    "Inheritence\n",
    "Abstraction\n",
    "Polymorphism\n",
    "Encapsulation"
   ]
  }
 ],
 "metadata": {
  "kernelspec": {
   "display_name": "Python 3 (ipykernel)",
   "language": "python",
   "name": "python3"
  },
  "language_info": {
   "codemirror_mode": {
    "name": "ipython",
    "version": 3
   },
   "file_extension": ".py",
   "mimetype": "text/x-python",
   "name": "python",
   "nbconvert_exporter": "python",
   "pygments_lexer": "ipython3",
   "version": "3.9.12"
  }
 },
 "nbformat": 4,
 "nbformat_minor": 5
}
